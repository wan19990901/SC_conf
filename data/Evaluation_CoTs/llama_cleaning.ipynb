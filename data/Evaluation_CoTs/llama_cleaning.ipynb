{
 "cells": [
  {
   "cell_type": "code",
   "execution_count": 2,
   "metadata": {},
   "outputs": [],
   "source": [
    "import pandas as pd\n",
    "import os"
   ]
  },
  {
   "cell_type": "code",
   "execution_count": 39,
   "metadata": {},
   "outputs": [
    {
     "name": "stdout",
     "output_type": "stream",
     "text": [
      "(500, 124)\n",
      "MathQA_easy.csv\n",
      "(500, 124)\n",
      "BigBench_easy.csv\n",
      "(500, 124)\n",
      "MathQA_hard.csv\n",
      "(500, 124)\n",
      "BigBench_hard.csv\n",
      "(500, 124)\n",
      "GSM8K_hard.csv\n",
      "(500, 124)\n",
      "GSM8K_easy.csv\n"
     ]
    }
   ],
   "source": [
    "def load_data(main_dir, subdirectories):\n",
    "    dataframes = []\n",
    "    for subdir in subdirectories:\n",
    "        for file in os.listdir(os.path.join(main_dir, subdir)):\n",
    "            if file.endswith('.csv'):\n",
    "                difficulty = 'easy' if 'easy' in file else 'hard'\n",
    "                df = pd.read_csv(os.path.join(main_dir, subdir, file))\n",
    "                print(df.shape)\n",
    "                print(file)\n",
    "                df['Difficulty'] = difficulty\n",
    "                df['Model'] = subdir\n",
    "                dataframes.append(df)\n",
    "    return pd.concat(dataframes, ignore_index=True)\n",
    "\n",
    "main_dir = \"\"\n",
    "subdirectories = ['llama3']\n",
    "final_df = load_data(main_dir, subdirectories)\n",
    "\n",
    "import re\n",
    "import pandas as pd\n",
    "\n",
    "def extract_answers(df):\n",
    "    def extract_answer(name, string):\n",
    "        if name in [\"GSM8K_hard\", \"GSM8K_test\"]:\n",
    "            # Extract the last appearing digit, with or without comma separation\n",
    "            match = re.findall(r'\\d+(?:,\\d+)*', string)\n",
    "            if match:\n",
    "                return match[-1].replace(',', '')\n",
    "            else:\n",
    "                return \"Error: No digits found in the string.\"\n",
    "        else:\n",
    "            # Find the first option (A, B, C, D, or E) after \"therefore\", \"so\", or \"thus\"\n",
    "            match = re.search(r'(?i)(therefore|so|thus).*?(?P<option>(?:(?:[Aa])|(?:\\(?[Aa]\\)?))|(?:(?:[Bb])|(?:\\(?[Bb]\\)?))|(?:(?:[Cc])|(?:\\(?[Cc]\\)?))|(?:(?:[Dd])|(?:\\(?[Dd]\\)?))|(?:(?:[Ee])|(?:\\(?[Ee]\\)?)))', string)\n",
    "            if match:\n",
    "                return re.sub(r'[()]', '', match.group('option')).upper()\n",
    "            else:\n",
    "                # Find the last appearing option\n",
    "                match = re.findall(r'(?i)(?P<option>(?:(?:[Aa])|(?:\\(?[Aa]\\)?))|(?:(?:[Bb])|(?:\\(?[Bb]\\)?))|(?:(?:[Cc])|(?:\\(?[Cc]\\)?))|(?:(?:[Dd])|(?:\\(?[Dd]\\)?))|(?:(?:[Ee])|(?:\\(?[Ee]\\)?)))', string)\n",
    "                if match:\n",
    "                    return re.sub(r'[()]', '', match[-1]).upper()\n",
    "                else:\n",
    "                    return \"Error: No valid options found in the string.\"\n",
    "\n",
    "    for i in range(40):\n",
    "        df[f'Final Answer_{i}'] = df.apply(lambda row: extract_answer(row['Name'], row[f'CoT_{i}']), axis=1)\n",
    "\n",
    "    return df\n",
    "\n",
    "llama3 = extract_answers(final_df)\n",
    "\n",
    "llama3.to_csv('llama3_cleaned/full.csv', index=False)"
   ]
  },
  {
   "cell_type": "code",
   "execution_count": null,
   "metadata": {},
   "outputs": [],
   "source": []
  }
 ],
 "metadata": {
  "kernelspec": {
   "display_name": "env1",
   "language": "python",
   "name": "python3"
  },
  "language_info": {
   "codemirror_mode": {
    "name": "ipython",
    "version": 3
   },
   "file_extension": ".py",
   "mimetype": "text/x-python",
   "name": "python",
   "nbconvert_exporter": "python",
   "pygments_lexer": "ipython3",
   "version": "3.11.5"
  }
 },
 "nbformat": 4,
 "nbformat_minor": 2
}
