{
 "cells": [
  {
   "cell_type": "code",
   "execution_count": 1,
   "metadata": {},
   "outputs": [
    {
     "name": "stdout",
     "output_type": "stream",
     "text": [
      "File 'GPT4_result/gsm8k/gsm8k_cleaned.csv' has been read as a DataFrame.\n",
      "No file ending with f'_cleaned.csv' found in the directory.\n",
      "No file ending with f'_cleaned.csv' found in the directory.\n",
      "No file ending with f'_cleaned.csv' found in the directory.\n",
      "No file ending with f'_cleaned.csv' found in the directory.\n",
      "No file ending with f'_cleaned.csv' found in the directory.\n",
      "No file ending with f'_cleaned.csv' found in the directory.\n",
      "File 'GPT4_result/common/common_cleaned.csv' has been read as a DataFrame.\n",
      "File 'GPT4_result/strategy/strategy_cleaned.csv' has been read as a DataFrame.\n",
      "No file ending with f'_cleaned.csv' found in the directory.\n",
      "No file ending with f'_cleaned.csv' found in the directory.\n",
      "File 'GPT4_result/last_letters/last_letters_cleaned.csv' has been read as a DataFrame.\n",
      "No file ending with f'_cleaned.csv' found in the directory.\n",
      "No file ending with f'_cleaned.csv' found in the directory.\n",
      "File 'GPT3.5_result/gsm8k/gsm8k_cleaned.csv' has been read as a DataFrame.\n",
      "No file ending with f'_cleaned.csv' found in the directory.\n",
      "No file ending with f'_cleaned.csv' found in the directory.\n",
      "No file ending with f'_cleaned.csv' found in the directory.\n",
      "File 'GPT3.5_result/common/common_cleaned.csv' has been read as a DataFrame.\n",
      "No file ending with f'_cleaned.csv' found in the directory.\n",
      "File 'GPT3.5_result/strategy/strategy_cleaned.csv' has been read as a DataFrame.\n",
      "No file ending with f'_cleaned.csv' found in the directory.\n",
      "File 'GPT3.5_result/last_letters/last_letters_cleaned.csv' has been read as a DataFrame.\n",
      "No file ending with f'_cleaned.csv' found in the directory.\n",
      "File 'Llama2_result/gsm8k/gsm8k_cleaned.csv' has been read as a DataFrame.\n",
      "No file ending with f'_cleaned.csv' found in the directory.\n",
      "No file ending with f'_cleaned.csv' found in the directory.\n",
      "No file ending with f'_cleaned.csv' found in the directory.\n",
      "File 'Llama2_result/common/common_cleaned.csv' has been read as a DataFrame.\n",
      "No file ending with f'_cleaned.csv' found in the directory.\n",
      "File 'Llama2_result/strategy/strategy_cleaned.csv' has been read as a DataFrame.\n",
      "No file ending with f'_cleaned.csv' found in the directory.\n",
      "File 'Llama2_result/last_letters/last_letters_cleaned.csv' has been read as a DataFrame.\n",
      "No file ending with f'_cleaned.csv' found in the directory.\n"
     ]
    }
   ],
   "source": [
    "import os\n",
    "import pandas as pd\n",
    "\n",
    "\n",
    "li_of_data = []\n",
    "# List the names of directories in the current working directory\n",
    "model_names = [name for name in os.listdir() if os.path.isdir(name)]\n",
    "for model in model_names:\n",
    "    benchmark_names = [name for name in os.listdir(model) if os.path.isdir(f'{model}/{name}')]\n",
    "    for benchmark in benchmark_names:\n",
    "        directory = f'{model}/{benchmark}'\n",
    "        for file_name in os.listdir(directory):\n",
    "            if file_name.endswith(f\"_cleaned.csv\"):\n",
    "                file_path = os.path.join(directory, file_name)\n",
    "                try:\n",
    "                    df = pd.read_csv(file_path)\n",
    "                except:\n",
    "                    continue\n",
    "                df['Name'] = [benchmark for i in range(len(df))]\n",
    "                df['Model'] = [model.split('_')[0] for i in range(len(df))]\n",
    "                li_of_data.append(df)\n",
    "                print(f\"File '{file_path}' has been read as a DataFrame.\")\n",
    "            else:\n",
    "                print(\"No file ending with f'_cleaned.csv' found in the directory.\")\n",
    "df_all = pd.concat(li_of_data,ignore_index=True)"
   ]
  },
  {
   "cell_type": "code",
   "execution_count": 1,
   "metadata": {},
   "outputs": [],
   "source": [
    "import os\n",
    "import pandas as pd"
   ]
  },
  {
   "cell_type": "code",
   "execution_count": null,
   "metadata": {},
   "outputs": [],
   "source": []
  }
 ],
 "metadata": {
  "kernelspec": {
   "display_name": "env1",
   "language": "python",
   "name": "python3"
  },
  "language_info": {
   "codemirror_mode": {
    "name": "ipython",
    "version": 3
   },
   "file_extension": ".py",
   "mimetype": "text/x-python",
   "name": "python",
   "nbconvert_exporter": "python",
   "pygments_lexer": "ipython3",
   "version": "3.11.5"
  }
 },
 "nbformat": 4,
 "nbformat_minor": 2
}
