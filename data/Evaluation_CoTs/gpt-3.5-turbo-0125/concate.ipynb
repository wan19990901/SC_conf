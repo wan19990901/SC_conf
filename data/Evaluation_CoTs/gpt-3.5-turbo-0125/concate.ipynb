{
 "cells": [
  {
   "cell_type": "code",
   "execution_count": 4,
   "id": "initial_id",
   "metadata": {
    "collapsed": true,
    "ExecuteTime": {
     "end_time": "2024-04-29T19:06:24.799501500Z",
     "start_time": "2024-04-29T19:06:24.156670300Z"
    }
   },
   "outputs": [
    {
     "data": {
      "text/plain": "      Unnamed: 0                                           Question  \\\n0            0.0  In the following sentences, explain the antece...   \n1            1.0  In the following sentences, explain the antece...   \n2            2.0  In the following sentences, explain the antece...   \n3            3.0  In the following sentences, explain the antece...   \n4            4.0  In the following sentences, explain the antece...   \n...          ...                                                ...   \n2995         NaN  what will be the remainder when 17 ^ 200 is di...   \n2996         NaN  a is two years older than b who is twice as ol...   \n2997         NaN  s is a positive integer and multiple of 2 ; p ...   \n2998         NaN  there is a lot of speculation that the economy...   \n2999         NaN  a parallelogram has a base that is four time t...   \n\n               Category Correct Answer                   Name  \\\n0     disambiguation_qa              A          BigBench_easy   \n1     disambiguation_qa              C          BigBench_easy   \n2     disambiguation_qa              C          BigBench_easy   \n3     disambiguation_qa              C          BigBench_easy   \n4     disambiguation_qa              C          BigBench_easy   \n...                 ...            ...                    ...   \n2995   Challenging Math              d  MathQA_challenge_test   \n2996   Challenging Math              b  MathQA_challenge_test   \n2997   Challenging Math              b  MathQA_challenge_test   \n2998   Challenging Math              a  MathQA_challenge_test   \n2999   Challenging Math              c  MathQA_challenge_test   \n\n                                                  CoT_0 Final Answer_0  \\\n0     Step 1: Identify the pronoun in the sentence. ...              B   \n1     Step 1: In the sentence, 'The scientist collab...              A   \n2     Step 1: Identify the pronoun in the sentence. ...              C   \n3     Step 1: The pronoun 'he' in the sentence refer...              A   \n4     Step 1: Identify the pronoun in the sentence. ...              C   \n...                                                 ...            ...   \n2995  Step 1: We can use Euler's theorem to solve th...              d   \n2996  \\r\\n        Let's denote the age of c as x.\\r\\...              b   \n2997  Step 1: To find the remainder when p is divide...              d   \n2998  \\r\\n        Step 1: Let's denote the amount of...              c   \n2999  \\r\\n        Step 1: Let the height of the para...              c   \n\n       Instruction Violation_0  \\\n0                     [(0, 0)]   \n1                     [(0, 0)]   \n2                     [(0, 0)]   \n3                     [(0, 0)]   \n4                     [(0, 0)]   \n...                        ...   \n2995          [(0, 1), (0, 1)]   \n2996                  [(0, 0)]   \n2997                  [(0, 0)]   \n2998  [(0, 1), (0, 2), (0, 2)]   \n2999                  [(0, 0)]   \n\n                                                  CoT_1  \\\n0     Step 1: Identify the pronoun in the sentence. ...   \n1     Step 1: The pronoun 'he' in the sentence 'The ...   \n2     Step 1: Identify the pronoun in the sentence. ...   \n3     Step 1: In the sentence, the pronoun 'he' is u...   \n4     Step 1: Identify the pronoun in the sentence. ...   \n...                                                 ...   \n2995  Step 1: We can use Euler's theorem to solve th...   \n2996  \\r\\n        Let's denote the age of c as x.\\r\\...   \n2997  Step 1: To find the remainder when p is divide...   \n2998  \\r\\n        Step 1: Let's denote the amount of...   \n2999  \\r\\n        Step 1: Let the height of the para...   \n\n                                         Final Answer_1  ... Unnamed: 358  \\\n0                                                     A  ...          NaN   \n1                                                     A  ...          NaN   \n2                                                     C  ...          NaN   \n3                                                     B  ...          NaN   \n4                                                     B  ...          NaN   \n...                                                 ...  ...          ...   \n2995                                                  d  ...          NaN   \n2996                                                  b  ...          NaN   \n2997                                                  b  ...          NaN   \n2998  there seems to be an error in the question or ...  ...          NaN   \n2999                                                  c  ...          NaN   \n\n     Unnamed: 359 Unnamed: 360 Unnamed: 361 Unnamed: 362 Unnamed: 363  \\\n0             NaN          NaN          NaN          NaN          NaN   \n1             NaN          NaN          NaN          NaN          NaN   \n2             NaN          NaN          NaN          NaN          NaN   \n3             NaN          NaN          NaN          NaN          NaN   \n4             NaN          NaN          NaN          NaN          NaN   \n...           ...          ...          ...          ...          ...   \n2995          NaN          NaN          NaN          NaN          NaN   \n2996          NaN          NaN          NaN          NaN          NaN   \n2997          NaN          NaN          NaN          NaN          NaN   \n2998          NaN          NaN          NaN          NaN          NaN   \n2999          NaN          NaN          NaN          NaN          NaN   \n\n     Unnamed: 364 Unnamed: 365 Unnamed: 366 Unnamed: 367  \n0             NaN          NaN          NaN          NaN  \n1             NaN          NaN          NaN          NaN  \n2             NaN          NaN          NaN          NaN  \n3             NaN          NaN          NaN          NaN  \n4             NaN          NaN          NaN          NaN  \n...           ...          ...          ...          ...  \n2995          NaN          NaN          NaN          NaN  \n2996          NaN          NaN          NaN          NaN  \n2997          NaN          NaN          NaN          NaN  \n2998          NaN          NaN          NaN          NaN  \n2999          NaN          NaN          NaN          NaN  \n\n[3000 rows x 370 columns]",
      "text/html": "<div>\n<style scoped>\n    .dataframe tbody tr th:only-of-type {\n        vertical-align: middle;\n    }\n\n    .dataframe tbody tr th {\n        vertical-align: top;\n    }\n\n    .dataframe thead th {\n        text-align: right;\n    }\n</style>\n<table border=\"1\" class=\"dataframe\">\n  <thead>\n    <tr style=\"text-align: right;\">\n      <th></th>\n      <th>Unnamed: 0</th>\n      <th>Question</th>\n      <th>Category</th>\n      <th>Correct Answer</th>\n      <th>Name</th>\n      <th>CoT_0</th>\n      <th>Final Answer_0</th>\n      <th>Instruction Violation_0</th>\n      <th>CoT_1</th>\n      <th>Final Answer_1</th>\n      <th>...</th>\n      <th>Unnamed: 358</th>\n      <th>Unnamed: 359</th>\n      <th>Unnamed: 360</th>\n      <th>Unnamed: 361</th>\n      <th>Unnamed: 362</th>\n      <th>Unnamed: 363</th>\n      <th>Unnamed: 364</th>\n      <th>Unnamed: 365</th>\n      <th>Unnamed: 366</th>\n      <th>Unnamed: 367</th>\n    </tr>\n  </thead>\n  <tbody>\n    <tr>\n      <th>0</th>\n      <td>0.0</td>\n      <td>In the following sentences, explain the antece...</td>\n      <td>disambiguation_qa</td>\n      <td>A</td>\n      <td>BigBench_easy</td>\n      <td>Step 1: Identify the pronoun in the sentence. ...</td>\n      <td>B</td>\n      <td>[(0, 0)]</td>\n      <td>Step 1: Identify the pronoun in the sentence. ...</td>\n      <td>A</td>\n      <td>...</td>\n      <td>NaN</td>\n      <td>NaN</td>\n      <td>NaN</td>\n      <td>NaN</td>\n      <td>NaN</td>\n      <td>NaN</td>\n      <td>NaN</td>\n      <td>NaN</td>\n      <td>NaN</td>\n      <td>NaN</td>\n    </tr>\n    <tr>\n      <th>1</th>\n      <td>1.0</td>\n      <td>In the following sentences, explain the antece...</td>\n      <td>disambiguation_qa</td>\n      <td>C</td>\n      <td>BigBench_easy</td>\n      <td>Step 1: In the sentence, 'The scientist collab...</td>\n      <td>A</td>\n      <td>[(0, 0)]</td>\n      <td>Step 1: The pronoun 'he' in the sentence 'The ...</td>\n      <td>A</td>\n      <td>...</td>\n      <td>NaN</td>\n      <td>NaN</td>\n      <td>NaN</td>\n      <td>NaN</td>\n      <td>NaN</td>\n      <td>NaN</td>\n      <td>NaN</td>\n      <td>NaN</td>\n      <td>NaN</td>\n      <td>NaN</td>\n    </tr>\n    <tr>\n      <th>2</th>\n      <td>2.0</td>\n      <td>In the following sentences, explain the antece...</td>\n      <td>disambiguation_qa</td>\n      <td>C</td>\n      <td>BigBench_easy</td>\n      <td>Step 1: Identify the pronoun in the sentence. ...</td>\n      <td>C</td>\n      <td>[(0, 0)]</td>\n      <td>Step 1: Identify the pronoun in the sentence. ...</td>\n      <td>C</td>\n      <td>...</td>\n      <td>NaN</td>\n      <td>NaN</td>\n      <td>NaN</td>\n      <td>NaN</td>\n      <td>NaN</td>\n      <td>NaN</td>\n      <td>NaN</td>\n      <td>NaN</td>\n      <td>NaN</td>\n      <td>NaN</td>\n    </tr>\n    <tr>\n      <th>3</th>\n      <td>3.0</td>\n      <td>In the following sentences, explain the antece...</td>\n      <td>disambiguation_qa</td>\n      <td>C</td>\n      <td>BigBench_easy</td>\n      <td>Step 1: The pronoun 'he' in the sentence refer...</td>\n      <td>A</td>\n      <td>[(0, 0)]</td>\n      <td>Step 1: In the sentence, the pronoun 'he' is u...</td>\n      <td>B</td>\n      <td>...</td>\n      <td>NaN</td>\n      <td>NaN</td>\n      <td>NaN</td>\n      <td>NaN</td>\n      <td>NaN</td>\n      <td>NaN</td>\n      <td>NaN</td>\n      <td>NaN</td>\n      <td>NaN</td>\n      <td>NaN</td>\n    </tr>\n    <tr>\n      <th>4</th>\n      <td>4.0</td>\n      <td>In the following sentences, explain the antece...</td>\n      <td>disambiguation_qa</td>\n      <td>C</td>\n      <td>BigBench_easy</td>\n      <td>Step 1: Identify the pronoun in the sentence. ...</td>\n      <td>C</td>\n      <td>[(0, 0)]</td>\n      <td>Step 1: Identify the pronoun in the sentence. ...</td>\n      <td>B</td>\n      <td>...</td>\n      <td>NaN</td>\n      <td>NaN</td>\n      <td>NaN</td>\n      <td>NaN</td>\n      <td>NaN</td>\n      <td>NaN</td>\n      <td>NaN</td>\n      <td>NaN</td>\n      <td>NaN</td>\n      <td>NaN</td>\n    </tr>\n    <tr>\n      <th>...</th>\n      <td>...</td>\n      <td>...</td>\n      <td>...</td>\n      <td>...</td>\n      <td>...</td>\n      <td>...</td>\n      <td>...</td>\n      <td>...</td>\n      <td>...</td>\n      <td>...</td>\n      <td>...</td>\n      <td>...</td>\n      <td>...</td>\n      <td>...</td>\n      <td>...</td>\n      <td>...</td>\n      <td>...</td>\n      <td>...</td>\n      <td>...</td>\n      <td>...</td>\n      <td>...</td>\n    </tr>\n    <tr>\n      <th>2995</th>\n      <td>NaN</td>\n      <td>what will be the remainder when 17 ^ 200 is di...</td>\n      <td>Challenging Math</td>\n      <td>d</td>\n      <td>MathQA_challenge_test</td>\n      <td>Step 1: We can use Euler's theorem to solve th...</td>\n      <td>d</td>\n      <td>[(0, 1), (0, 1)]</td>\n      <td>Step 1: We can use Euler's theorem to solve th...</td>\n      <td>d</td>\n      <td>...</td>\n      <td>NaN</td>\n      <td>NaN</td>\n      <td>NaN</td>\n      <td>NaN</td>\n      <td>NaN</td>\n      <td>NaN</td>\n      <td>NaN</td>\n      <td>NaN</td>\n      <td>NaN</td>\n      <td>NaN</td>\n    </tr>\n    <tr>\n      <th>2996</th>\n      <td>NaN</td>\n      <td>a is two years older than b who is twice as ol...</td>\n      <td>Challenging Math</td>\n      <td>b</td>\n      <td>MathQA_challenge_test</td>\n      <td>\\r\\n        Let's denote the age of c as x.\\r\\...</td>\n      <td>b</td>\n      <td>[(0, 0)]</td>\n      <td>\\r\\n        Let's denote the age of c as x.\\r\\...</td>\n      <td>b</td>\n      <td>...</td>\n      <td>NaN</td>\n      <td>NaN</td>\n      <td>NaN</td>\n      <td>NaN</td>\n      <td>NaN</td>\n      <td>NaN</td>\n      <td>NaN</td>\n      <td>NaN</td>\n      <td>NaN</td>\n      <td>NaN</td>\n    </tr>\n    <tr>\n      <th>2997</th>\n      <td>NaN</td>\n      <td>s is a positive integer and multiple of 2 ; p ...</td>\n      <td>Challenging Math</td>\n      <td>b</td>\n      <td>MathQA_challenge_test</td>\n      <td>Step 1: To find the remainder when p is divide...</td>\n      <td>d</td>\n      <td>[(0, 0)]</td>\n      <td>Step 1: To find the remainder when p is divide...</td>\n      <td>b</td>\n      <td>...</td>\n      <td>NaN</td>\n      <td>NaN</td>\n      <td>NaN</td>\n      <td>NaN</td>\n      <td>NaN</td>\n      <td>NaN</td>\n      <td>NaN</td>\n      <td>NaN</td>\n      <td>NaN</td>\n      <td>NaN</td>\n    </tr>\n    <tr>\n      <th>2998</th>\n      <td>NaN</td>\n      <td>there is a lot of speculation that the economy...</td>\n      <td>Challenging Math</td>\n      <td>a</td>\n      <td>MathQA_challenge_test</td>\n      <td>\\r\\n        Step 1: Let's denote the amount of...</td>\n      <td>c</td>\n      <td>[(0, 1), (0, 2), (0, 2)]</td>\n      <td>\\r\\n        Step 1: Let's denote the amount of...</td>\n      <td>there seems to be an error in the question or ...</td>\n      <td>...</td>\n      <td>NaN</td>\n      <td>NaN</td>\n      <td>NaN</td>\n      <td>NaN</td>\n      <td>NaN</td>\n      <td>NaN</td>\n      <td>NaN</td>\n      <td>NaN</td>\n      <td>NaN</td>\n      <td>NaN</td>\n    </tr>\n    <tr>\n      <th>2999</th>\n      <td>NaN</td>\n      <td>a parallelogram has a base that is four time t...</td>\n      <td>Challenging Math</td>\n      <td>c</td>\n      <td>MathQA_challenge_test</td>\n      <td>\\r\\n        Step 1: Let the height of the para...</td>\n      <td>c</td>\n      <td>[(0, 0)]</td>\n      <td>\\r\\n        Step 1: Let the height of the para...</td>\n      <td>c</td>\n      <td>...</td>\n      <td>NaN</td>\n      <td>NaN</td>\n      <td>NaN</td>\n      <td>NaN</td>\n      <td>NaN</td>\n      <td>NaN</td>\n      <td>NaN</td>\n      <td>NaN</td>\n      <td>NaN</td>\n      <td>NaN</td>\n    </tr>\n  </tbody>\n</table>\n<p>3000 rows × 370 columns</p>\n</div>"
     },
     "execution_count": 4,
     "metadata": {},
     "output_type": "execute_result"
    }
   ],
   "source": [
    "import pandas as pd\n",
    "df = pd.concat([pd.read_csv('BigBench_easy.csv'),pd.read_csv('BigBench_hard.csv'),pd.read_csv('GSM8K_easy.csv'),\n",
    "                pd.read_csv('GSM8K_hard.csv'),pd.read_csv('MathQA_easy.csv'),pd.read_csv('MathQA_hard.csv')],ignore_index=True)\n",
    "df"
   ]
  },
  {
   "cell_type": "code",
   "execution_count": 8,
   "outputs": [],
   "source": [
    "df.drop(columns='Unnamed: 0',inplace=True)"
   ],
   "metadata": {
    "collapsed": false,
    "ExecuteTime": {
     "end_time": "2024-04-29T19:07:34.274093400Z",
     "start_time": "2024-04-29T19:07:34.257891Z"
    }
   },
   "id": "cb457adbb3a3e6e3"
  },
  {
   "cell_type": "code",
   "execution_count": 10,
   "outputs": [],
   "source": [
    "df.to_csv('df_all.csv',index=False)"
   ],
   "metadata": {
    "collapsed": false,
    "ExecuteTime": {
     "end_time": "2024-04-29T19:08:08.846220100Z",
     "start_time": "2024-04-29T19:08:07.899834400Z"
    }
   },
   "id": "c89dcfd9dd3b642f"
  },
  {
   "cell_type": "code",
   "execution_count": null,
   "outputs": [],
   "source": [],
   "metadata": {
    "collapsed": false
   },
   "id": "56d42484bd29dbde"
  }
 ],
 "metadata": {
  "kernelspec": {
   "display_name": "Python 3",
   "language": "python",
   "name": "python3"
  },
  "language_info": {
   "codemirror_mode": {
    "name": "ipython",
    "version": 2
   },
   "file_extension": ".py",
   "mimetype": "text/x-python",
   "name": "python",
   "nbconvert_exporter": "python",
   "pygments_lexer": "ipython2",
   "version": "2.7.6"
  }
 },
 "nbformat": 4,
 "nbformat_minor": 5
}
