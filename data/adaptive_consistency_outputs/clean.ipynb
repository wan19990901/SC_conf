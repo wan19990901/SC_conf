{
 "cells": [
  {
   "cell_type": "code",
   "execution_count": 13,
   "metadata": {
    "tags": []
   },
   "outputs": [],
   "source": [
    "import os\n",
    "import pandas as pd\n",
    "\n",
    "# Path to the main directory\n",
    "main_dir = \"code-davinci-002/\"\n",
    "\n",
    "# List to store dataframes\n",
    "dataframes = []\n",
    "\n",
    "# Iterate over each subdirectory and process files\n",
    "for sub_dir, _, files in os.walk(main_dir):\n",
    "    if sub_dir == main_dir:\n",
    "        continue  # Skip the main directory\n",
    "    \n",
    "    # List to store dataframes for the current subdirectory\n",
    "    sub_dataframes = []\n",
    "    \n",
    "    for file in files:\n",
    "        if file.endswith('.csv'):\n",
    "            # Read CSV file\n",
    "            file_path = os.path.join(sub_dir, file)\n",
    "            df = pd.read_csv(file_path)\n",
    "            \n",
    "            # Append the dataframe to the list for the current subdirectory\n",
    "            sub_dataframes.append(df)\n",
    "    \n",
    "    if sub_dataframes:\n",
    "        # Concatenate dataframes within the current subdirectory\n",
    "        sub_df = pd.concat(sub_dataframes, ignore_index=True)\n",
    "        \n",
    "        # Add a new column 'Name' with the folder name\n",
    "        folder_name = os.path.basename(sub_dir)\n",
    "        sub_df['Name'] = folder_name\n",
    "        \n",
    "        # Append the subdirectory dataframe to the main list\n",
    "        dataframes.append(sub_df)\n",
    "\n",
    "# Print or inspect the list of dataframes\n",
    "# for df in dataframes:\n",
    "#     print(f\"Dataframe for folder: {df['Name'].iloc[0]}\")\n",
    "#     print(df.head())\n",
    "#     print()"
   ]
  },
  {
   "cell_type": "code",
   "execution_count": 2,
   "metadata": {
    "tags": []
   },
   "outputs": [],
   "source": [
    "# Concatenate all dataframes into a single dataframe\n",
    "final_df_1 = pd.concat(dataframes, ignore_index=True)\n",
    "\n",
    "# Add a new column 'model' with the value 'code-davinci-002'\n",
    "final_df_1['model'] = 'code-davinci-002'"
   ]
  },
  {
   "cell_type": "code",
   "execution_count": 3,
   "metadata": {
    "tags": []
   },
   "outputs": [
    {
     "data": {
      "text/plain": [
       "Final Answer_0\n",
       "no       2348\n",
       "yes      2173\n",
       "(A)      1389\n",
       "(B)      1381\n",
       "(C)       922\n",
       "error     829\n",
       "(D)       428\n",
       "True      425\n",
       "2.0       422\n",
       "4.0       341\n",
       "5.0       332\n",
       "7.0       323\n",
       "8.0       314\n",
       "3.0       302\n",
       "1.0       301\n",
       "False     300\n",
       "6.0       284\n",
       "10.0      281\n",
       "12.0      270\n",
       "9.0       249\n",
       "14.0      217\n",
       "20.0      198\n",
       "15.0      192\n",
       "30.0      172\n",
       "16.0      168\n",
       "11.0      166\n",
       "18.0      164\n",
       "(E)       158\n",
       "13.0      144\n",
       "17.0      139\n",
       "Name: count, dtype: int64"
      ]
     },
     "execution_count": 3,
     "metadata": {},
     "output_type": "execute_result"
    }
   ],
   "source": [
    "final_df_1['Final Answer_0'].value_counts()[:30]"
   ]
  },
  {
   "cell_type": "code",
   "execution_count": 4,
   "metadata": {
    "tags": []
   },
   "outputs": [
    {
     "data": {
      "text/html": [
       "<div>\n",
       "<style scoped>\n",
       "    .dataframe tbody tr th:only-of-type {\n",
       "        vertical-align: middle;\n",
       "    }\n",
       "\n",
       "    .dataframe tbody tr th {\n",
       "        vertical-align: top;\n",
       "    }\n",
       "\n",
       "    .dataframe thead th {\n",
       "        text-align: right;\n",
       "    }\n",
       "</style>\n",
       "<table border=\"1\" class=\"dataframe\">\n",
       "  <thead>\n",
       "    <tr style=\"text-align: right;\">\n",
       "      <th></th>\n",
       "      <th>Category</th>\n",
       "      <th>Question</th>\n",
       "      <th>Correct Answer</th>\n",
       "      <th>CoT_0</th>\n",
       "      <th>Final Answer_0</th>\n",
       "      <th>Instruction Violation_0</th>\n",
       "      <th>CoT_1</th>\n",
       "      <th>Final Answer_1</th>\n",
       "      <th>Instruction Violation_1</th>\n",
       "      <th>CoT_2</th>\n",
       "      <th>...</th>\n",
       "      <th>Final Answer_37</th>\n",
       "      <th>Instruction Violation_37</th>\n",
       "      <th>CoT_38</th>\n",
       "      <th>Final Answer_38</th>\n",
       "      <th>Instruction Violation_38</th>\n",
       "      <th>CoT_39</th>\n",
       "      <th>Final Answer_39</th>\n",
       "      <th>Instruction Violation_39</th>\n",
       "      <th>Name</th>\n",
       "      <th>model</th>\n",
       "    </tr>\n",
       "  </thead>\n",
       "  <tbody>\n",
       "  </tbody>\n",
       "</table>\n",
       "<p>0 rows × 125 columns</p>\n",
       "</div>"
      ],
      "text/plain": [
       "Empty DataFrame\n",
       "Columns: [Category, Question, Correct Answer, CoT_0, Final Answer_0, Instruction Violation_0, CoT_1, Final Answer_1, Instruction Violation_1, CoT_2, Final Answer_2, Instruction Violation_2, CoT_3, Final Answer_3, Instruction Violation_3, CoT_4, Final Answer_4, Instruction Violation_4, CoT_5, Final Answer_5, Instruction Violation_5, CoT_6, Final Answer_6, Instruction Violation_6, CoT_7, Final Answer_7, Instruction Violation_7, CoT_8, Final Answer_8, Instruction Violation_8, CoT_9, Final Answer_9, Instruction Violation_9, CoT_10, Final Answer_10, Instruction Violation_10, CoT_11, Final Answer_11, Instruction Violation_11, CoT_12, Final Answer_12, Instruction Violation_12, CoT_13, Final Answer_13, Instruction Violation_13, CoT_14, Final Answer_14, Instruction Violation_14, CoT_15, Final Answer_15, Instruction Violation_15, CoT_16, Final Answer_16, Instruction Violation_16, CoT_17, Final Answer_17, Instruction Violation_17, CoT_18, Final Answer_18, Instruction Violation_18, CoT_19, Final Answer_19, Instruction Violation_19, CoT_20, Final Answer_20, Instruction Violation_20, CoT_21, Final Answer_21, Instruction Violation_21, CoT_22, Final Answer_22, Instruction Violation_22, CoT_23, Final Answer_23, Instruction Violation_23, CoT_24, Final Answer_24, Instruction Violation_24, CoT_25, Final Answer_25, Instruction Violation_25, CoT_26, Final Answer_26, Instruction Violation_26, CoT_27, Final Answer_27, Instruction Violation_27, CoT_28, Final Answer_28, Instruction Violation_28, CoT_29, Final Answer_29, Instruction Violation_29, CoT_30, Final Answer_30, Instruction Violation_30, CoT_31, Final Answer_31, Instruction Violation_31, CoT_32, ...]\n",
       "Index: []\n",
       "\n",
       "[0 rows x 125 columns]"
      ]
     },
     "execution_count": 4,
     "metadata": {},
     "output_type": "execute_result"
    }
   ],
   "source": [
    "final_df_1[final_df_1['Final Answer_0'] == '2']"
   ]
  },
  {
   "cell_type": "code",
   "execution_count": 5,
   "metadata": {
    "tags": []
   },
   "outputs": [
    {
     "data": {
      "text/plain": [
       "Final Answer_0\n",
       "2.7199999999999998             1\n",
       "653.0                          1\n",
       "1.219879518072289              1\n",
       "-265.0                         1\n",
       "9.3                            1\n",
       "2288.0                         1\n",
       "398.0                          1\n",
       "5808495.0                      1\n",
       "-94.0                          1\n",
       "433.0                          1\n",
       "-65.0                          1\n",
       "[53, 14]                       1\n",
       "11820.0                        1\n",
       "-194.0                         1\n",
       "4.386363636363637              1\n",
       "466.0                          1\n",
       "804.0                          1\n",
       "777622.0                       1\n",
       "14415.0                        1\n",
       "(A), (B), (C), (D), and (E)    1\n",
       "Name: count, dtype: int64"
      ]
     },
     "execution_count": 5,
     "metadata": {},
     "output_type": "execute_result"
    }
   ],
   "source": [
    "final_df_1['Final Answer_0'].value_counts()[-20:] # "
   ]
  },
  {
   "cell_type": "code",
   "execution_count": 6,
   "metadata": {
    "tags": []
   },
   "outputs": [
    {
     "data": {
      "text/plain": [
       "'2.0'"
      ]
     },
     "execution_count": 6,
     "metadata": {},
     "output_type": "execute_result"
    }
   ],
   "source": [
    "final_df_1['Final Answer_0'].value_counts().index[8]"
   ]
  },
  {
   "cell_type": "code",
   "execution_count": 7,
   "metadata": {
    "tags": []
   },
   "outputs": [
    {
     "data": {
      "text/plain": [
       "'4.0'"
      ]
     },
     "execution_count": 7,
     "metadata": {},
     "output_type": "execute_result"
    }
   ],
   "source": [
    "final_df_1['Final Answer_0'].value_counts().index[9]"
   ]
  },
  {
   "cell_type": "code",
   "execution_count": 8,
   "metadata": {
    "tags": []
   },
   "outputs": [
    {
     "data": {
      "text/plain": [
       "Final Answer_0\n",
       "no       2348\n",
       "yes      2173\n",
       "(A)      1389\n",
       "(B)      1381\n",
       "(C)       922\n",
       "error     829\n",
       "(D)       428\n",
       "2.0       426\n",
       "True      425\n",
       "4.0       343\n",
       "5.0       336\n",
       "7.0       323\n",
       "8.0       314\n",
       "3.0       306\n",
       "1.0       301\n",
       "False     300\n",
       "6.0       285\n",
       "10.0      284\n",
       "12.0      273\n",
       "9.0       249\n",
       "Name: count, dtype: int64"
      ]
     },
     "execution_count": 8,
     "metadata": {},
     "output_type": "execute_result"
    }
   ],
   "source": [
    "def clean_answer_columns(df):\n",
    "    # List of column names to clean\n",
    "    answer_columns = [f\"Final Answer_{i}\" for i in range(40)] + [\"Correct Answer\"]\n",
    "    \n",
    "    # Iterate over each answer column\n",
    "    for column in answer_columns:\n",
    "        # Convert the column to string type\n",
    "        df[column] = df[column].astype(str)\n",
    "        \n",
    "        # Iterate over each value in the column\n",
    "        for i, value in enumerate(df[column]):\n",
    "            try:\n",
    "                # Check if the value can be converted to float\n",
    "                float_value = float(value)\n",
    "                \n",
    "                # Format the float value to have one decimal place\n",
    "                df.at[i, column] = f\"{float_value:.1f}\"\n",
    "            except ValueError:\n",
    "                # If the value cannot be converted to float, leave it as is\n",
    "                pass\n",
    "    \n",
    "    return df\n",
    "\n",
    "final_df_1 = clean_answer_columns(final_df_1)\n",
    "final_df_1['Final Answer_0'].value_counts()[:20]"
   ]
  },
  {
   "cell_type": "code",
   "execution_count": 15,
   "metadata": {
    "tags": []
   },
   "outputs": [],
   "source": [
    "final_df_1['Model'] = 'code-davinci-002'"
   ]
  },
  {
   "cell_type": "code",
   "execution_count": 18,
   "metadata": {
    "tags": []
   },
   "outputs": [
    {
     "data": {
      "text/plain": [
       "0        code-davinci-002\n",
       "1        code-davinci-002\n",
       "2        code-davinci-002\n",
       "3        code-davinci-002\n",
       "4        code-davinci-002\n",
       "               ...       \n",
       "24060    code-davinci-002\n",
       "24061    code-davinci-002\n",
       "24062    code-davinci-002\n",
       "24063    code-davinci-002\n",
       "24064    code-davinci-002\n",
       "Name: Model, Length: 24065, dtype: object"
      ]
     },
     "execution_count": 18,
     "metadata": {},
     "output_type": "execute_result"
    }
   ],
   "source": [
    "final_df_1['Model']"
   ]
  },
  {
   "cell_type": "code",
   "execution_count": 16,
   "metadata": {
    "tags": []
   },
   "outputs": [],
   "source": [
    "final_df_1.to_csv(main_dir+'cleaned.csv',index = False)"
   ]
  },
  {
   "cell_type": "code",
   "execution_count": 9,
   "metadata": {
    "tags": []
   },
   "outputs": [
    {
     "name": "stdout",
     "output_type": "stream",
     "text": [
      "salient_translation_seed2_cleaned.csv\n"
     ]
    }
   ],
   "source": [
    "main_dir = \"vicuna-13b/\"\n",
    "\n",
    "# List to store dataframes\n",
    "dataframes = []\n",
    "\n",
    "# Iterate over each subdirectory and process files\n",
    "for sub_dir, _, files in os.walk(main_dir):\n",
    "    if sub_dir == main_dir:\n",
    "        continue  # Skip the main directory\n",
    "    \n",
    "    # List to store dataframes for the current subdirectory\n",
    "    sub_dataframes = []\n",
    "    \n",
    "    for file in files:\n",
    "        if file.endswith('.csv'):\n",
    "            # Read CSV file\n",
    "            file_path = os.path.join(sub_dir, file)\n",
    "            try:\n",
    "                df = pd.read_csv(file_path)\n",
    "            except:\n",
    "                print(file)\n",
    "                break\n",
    "            \n",
    "            # Append the dataframe to the list for the current subdirectory\n",
    "            sub_dataframes.append(df)\n",
    "    \n",
    "    if sub_dataframes:\n",
    "        # Concatenate dataframes within the current subdirectory\n",
    "        sub_df = pd.concat(sub_dataframes, ignore_index=True)\n",
    "        \n",
    "        # Add a new column 'Name' with the folder name\n",
    "        folder_name = os.path.basename(sub_dir)\n",
    "        sub_df['Name'] = folder_name\n",
    "        \n",
    "        # Append the subdirectory dataframe to the main list\n",
    "        dataframes.append(sub_df)"
   ]
  },
  {
   "cell_type": "code",
   "execution_count": 10,
   "metadata": {},
   "outputs": [
    {
     "data": {
      "text/plain": [
       "13"
      ]
     },
     "execution_count": 10,
     "metadata": {},
     "output_type": "execute_result"
    }
   ],
   "source": [
    "len(dataframes)"
   ]
  },
  {
   "cell_type": "code",
   "execution_count": 11,
   "metadata": {},
   "outputs": [],
   "source": [
    "# Concatenate all dataframes into a single dataframe\n",
    "final_df_2 = pd.concat(dataframes, ignore_index=True)\n",
    "\n",
    "# Add a new column 'model' with the value 'code-davinci-002'\n",
    "final_df_2['model'] = 'vicuna-13b'\n",
    "final_df_2= clean_answer_columns(final_df_2)"
   ]
  },
  {
   "cell_type": "code",
   "execution_count": 12,
   "metadata": {},
   "outputs": [
    {
     "data": {
      "text/plain": [
       "Final Answer_0\n",
       "no       4106\n",
       "nan      3584\n",
       "yes      1748\n",
       "(A)       983\n",
       "(B)       821\n",
       "(C)       725\n",
       "True      343\n",
       "2.0       321\n",
       "4.0       304\n",
       "7.0       285\n",
       "5.0       280\n",
       "8.0       274\n",
       "0.0       261\n",
       "6.0       254\n",
       "(D)       254\n",
       "3.0       249\n",
       "12.0      237\n",
       "1.0       236\n",
       "False     235\n",
       "9.0       232\n",
       "Name: count, dtype: int64"
      ]
     },
     "execution_count": 12,
     "metadata": {},
     "output_type": "execute_result"
    }
   ],
   "source": [
    "final_df_2['Final Answer_0'].value_counts()[:20]"
   ]
  },
  {
   "cell_type": "code",
   "execution_count": 13,
   "metadata": {},
   "outputs": [],
   "source": [
    "final_df = pd.concat([final_df_1,final_df_2]).reset_index(drop=True)"
   ]
  },
  {
   "cell_type": "code",
   "execution_count": 14,
   "metadata": {},
   "outputs": [],
   "source": [
    "final_df_test = final_df.sample(1000)"
   ]
  },
  {
   "cell_type": "code",
   "execution_count": 15,
   "metadata": {},
   "outputs": [
    {
     "data": {
      "text/plain": [
       "array([[ 3,  3,  2, ...,  3,  2,  3],\n",
       "       [ 3,  3,  2, ...,  4,  4,  3],\n",
       "       [ 3,  2,  2, ...,  3,  3,  3],\n",
       "       ...,\n",
       "       [14, 14, 14, ..., 14, 14, 14],\n",
       "       [ 3,  4,  3, ...,  3,  3,  3],\n",
       "       [ 3,  2,  3, ...,  3,  3,  3]])"
      ]
     },
     "execution_count": 15,
     "metadata": {},
     "output_type": "execute_result"
    }
   ],
   "source": [
    "import re\n",
    "import numpy as np\n",
    "def extract_len(df):\n",
    "    step_count_buffer = []\n",
    "    for col in df:\n",
    "        if col.startswith('CoT_'):\n",
    "            cleaned_answers = []\n",
    "            for entry in df[col]:\n",
    "                entry_str = str(entry)\n",
    "                # Count the number of new lines in the entry\n",
    "                num_of_newlines = entry_str.count('\\n')\n",
    "                \n",
    "                if num_of_newlines == 0:\n",
    "                    # If no new lines, count the number of sentences\n",
    "                    num_of_sentences = entry_str.count('.') + 1\n",
    "                    cleaned_answers.append(num_of_sentences)\n",
    "                else:\n",
    "                    cleaned_answers.append(num_of_newlines)\n",
    "            \n",
    "            step_count_buffer.append(cleaned_answers)\n",
    "    \n",
    "    step_count = np.array(step_count_buffer).T\n",
    "    return step_count\n",
    "\n",
    "extract_len(final_df_test)"
   ]
  },
  {
   "cell_type": "code",
   "execution_count": 16,
   "metadata": {},
   "outputs": [
    {
     "data": {
      "text/plain": [
       "0"
      ]
     },
     "execution_count": 16,
     "metadata": {},
     "output_type": "execute_result"
    }
   ],
   "source": [
    "(extract_len(final_df_test)[:,0]==0).sum()"
   ]
  },
  {
   "cell_type": "code",
   "execution_count": null,
   "metadata": {},
   "outputs": [],
   "source": []
  }
 ],
 "metadata": {
  "kernelspec": {
   "display_name": "Python 3 (ipykernel)",
   "language": "python",
   "name": "python3"
  },
  "language_info": {
   "codemirror_mode": {
    "name": "ipython",
    "version": 3
   },
   "file_extension": ".py",
   "mimetype": "text/x-python",
   "name": "python",
   "nbconvert_exporter": "python",
   "pygments_lexer": "ipython3",
   "version": "3.11.4"
  }
 },
 "nbformat": 4,
 "nbformat_minor": 4
}
