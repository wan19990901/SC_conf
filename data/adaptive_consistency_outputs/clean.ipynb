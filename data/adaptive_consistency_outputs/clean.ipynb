{
 "cells": [
  {
   "cell_type": "code",
   "execution_count": 1,
   "metadata": {},
   "outputs": [],
   "source": [
    "import os\n",
    "import pandas as pd\n",
    "\n",
    "# Path to the main directory\n",
    "main_dir = \"code-davinci-002/\"\n",
    "\n",
    "# List to store dataframes\n",
    "dataframes = []\n",
    "\n",
    "# Iterate over each subdirectory and process files\n",
    "for sub_dir, _, files in os.walk(main_dir):\n",
    "    if sub_dir == main_dir:\n",
    "        continue  # Skip the main directory\n",
    "    \n",
    "    # List to store dataframes for the current subdirectory\n",
    "    sub_dataframes = []\n",
    "    \n",
    "    for file in files:\n",
    "        if file.endswith('.csv'):\n",
    "            # Read CSV file\n",
    "            file_path = os.path.join(sub_dir, file)\n",
    "            df = pd.read_csv(file_path)\n",
    "            \n",
    "            # Append the dataframe to the list for the current subdirectory\n",
    "            sub_dataframes.append(df)\n",
    "    \n",
    "    if sub_dataframes:\n",
    "        # Concatenate dataframes within the current subdirectory\n",
    "        sub_df = pd.concat(sub_dataframes, ignore_index=True)\n",
    "        \n",
    "        # Add a new column 'Name' with the folder name\n",
    "        folder_name = os.path.basename(sub_dir)\n",
    "        sub_df['Name'] = folder_name\n",
    "        \n",
    "        # Append the subdirectory dataframe to the main list\n",
    "        dataframes.append(sub_df)\n",
    "\n",
    "# Print or inspect the list of dataframes\n",
    "# for df in dataframes:\n",
    "#     print(f\"Dataframe for folder: {df['Name'].iloc[0]}\")\n",
    "#     print(df.head())\n",
    "#     print()"
   ]
  },
  {
   "cell_type": "code",
   "execution_count": 2,
   "metadata": {},
   "outputs": [],
   "source": [
    "# Concatenate all dataframes into a single dataframe\n",
    "final_df_1 = pd.concat(dataframes, ignore_index=True)\n",
    "\n",
    "# Add a new column 'model' with the value 'code-davinci-002'\n",
    "final_df_1['model'] = 'code-davinci-002'"
   ]
  },
  {
   "cell_type": "code",
   "execution_count": 3,
   "metadata": {},
   "outputs": [
    {
     "data": {
      "text/plain": [
       "Final Answer_0\n",
       "no       2348\n",
       "yes      2173\n",
       "(A)      1389\n",
       "(B)      1381\n",
       "(C)       922\n",
       "True      550\n",
       "(D)       428\n",
       "False     339\n",
       "2.0       232\n",
       "2.0       190\n",
       "4.0       184\n",
       "5.0       184\n",
       "7.0       176\n",
       "1.0       176\n",
       "3.0       169\n",
       "8.0       159\n",
       "(E)       158\n",
       "4.0       157\n",
       "8.0       155\n",
       "10.0      148\n",
       "Name: count, dtype: int64"
      ]
     },
     "execution_count": 3,
     "metadata": {},
     "output_type": "execute_result"
    }
   ],
   "source": [
    "final_df_1['Final Answer_0'].value_counts()[:20]"
   ]
  },
  {
   "cell_type": "code",
   "execution_count": 6,
   "metadata": {},
   "outputs": [
    {
     "data": {
      "text/plain": [
       "Final Answer_0\n",
       "9860.78               1\n",
       "7.875                 1\n",
       "1680.0                1\n",
       "736.0                 1\n",
       "138.91500000000002    1\n",
       "22.22222222222222     1\n",
       "1190.0                1\n",
       "-140.0                1\n",
       "820.0                 1\n",
       "-8.4                  1\n",
       "[4, 6.0]              1\n",
       "16.666666666666668    1\n",
       "525.0                 1\n",
       "11.38888888888889     1\n",
       "67.5                  1\n",
       "20.000000000000004    1\n",
       "324.0                 1\n",
       "27.333333333333332    1\n",
       "113.66666666666667    1\n",
       "either (A) or (D)     1\n",
       "Name: count, dtype: int64"
      ]
     },
     "execution_count": 6,
     "metadata": {},
     "output_type": "execute_result"
    }
   ],
   "source": [
    "final_df_1['Final Answer_0'].value_counts()[-20:] # "
   ]
  },
  {
   "cell_type": "code",
   "execution_count": 40,
   "metadata": {},
   "outputs": [
    {
     "data": {
      "text/plain": [
       "'2.0'"
      ]
     },
     "execution_count": 40,
     "metadata": {},
     "output_type": "execute_result"
    }
   ],
   "source": [
    "final_df_1['Final Answer_0'].value_counts().index[8]"
   ]
  },
  {
   "cell_type": "code",
   "execution_count": 41,
   "metadata": {},
   "outputs": [
    {
     "data": {
      "text/plain": [
       "2.0"
      ]
     },
     "execution_count": 41,
     "metadata": {},
     "output_type": "execute_result"
    }
   ],
   "source": [
    "final_df_1['Final Answer_0'].value_counts().index[9]"
   ]
  },
  {
   "cell_type": "code",
   "execution_count": 42,
   "metadata": {},
   "outputs": [
    {
     "data": {
      "text/plain": [
       "Final Answer_0\n",
       "no       2348\n",
       "yes      2173\n",
       "(A)      1389\n",
       "(B)      1381\n",
       "(C)       922\n",
       "nan       829\n",
       "(D)       428\n",
       "True      425\n",
       "2.0       422\n",
       "4.0       341\n",
       "5.0       332\n",
       "7.0       323\n",
       "8.0       314\n",
       "3.0       302\n",
       "1.0       301\n",
       "False     300\n",
       "6.0       284\n",
       "10.0      281\n",
       "12.0      270\n",
       "9.0       249\n",
       "Name: count, dtype: int64"
      ]
     },
     "execution_count": 42,
     "metadata": {},
     "output_type": "execute_result"
    }
   ],
   "source": [
    "def clean_answer_columns(df):\n",
    "    # List of column names to clean\n",
    "    answer_columns = [f\"Final Answer_{i}\" for i in range(40)] + [\"Correct Answer\"]\n",
    "\n",
    "    # Iterate over each answer column\n",
    "    for column in answer_columns:\n",
    "        # Convert the column to string type\n",
    "        df[column] = df[column].astype(str)\n",
    "\n",
    "    return df\n",
    "\n",
    "final_df_1 = clean_answer_columns(final_df_1)\n",
    "final_df_1['Final Answer_0'].value_counts()[:20]"
   ]
  },
  {
   "cell_type": "code",
   "execution_count": 43,
   "metadata": {},
   "outputs": [
    {
     "name": "stdout",
     "output_type": "stream",
     "text": [
      "salient_translation_seed2_cleaned.csv\n"
     ]
    }
   ],
   "source": [
    "main_dir = \"vicuna-13b\"\n",
    "\n",
    "# List to store dataframes\n",
    "dataframes = []\n",
    "\n",
    "# Iterate over each subdirectory and process files\n",
    "for sub_dir, _, files in os.walk(main_dir):\n",
    "    if sub_dir == main_dir:\n",
    "        continue  # Skip the main directory\n",
    "    \n",
    "    # List to store dataframes for the current subdirectory\n",
    "    sub_dataframes = []\n",
    "    \n",
    "    for file in files:\n",
    "        if file.endswith('.csv'):\n",
    "            # Read CSV file\n",
    "            file_path = os.path.join(sub_dir, file)\n",
    "            try:\n",
    "                df = pd.read_csv(file_path)\n",
    "            except:\n",
    "                print(file)\n",
    "                break\n",
    "            \n",
    "            # Append the dataframe to the list for the current subdirectory\n",
    "            sub_dataframes.append(df)\n",
    "    \n",
    "    if sub_dataframes:\n",
    "        # Concatenate dataframes within the current subdirectory\n",
    "        sub_df = pd.concat(sub_dataframes, ignore_index=True)\n",
    "        \n",
    "        # Add a new column 'Name' with the folder name\n",
    "        folder_name = os.path.basename(sub_dir)\n",
    "        sub_df['Name'] = folder_name\n",
    "        \n",
    "        # Append the subdirectory dataframe to the main list\n",
    "        dataframes.append(sub_df)"
   ]
  },
  {
   "cell_type": "code",
   "execution_count": 44,
   "metadata": {},
   "outputs": [
    {
     "data": {
      "text/plain": [
       "13"
      ]
     },
     "execution_count": 44,
     "metadata": {},
     "output_type": "execute_result"
    }
   ],
   "source": [
    "len(dataframes)"
   ]
  },
  {
   "cell_type": "code",
   "execution_count": 45,
   "metadata": {},
   "outputs": [],
   "source": [
    "# Concatenate all dataframes into a single dataframe\n",
    "final_df_2 = pd.concat(dataframes, ignore_index=True)\n",
    "\n",
    "# Add a new column 'model' with the value 'code-davinci-002'\n",
    "final_df_2['model'] = 'vicuna-13b'\n",
    "final_df_2= clean_answer_columns(final_df_2)"
   ]
  },
  {
   "cell_type": "code",
   "execution_count": 47,
   "metadata": {},
   "outputs": [
    {
     "data": {
      "text/plain": [
       "Final Answer_0\n",
       "no       4106\n",
       "nan      3584\n",
       "yes      1748\n",
       "(A)       983\n",
       "(B)       821\n",
       "(C)       725\n",
       "True      343\n",
       "2.0       319\n",
       "4.0       302\n",
       "7.0       285\n",
       "5.0       279\n",
       "8.0       273\n",
       "(D)       254\n",
       "6.0       254\n",
       "3.0       248\n",
       "0.0       247\n",
       "12.0      235\n",
       "False     235\n",
       "9.0       232\n",
       "1.0       231\n",
       "Name: count, dtype: int64"
      ]
     },
     "execution_count": 47,
     "metadata": {},
     "output_type": "execute_result"
    }
   ],
   "source": [
    "final_df_2['Final Answer_0'].value_counts()[:20]"
   ]
  },
  {
   "cell_type": "code",
   "execution_count": 48,
   "metadata": {},
   "outputs": [],
   "source": [
    "final_df = pd.concat([final_df_1,final_df_2]).reset_index(drop=True)"
   ]
  },
  {
   "cell_type": "code",
   "execution_count": 50,
   "metadata": {},
   "outputs": [],
   "source": [
    "final_df_test = final_df.sample(1000)"
   ]
  },
  {
   "cell_type": "code",
   "execution_count": 70,
   "metadata": {},
   "outputs": [
    {
     "data": {
      "text/plain": [
       "array([[12, 13, 12, ..., 12, 12, 12],\n",
       "       [14,  6, 13, ..., 10, 11, 11],\n",
       "       [13, 13, 13, ..., 13, 14, 13],\n",
       "       ...,\n",
       "       [ 3,  5,  5, ...,  3,  4,  4],\n",
       "       [ 6,  6,  6, ...,  6,  5,  6],\n",
       "       [13, 13, 13, ..., 12, 13, 13]])"
      ]
     },
     "execution_count": 70,
     "metadata": {},
     "output_type": "execute_result"
    }
   ],
   "source": [
    "import re\n",
    "import numpy as np\n",
    "def extract_len(df):\n",
    "    step_count_buffer = []\n",
    "    for col in df:\n",
    "        if col.startswith('CoT_'):\n",
    "            cleaned_answers = []\n",
    "            for entry in df[col]:\n",
    "                entry_str = str(entry)\n",
    "                # Count the number of new lines in the entry\n",
    "                num_of_newlines = entry_str.count('\\n')\n",
    "                \n",
    "                if num_of_newlines == 0:\n",
    "                    # If no new lines, count the number of sentences\n",
    "                    num_of_sentences = entry_str.count('.') + 1\n",
    "                    cleaned_answers.append(num_of_sentences)\n",
    "                else:\n",
    "                    cleaned_answers.append(num_of_newlines)\n",
    "            \n",
    "            step_count_buffer.append(cleaned_answers)\n",
    "    \n",
    "    step_count = np.array(step_count_buffer).T\n",
    "    return step_count\n",
    "\n",
    "extract_len(final_df_test)"
   ]
  },
  {
   "cell_type": "code",
   "execution_count": 62,
   "metadata": {},
   "outputs": [
    {
     "data": {
      "text/plain": [
       "57"
      ]
     },
     "execution_count": 62,
     "metadata": {},
     "output_type": "execute_result"
    }
   ],
   "source": [
    "(extract_len(final_df_test)[:,0]==0).sum()"
   ]
  },
  {
   "cell_type": "code",
   "execution_count": 68,
   "metadata": {},
   "outputs": [
    {
     "data": {
      "text/plain": [
       "'A leap year is every fourth year. The average lifespan of a hamster is about 3 years. 3 years is less than 4 years, so a hamster will not experience two leap years. The answer is no'"
      ]
     },
     "execution_count": 68,
     "metadata": {},
     "output_type": "execute_result"
    }
   ],
   "source": [
    "final_df_test[extract_len(final_df_test)[:,0]==0]['CoT_0'].iloc[0]"
   ]
  },
  {
   "cell_type": "code",
   "execution_count": 69,
   "metadata": {},
   "outputs": [
    {
     "data": {
      "text/plain": [
       "'The class of 2017 was born in 1995. 9/11 occurred in 2001. Thus, a student of the class of 2017 would not have amnesia about 9/11. The answer is no'"
      ]
     },
     "execution_count": 69,
     "metadata": {},
     "output_type": "execute_result"
    }
   ],
   "source": [
    "final_df_test[extract_len(final_df_test)[:,0]==0]['CoT_0'].iloc[1]"
   ]
  },
  {
   "cell_type": "code",
   "execution_count": null,
   "metadata": {},
   "outputs": [],
   "source": []
  }
 ],
 "metadata": {
  "kernelspec": {
   "display_name": "env",
   "language": "python",
   "name": "python3"
  },
  "language_info": {
   "codemirror_mode": {
    "name": "ipython",
    "version": 3
   },
   "file_extension": ".py",
   "mimetype": "text/x-python",
   "name": "python",
   "nbconvert_exporter": "python",
   "pygments_lexer": "ipython3",
   "version": "3.12.2"
  }
 },
 "nbformat": 4,
 "nbformat_minor": 2
}
