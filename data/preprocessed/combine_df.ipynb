{
 "cells": [
  {
   "cell_type": "code",
   "execution_count": 2,
   "id": "initial_id",
   "metadata": {
    "ExecuteTime": {
     "end_time": "2024-02-19T21:32:31.700611400Z",
     "start_time": "2024-02-19T21:32:31.393494700Z"
    },
    "tags": []
   },
   "outputs": [],
   "source": [
    "import pandas as pd"
   ]
  },
  {
   "cell_type": "code",
   "execution_count": 3,
   "id": "5c3fe569d9bdfa3d",
   "metadata": {
    "ExecuteTime": {
     "end_time": "2024-02-19T21:36:33.983233400Z",
     "start_time": "2024-02-19T21:36:33.970611Z"
    },
    "collapsed": false,
    "jupyter": {
     "outputs_hidden": false
    },
    "tags": []
   },
   "outputs": [],
   "source": [
    "current_df_li = ['MMLU.csv','mathQA.csv','Bigbench_hard.csv']"
   ]
  },
  {
   "cell_type": "code",
   "execution_count": 4,
   "id": "e88ed2feef3bc92b",
   "metadata": {
    "ExecuteTime": {
     "end_time": "2024-02-19T21:36:34.891840300Z",
     "start_time": "2024-02-19T21:36:34.303006100Z"
    },
    "collapsed": false,
    "jupyter": {
     "outputs_hidden": false
    },
    "tags": []
   },
   "outputs": [
    {
     "data": {
      "text/html": [
       "<div>\n",
       "<style scoped>\n",
       "    .dataframe tbody tr th:only-of-type {\n",
       "        vertical-align: middle;\n",
       "    }\n",
       "\n",
       "    .dataframe tbody tr th {\n",
       "        vertical-align: top;\n",
       "    }\n",
       "\n",
       "    .dataframe thead th {\n",
       "        text-align: right;\n",
       "    }\n",
       "</style>\n",
       "<table border=\"1\" class=\"dataframe\">\n",
       "  <thead>\n",
       "    <tr style=\"text-align: right;\">\n",
       "      <th></th>\n",
       "      <th>Name</th>\n",
       "      <th>Category</th>\n",
       "      <th>Question</th>\n",
       "      <th>Correct Answer</th>\n",
       "    </tr>\n",
       "  </thead>\n",
       "  <tbody>\n",
       "    <tr>\n",
       "      <th>0</th>\n",
       "      <td>MMLU_test</td>\n",
       "      <td>abstract_algebra</td>\n",
       "      <td>Find the degree for the given field extension ...</td>\n",
       "      <td>B</td>\n",
       "    </tr>\n",
       "    <tr>\n",
       "      <th>1</th>\n",
       "      <td>MMLU_test</td>\n",
       "      <td>abstract_algebra</td>\n",
       "      <td>Let p = (1, 2, 5, 4)(2, 3) in S_5 . Find the i...</td>\n",
       "      <td>C</td>\n",
       "    </tr>\n",
       "    <tr>\n",
       "      <th>2</th>\n",
       "      <td>MMLU_test</td>\n",
       "      <td>abstract_algebra</td>\n",
       "      <td>Find all zeros in the indicated finite field o...</td>\n",
       "      <td>D</td>\n",
       "    </tr>\n",
       "    <tr>\n",
       "      <th>3</th>\n",
       "      <td>MMLU_test</td>\n",
       "      <td>abstract_algebra</td>\n",
       "      <td>Statement 1 | A factor group of a non-Abelian ...</td>\n",
       "      <td>B</td>\n",
       "    </tr>\n",
       "    <tr>\n",
       "      <th>4</th>\n",
       "      <td>MMLU_test</td>\n",
       "      <td>abstract_algebra</td>\n",
       "      <td>Find the product of the given polynomials in t...</td>\n",
       "      <td>B</td>\n",
       "    </tr>\n",
       "    <tr>\n",
       "      <th>...</th>\n",
       "      <td>...</td>\n",
       "      <td>...</td>\n",
       "      <td>...</td>\n",
       "      <td>...</td>\n",
       "    </tr>\n",
       "    <tr>\n",
       "      <th>69757</th>\n",
       "      <td>BigBench_hard</td>\n",
       "      <td>word_sorting</td>\n",
       "      <td>Sort the following words alphabetically: List:...</td>\n",
       "      <td>aperture bradshaw holocene mare muriel patheti...</td>\n",
       "    </tr>\n",
       "    <tr>\n",
       "      <th>69758</th>\n",
       "      <td>BigBench_hard</td>\n",
       "      <td>word_sorting</td>\n",
       "      <td>Sort the following words alphabetically: List:...</td>\n",
       "      <td>bust chalk cowboy dentistry dumb fatty goucher...</td>\n",
       "    </tr>\n",
       "    <tr>\n",
       "      <th>69759</th>\n",
       "      <td>BigBench_hard</td>\n",
       "      <td>word_sorting</td>\n",
       "      <td>Sort the following words alphabetically: List:...</td>\n",
       "      <td>animism awash beau bessie cream extricable hel...</td>\n",
       "    </tr>\n",
       "    <tr>\n",
       "      <th>69760</th>\n",
       "      <td>BigBench_hard</td>\n",
       "      <td>word_sorting</td>\n",
       "      <td>Sort the following words alphabetically: List:...</td>\n",
       "      <td>correspond herpes him seashore</td>\n",
       "    </tr>\n",
       "    <tr>\n",
       "      <th>69761</th>\n",
       "      <td>BigBench_hard</td>\n",
       "      <td>word_sorting</td>\n",
       "      <td>Sort the following words alphabetically: List:...</td>\n",
       "      <td>bonito dreamboat fritter haggard nose whodunit...</td>\n",
       "    </tr>\n",
       "  </tbody>\n",
       "</table>\n",
       "<p>69762 rows × 4 columns</p>\n",
       "</div>"
      ],
      "text/plain": [
       "                Name          Category  \\\n",
       "0          MMLU_test  abstract_algebra   \n",
       "1          MMLU_test  abstract_algebra   \n",
       "2          MMLU_test  abstract_algebra   \n",
       "3          MMLU_test  abstract_algebra   \n",
       "4          MMLU_test  abstract_algebra   \n",
       "...              ...               ...   \n",
       "69757  BigBench_hard      word_sorting   \n",
       "69758  BigBench_hard      word_sorting   \n",
       "69759  BigBench_hard      word_sorting   \n",
       "69760  BigBench_hard      word_sorting   \n",
       "69761  BigBench_hard      word_sorting   \n",
       "\n",
       "                                                Question  \\\n",
       "0      Find the degree for the given field extension ...   \n",
       "1      Let p = (1, 2, 5, 4)(2, 3) in S_5 . Find the i...   \n",
       "2      Find all zeros in the indicated finite field o...   \n",
       "3      Statement 1 | A factor group of a non-Abelian ...   \n",
       "4      Find the product of the given polynomials in t...   \n",
       "...                                                  ...   \n",
       "69757  Sort the following words alphabetically: List:...   \n",
       "69758  Sort the following words alphabetically: List:...   \n",
       "69759  Sort the following words alphabetically: List:...   \n",
       "69760  Sort the following words alphabetically: List:...   \n",
       "69761  Sort the following words alphabetically: List:...   \n",
       "\n",
       "                                          Correct Answer  \n",
       "0                                                      B  \n",
       "1                                                      C  \n",
       "2                                                      D  \n",
       "3                                                      B  \n",
       "4                                                      B  \n",
       "...                                                  ...  \n",
       "69757  aperture bradshaw holocene mare muriel patheti...  \n",
       "69758  bust chalk cowboy dentistry dumb fatty goucher...  \n",
       "69759  animism awash beau bessie cream extricable hel...  \n",
       "69760                     correspond herpes him seashore  \n",
       "69761  bonito dreamboat fritter haggard nose whodunit...  \n",
       "\n",
       "[69762 rows x 4 columns]"
      ]
     },
     "execution_count": 4,
     "metadata": {},
     "output_type": "execute_result"
    }
   ],
   "source": [
    "df_li = []\n",
    "for df_name in current_df_li:\n",
    "    df_li.append(pd.read_csv(df_name))\n",
    "df_all = pd.concat(df_li,ignore_index=True)\n",
    "df_all"
   ]
  },
  {
   "cell_type": "code",
   "execution_count": 8,
   "id": "09d8921c-5900-4446-a693-dde3cc436777",
   "metadata": {
    "tags": []
   },
   "outputs": [],
   "source": [
    "df_all.to_csv('combined_df.csv',index=False)"
   ]
  },
  {
   "cell_type": "code",
   "execution_count": 9,
   "id": "ac62fea3-8376-4a87-bb91-a4dbad939a7a",
   "metadata": {
    "tags": []
   },
   "outputs": [
    {
     "data": {
      "text/plain": [
       "Category\n",
       "professional_law                       1534\n",
       "moral_scenarios                         895\n",
       "miscellaneous                           783\n",
       "professional_psychology                 612\n",
       "high_school_psychology                  545\n",
       "high_school_macroeconomics              390\n",
       "elementary_mathematics                  378\n",
       "moral_disputes                          346\n",
       "prehistory                              324\n",
       "philosophy                              311\n",
       "high_school_biology                     310\n",
       "nutrition                               306\n",
       "professional_accounting                 282\n",
       "professional_medicine                   272\n",
       "high_school_mathematics                 270\n",
       "clinical_knowledge                      265\n",
       "security_studies                        245\n",
       "high_school_microeconomics              238\n",
       "high_school_world_history               237\n",
       "conceptual_physics                      235\n",
       "marketing                               234\n",
       "human_aging                             223\n",
       "high_school_statistics                  216\n",
       "high_school_us_history                  204\n",
       "high_school_chemistry                   203\n",
       "sociology                               201\n",
       "high_school_geography                   198\n",
       "high_school_government_and_politics     193\n",
       "college_medicine                        173\n",
       "world_religions                         171\n",
       "virology                                166\n",
       "high_school_european_history            165\n",
       "logical_fallacies                       163\n",
       "astronomy                               152\n",
       "high_school_physics                     151\n",
       "electrical_engineering                  145\n",
       "college_biology                         144\n",
       "anatomy                                 135\n",
       "human_sexuality                         131\n",
       "formal_logic                            126\n",
       "international_law                       121\n",
       "econometrics                            114\n",
       "machine_learning                        112\n",
       "public_relations                        110\n",
       "jurisprudence                           108\n",
       "management                              103\n",
       "college_physics                         102\n",
       "us_foreign_policy                       100\n",
       "business_ethics                         100\n",
       "college_mathematics                     100\n",
       "college_chemistry                       100\n",
       "college_computer_science                100\n",
       "high_school_computer_science            100\n",
       "computer_security                       100\n",
       "global_facts                            100\n",
       "medical_genetics                        100\n",
       "abstract_algebra                        100\n",
       "Name: count, dtype: int64"
      ]
     },
     "execution_count": 9,
     "metadata": {},
     "output_type": "execute_result"
    }
   ],
   "source": [
    "df_all[df_all.Name == 'MMLU_test'].Category.value_counts()"
   ]
  },
  {
   "cell_type": "code",
   "execution_count": 10,
   "id": "a60efc44-364d-4eac-afa2-bc75a20b2202",
   "metadata": {
    "tags": []
   },
   "outputs": [],
   "source": [
    "categories_of_interest = ['philosophy','international_law','professional_law','jurisprudence', \n",
    "                          'college_chemistry','college_medicine','college_physics','college_biology',\n",
    "                          'Math','high_school_statistics','date_understanding', 'elementary_mathematics',\n",
    "                          'Challenging Math','formal_logic','college_mathematics','abstract_algebra',\n",
    "                         'professional_accounting','college_computer_science','econometrics','electrical_engineering']\n",
    "\n",
    "# Filter df for categories that contain any of the keywords in categories_of_interest\n",
    "filtered_df = df_all[df_all['Category'].isin(categories_of_interest)]"
   ]
  },
  {
   "cell_type": "code",
   "execution_count": 11,
   "id": "aa1af73d8e1fa3c1",
   "metadata": {
    "ExecuteTime": {
     "end_time": "2024-02-19T21:37:12.503954100Z",
     "start_time": "2024-02-19T21:37:11.678296200Z"
    },
    "collapsed": false,
    "jupyter": {
     "outputs_hidden": false
    },
    "tags": []
   },
   "outputs": [],
   "source": [
    "filtered_df.to_csv('filter_df.csv',index=False)"
   ]
  }
 ],
 "metadata": {
  "kernelspec": {
   "display_name": "Python 3 (ipykernel)",
   "language": "python",
   "name": "python3"
  },
  "language_info": {
   "codemirror_mode": {
    "name": "ipython",
    "version": 3
   },
   "file_extension": ".py",
   "mimetype": "text/x-python",
   "name": "python",
   "nbconvert_exporter": "python",
   "pygments_lexer": "ipython3",
   "version": "3.11.4"
  }
 },
 "nbformat": 4,
 "nbformat_minor": 5
}
