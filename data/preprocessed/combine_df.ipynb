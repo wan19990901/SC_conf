{
 "cells": [
  {
   "cell_type": "code",
   "execution_count": 1,
   "id": "initial_id",
   "metadata": {
    "ExecuteTime": {
     "end_time": "2024-02-19T21:32:31.700611400Z",
     "start_time": "2024-02-19T21:32:31.393494700Z"
    },
    "tags": []
   },
   "outputs": [],
   "source": [
    "import pandas as pd"
   ]
  },
  {
   "cell_type": "code",
   "execution_count": 2,
   "id": "5c3fe569d9bdfa3d",
   "metadata": {
    "ExecuteTime": {
     "end_time": "2024-02-19T21:36:33.983233400Z",
     "start_time": "2024-02-19T21:36:33.970611Z"
    },
    "collapsed": false,
    "jupyter": {
     "outputs_hidden": false
    },
    "tags": []
   },
   "outputs": [],
   "source": [
    "current_df_li = ['MMLU.csv','mathQA.csv','Bigbench.csv','GSM8K.csv']"
   ]
  },
  {
   "cell_type": "code",
   "execution_count": 3,
   "id": "e88ed2feef3bc92b",
   "metadata": {
    "ExecuteTime": {
     "end_time": "2024-02-19T21:36:34.891840300Z",
     "start_time": "2024-02-19T21:36:34.303006100Z"
    },
    "collapsed": false,
    "jupyter": {
     "outputs_hidden": false
    },
    "tags": []
   },
   "outputs": [
    {
     "data": {
      "text/html": [
       "<div>\n",
       "<style scoped>\n",
       "    .dataframe tbody tr th:only-of-type {\n",
       "        vertical-align: middle;\n",
       "    }\n",
       "\n",
       "    .dataframe tbody tr th {\n",
       "        vertical-align: top;\n",
       "    }\n",
       "\n",
       "    .dataframe thead th {\n",
       "        text-align: right;\n",
       "    }\n",
       "</style>\n",
       "<table border=\"1\" class=\"dataframe\">\n",
       "  <thead>\n",
       "    <tr style=\"text-align: right;\">\n",
       "      <th></th>\n",
       "      <th>Name</th>\n",
       "      <th>Category</th>\n",
       "      <th>Question</th>\n",
       "      <th>Correct Answer</th>\n",
       "      <th>inputs</th>\n",
       "      <th>converted_targets</th>\n",
       "    </tr>\n",
       "  </thead>\n",
       "  <tbody>\n",
       "    <tr>\n",
       "      <th>0</th>\n",
       "      <td>MMLU_test</td>\n",
       "      <td>abstract_algebra</td>\n",
       "      <td>Find the degree for the given field extension ...</td>\n",
       "      <td>B</td>\n",
       "      <td>NaN</td>\n",
       "      <td>NaN</td>\n",
       "    </tr>\n",
       "    <tr>\n",
       "      <th>1</th>\n",
       "      <td>MMLU_test</td>\n",
       "      <td>abstract_algebra</td>\n",
       "      <td>Let p = (1, 2, 5, 4)(2, 3) in S_5 . Find the i...</td>\n",
       "      <td>C</td>\n",
       "      <td>NaN</td>\n",
       "      <td>NaN</td>\n",
       "    </tr>\n",
       "    <tr>\n",
       "      <th>2</th>\n",
       "      <td>MMLU_test</td>\n",
       "      <td>abstract_algebra</td>\n",
       "      <td>Find all zeros in the indicated finite field o...</td>\n",
       "      <td>D</td>\n",
       "      <td>NaN</td>\n",
       "      <td>NaN</td>\n",
       "    </tr>\n",
       "    <tr>\n",
       "      <th>3</th>\n",
       "      <td>MMLU_test</td>\n",
       "      <td>abstract_algebra</td>\n",
       "      <td>Statement 1 | A factor group of a non-Abelian ...</td>\n",
       "      <td>B</td>\n",
       "      <td>NaN</td>\n",
       "      <td>NaN</td>\n",
       "    </tr>\n",
       "    <tr>\n",
       "      <th>4</th>\n",
       "      <td>MMLU_test</td>\n",
       "      <td>abstract_algebra</td>\n",
       "      <td>Find the product of the given polynomials in t...</td>\n",
       "      <td>B</td>\n",
       "      <td>NaN</td>\n",
       "      <td>NaN</td>\n",
       "    </tr>\n",
       "    <tr>\n",
       "      <th>...</th>\n",
       "      <td>...</td>\n",
       "      <td>...</td>\n",
       "      <td>...</td>\n",
       "      <td>...</td>\n",
       "      <td>...</td>\n",
       "      <td>...</td>\n",
       "    </tr>\n",
       "    <tr>\n",
       "      <th>69425</th>\n",
       "      <td>GSM8K_hard</td>\n",
       "      <td>Challenging Math</td>\n",
       "      <td>Jen decides to travel to 3 different countries...</td>\n",
       "      <td>3319635.0</td>\n",
       "      <td>NaN</td>\n",
       "      <td>NaN</td>\n",
       "    </tr>\n",
       "    <tr>\n",
       "      <th>69426</th>\n",
       "      <td>GSM8K_hard</td>\n",
       "      <td>Challenging Math</td>\n",
       "      <td>Alex, Stan, and Adelwolfe are trying to catch ...</td>\n",
       "      <td>147.0</td>\n",
       "      <td>NaN</td>\n",
       "      <td>NaN</td>\n",
       "    </tr>\n",
       "    <tr>\n",
       "      <th>69427</th>\n",
       "      <td>GSM8K_hard</td>\n",
       "      <td>Challenging Math</td>\n",
       "      <td>The red rope was four times the length of the ...</td>\n",
       "      <td>20.0</td>\n",
       "      <td>NaN</td>\n",
       "      <td>NaN</td>\n",
       "    </tr>\n",
       "    <tr>\n",
       "      <th>69428</th>\n",
       "      <td>GSM8K_hard</td>\n",
       "      <td>Challenging Math</td>\n",
       "      <td>A farm has 10 2-legged animals and 8765805 4-l...</td>\n",
       "      <td>17531620.0</td>\n",
       "      <td>NaN</td>\n",
       "      <td>NaN</td>\n",
       "    </tr>\n",
       "    <tr>\n",
       "      <th>69429</th>\n",
       "      <td>GSM8K_hard</td>\n",
       "      <td>Challenging Math</td>\n",
       "      <td>The girls are trying to raise money for a carn...</td>\n",
       "      <td>2180.0</td>\n",
       "      <td>NaN</td>\n",
       "      <td>NaN</td>\n",
       "    </tr>\n",
       "  </tbody>\n",
       "</table>\n",
       "<p>69430 rows × 6 columns</p>\n",
       "</div>"
      ],
      "text/plain": [
       "             Name          Category  \\\n",
       "0       MMLU_test  abstract_algebra   \n",
       "1       MMLU_test  abstract_algebra   \n",
       "2       MMLU_test  abstract_algebra   \n",
       "3       MMLU_test  abstract_algebra   \n",
       "4       MMLU_test  abstract_algebra   \n",
       "...           ...               ...   \n",
       "69425  GSM8K_hard  Challenging Math   \n",
       "69426  GSM8K_hard  Challenging Math   \n",
       "69427  GSM8K_hard  Challenging Math   \n",
       "69428  GSM8K_hard  Challenging Math   \n",
       "69429  GSM8K_hard  Challenging Math   \n",
       "\n",
       "                                                Question Correct Answer  \\\n",
       "0      Find the degree for the given field extension ...              B   \n",
       "1      Let p = (1, 2, 5, 4)(2, 3) in S_5 . Find the i...              C   \n",
       "2      Find all zeros in the indicated finite field o...              D   \n",
       "3      Statement 1 | A factor group of a non-Abelian ...              B   \n",
       "4      Find the product of the given polynomials in t...              B   \n",
       "...                                                  ...            ...   \n",
       "69425  Jen decides to travel to 3 different countries...      3319635.0   \n",
       "69426  Alex, Stan, and Adelwolfe are trying to catch ...          147.0   \n",
       "69427  The red rope was four times the length of the ...           20.0   \n",
       "69428  A farm has 10 2-legged animals and 8765805 4-l...     17531620.0   \n",
       "69429  The girls are trying to raise money for a carn...         2180.0   \n",
       "\n",
       "      inputs converted_targets  \n",
       "0        NaN               NaN  \n",
       "1        NaN               NaN  \n",
       "2        NaN               NaN  \n",
       "3        NaN               NaN  \n",
       "4        NaN               NaN  \n",
       "...      ...               ...  \n",
       "69425    NaN               NaN  \n",
       "69426    NaN               NaN  \n",
       "69427    NaN               NaN  \n",
       "69428    NaN               NaN  \n",
       "69429    NaN               NaN  \n",
       "\n",
       "[69430 rows x 6 columns]"
      ]
     },
     "execution_count": 3,
     "metadata": {},
     "output_type": "execute_result"
    }
   ],
   "source": [
    "df_li = []\n",
    "for df_name in current_df_li:\n",
    "    df_li.append(pd.read_csv(df_name))\n",
    "df_all = pd.concat(df_li,ignore_index=True)\n",
    "df_all"
   ]
  },
  {
   "cell_type": "code",
   "execution_count": 5,
   "id": "09d8921c-5900-4446-a693-dde3cc436777",
   "metadata": {
    "tags": []
   },
   "outputs": [],
   "source": [
    "df_all.to_csv('combined_df.csv',index=False)"
   ]
  }
 ],
 "metadata": {
  "kernelspec": {
   "display_name": "Python 3 (ipykernel)",
   "language": "python",
   "name": "python3"
  },
  "language_info": {
   "codemirror_mode": {
    "name": "ipython",
    "version": 3
   },
   "file_extension": ".py",
   "mimetype": "text/x-python",
   "name": "python",
   "nbconvert_exporter": "python",
   "pygments_lexer": "ipython3",
   "version": "3.12.0"
  }
 },
 "nbformat": 4,
 "nbformat_minor": 5
}
