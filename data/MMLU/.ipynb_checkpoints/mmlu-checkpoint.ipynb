{
 "cells": [
  {
   "cell_type": "code",
   "execution_count": 1,
   "id": "1da6f911-75b8-4455-a772-fb3d5bc9d52d",
   "metadata": {
    "tags": []
   },
   "outputs": [
    {
     "name": "stdout",
     "output_type": "stream",
     "text": [
      "Defaulting to user installation because normal site-packages is not writeable\n",
      "Requirement already satisfied: datasets in /home/wxr9et/.local/lib/python3.11/site-packages (2.17.1)\n",
      "Requirement already satisfied: filelock in /home/wxr9et/.local/lib/python3.11/site-packages (from datasets) (3.13.1)\n",
      "Requirement already satisfied: numpy>=1.17 in /apps/software/standard/core/jupyterlab/3.6.3-py3.11/lib/python3.11/site-packages (from datasets) (1.24.4)\n",
      "Requirement already satisfied: pyarrow>=12.0.0 in /apps/software/standard/core/jupyterlab/3.6.3-py3.11/lib/python3.11/site-packages (from datasets) (12.0.1)\n",
      "Requirement already satisfied: pyarrow-hotfix in /home/wxr9et/.local/lib/python3.11/site-packages (from datasets) (0.6)\n",
      "Requirement already satisfied: dill<0.3.9,>=0.3.0 in /home/wxr9et/.local/lib/python3.11/site-packages (from datasets) (0.3.8)\n",
      "Requirement already satisfied: pandas in /apps/software/standard/core/jupyterlab/3.6.3-py3.11/lib/python3.11/site-packages (from datasets) (2.0.3)\n",
      "Requirement already satisfied: requests>=2.19.0 in /apps/software/standard/core/jupyterlab/3.6.3-py3.11/lib/python3.11/site-packages (from datasets) (2.31.0)\n",
      "Requirement already satisfied: tqdm>=4.62.1 in /home/wxr9et/.local/lib/python3.11/site-packages (from datasets) (4.66.1)\n",
      "Requirement already satisfied: xxhash in /home/wxr9et/.local/lib/python3.11/site-packages (from datasets) (3.4.1)\n",
      "Requirement already satisfied: multiprocess in /home/wxr9et/.local/lib/python3.11/site-packages (from datasets) (0.70.16)\n",
      "Requirement already satisfied: fsspec[http]<=2023.10.0,>=2023.1.0 in /home/wxr9et/.local/lib/python3.11/site-packages (from datasets) (2023.10.0)\n",
      "Requirement already satisfied: aiohttp in /apps/software/standard/core/jupyterlab/3.6.3-py3.11/lib/python3.11/site-packages (from datasets) (3.8.5)\n",
      "Requirement already satisfied: huggingface-hub>=0.19.4 in /home/wxr9et/.local/lib/python3.11/site-packages (from datasets) (0.20.3)\n",
      "Requirement already satisfied: packaging in /home/wxr9et/.local/lib/python3.11/site-packages (from datasets) (23.2)\n",
      "Requirement already satisfied: pyyaml>=5.1 in /apps/software/standard/core/jupyterlab/3.6.3-py3.11/lib/python3.11/site-packages (from datasets) (6.0.1)\n",
      "Requirement already satisfied: attrs>=17.3.0 in /apps/software/standard/core/jupyterlab/3.6.3-py3.11/lib/python3.11/site-packages (from aiohttp->datasets) (23.1.0)\n",
      "Requirement already satisfied: charset-normalizer<4.0,>=2.0 in /apps/software/standard/core/jupyterlab/3.6.3-py3.11/lib/python3.11/site-packages (from aiohttp->datasets) (3.2.0)\n",
      "Requirement already satisfied: multidict<7.0,>=4.5 in /apps/software/standard/core/jupyterlab/3.6.3-py3.11/lib/python3.11/site-packages (from aiohttp->datasets) (6.0.4)\n",
      "Requirement already satisfied: async-timeout<5.0,>=4.0.0a3 in /apps/software/standard/core/jupyterlab/3.6.3-py3.11/lib/python3.11/site-packages (from aiohttp->datasets) (4.0.3)\n",
      "Requirement already satisfied: yarl<2.0,>=1.0 in /apps/software/standard/core/jupyterlab/3.6.3-py3.11/lib/python3.11/site-packages (from aiohttp->datasets) (1.9.2)\n",
      "Requirement already satisfied: frozenlist>=1.1.1 in /apps/software/standard/core/jupyterlab/3.6.3-py3.11/lib/python3.11/site-packages (from aiohttp->datasets) (1.4.0)\n",
      "Requirement already satisfied: aiosignal>=1.1.2 in /apps/software/standard/core/jupyterlab/3.6.3-py3.11/lib/python3.11/site-packages (from aiohttp->datasets) (1.3.1)\n",
      "Requirement already satisfied: typing-extensions>=3.7.4.3 in /home/wxr9et/.local/lib/python3.11/site-packages (from huggingface-hub>=0.19.4->datasets) (4.9.0)\n",
      "Requirement already satisfied: idna<4,>=2.5 in /apps/software/standard/core/jupyterlab/3.6.3-py3.11/lib/python3.11/site-packages (from requests>=2.19.0->datasets) (3.4)\n",
      "Requirement already satisfied: urllib3<3,>=1.21.1 in /apps/software/standard/core/jupyterlab/3.6.3-py3.11/lib/python3.11/site-packages (from requests>=2.19.0->datasets) (2.0.4)\n",
      "Requirement already satisfied: certifi>=2017.4.17 in /apps/software/standard/core/jupyterlab/3.6.3-py3.11/lib/python3.11/site-packages (from requests>=2.19.0->datasets) (2023.7.22)\n",
      "Requirement already satisfied: python-dateutil>=2.8.2 in /apps/software/standard/core/jupyterlab/3.6.3-py3.11/lib/python3.11/site-packages (from pandas->datasets) (2.8.2)\n",
      "Requirement already satisfied: pytz>=2020.1 in /apps/software/standard/core/jupyterlab/3.6.3-py3.11/lib/python3.11/site-packages (from pandas->datasets) (2023.3)\n",
      "Requirement already satisfied: tzdata>=2022.1 in /apps/software/standard/core/jupyterlab/3.6.3-py3.11/lib/python3.11/site-packages (from pandas->datasets) (2023.3)\n",
      "Requirement already satisfied: six>=1.5 in /apps/software/standard/core/jupyterlab/3.6.3-py3.11/lib/python3.11/site-packages (from python-dateutil>=2.8.2->pandas->datasets) (1.16.0)\n"
     ]
    }
   ],
   "source": [
    "!pip install datasets"
   ]
  },
  {
   "cell_type": "code",
   "execution_count": 3,
   "id": "d3da87fe-73f9-4d9c-bc4c-f7334c01a903",
   "metadata": {
    "tags": []
   },
   "outputs": [
    {
     "name": "stdout",
     "output_type": "stream",
     "text": [
      "DatasetDict({\n",
      "    test: Dataset({\n",
      "        features: ['question', 'subject', 'choices', 'answer'],\n",
      "        num_rows: 14042\n",
      "    })\n",
      "    validation: Dataset({\n",
      "        features: ['question', 'subject', 'choices', 'answer'],\n",
      "        num_rows: 1531\n",
      "    })\n",
      "    dev: Dataset({\n",
      "        features: ['question', 'subject', 'choices', 'answer'],\n",
      "        num_rows: 285\n",
      "    })\n",
      "    auxiliary_train: Dataset({\n",
      "        features: ['question', 'subject', 'choices', 'answer'],\n",
      "        num_rows: 99842\n",
      "    })\n",
      "})\n"
     ]
    }
   ],
   "source": [
    "from datasets import load_dataset\n",
    "\n",
    "# Load the MMLU dataset\n",
    "dataset = load_dataset(\"cais/mmlu\",\"all\")\n",
    "\n",
    "# Explore the dataset\n",
    "print(dataset)\n"
   ]
  },
  {
   "cell_type": "code",
   "execution_count": 20,
   "id": "0a6532dc-f6f6-4d70-bff7-b8c13a28a2db",
   "metadata": {
    "tags": []
   },
   "outputs": [],
   "source": [
    "import pandas as pd\n",
    "test = pd.DataFrame(dataset['test'])\n",
    "test['Name'] = 'MMLU_test'"
   ]
  },
  {
   "cell_type": "code",
   "execution_count": 21,
   "id": "0b68dab1-3948-49d6-916f-dd54888570c5",
   "metadata": {
    "tags": []
   },
   "outputs": [],
   "source": [
    "val = pd.DataFrame(dataset['validation'])\n",
    "val['Name'] = 'MMLU_val'"
   ]
  },
  {
   "cell_type": "code",
   "execution_count": 22,
   "id": "5f9c82ca-775b-4e19-9c2a-6de0c6a13e06",
   "metadata": {
    "tags": []
   },
   "outputs": [],
   "source": [
    "dev = pd.DataFrame(dataset['dev'])\n",
    "dev['Name'] = 'MMLU_dev'"
   ]
  },
  {
   "cell_type": "code",
   "execution_count": 23,
   "id": "7950a62a-4080-4cbc-934b-5c1db1454091",
   "metadata": {
    "tags": []
   },
   "outputs": [
    {
     "data": {
      "text/html": [
       "<div>\n",
       "<style scoped>\n",
       "    .dataframe tbody tr th:only-of-type {\n",
       "        vertical-align: middle;\n",
       "    }\n",
       "\n",
       "    .dataframe tbody tr th {\n",
       "        vertical-align: top;\n",
       "    }\n",
       "\n",
       "    .dataframe thead th {\n",
       "        text-align: right;\n",
       "    }\n",
       "</style>\n",
       "<table border=\"1\" class=\"dataframe\">\n",
       "  <thead>\n",
       "    <tr style=\"text-align: right;\">\n",
       "      <th></th>\n",
       "      <th>Name</th>\n",
       "      <th>Category</th>\n",
       "      <th>Question</th>\n",
       "      <th>Correct Answer</th>\n",
       "    </tr>\n",
       "  </thead>\n",
       "  <tbody>\n",
       "    <tr>\n",
       "      <th>0</th>\n",
       "      <td>MMLU_test</td>\n",
       "      <td>abstract_algebra</td>\n",
       "      <td>Find the degree for the given field extension ...</td>\n",
       "      <td>B</td>\n",
       "    </tr>\n",
       "    <tr>\n",
       "      <th>1</th>\n",
       "      <td>MMLU_test</td>\n",
       "      <td>abstract_algebra</td>\n",
       "      <td>Let p = (1, 2, 5, 4)(2, 3) in S_5 . Find the i...</td>\n",
       "      <td>C</td>\n",
       "    </tr>\n",
       "    <tr>\n",
       "      <th>2</th>\n",
       "      <td>MMLU_test</td>\n",
       "      <td>abstract_algebra</td>\n",
       "      <td>Find all zeros in the indicated finite field o...</td>\n",
       "      <td>D</td>\n",
       "    </tr>\n",
       "    <tr>\n",
       "      <th>3</th>\n",
       "      <td>MMLU_test</td>\n",
       "      <td>abstract_algebra</td>\n",
       "      <td>Statement 1 | A factor group of a non-Abelian ...</td>\n",
       "      <td>B</td>\n",
       "    </tr>\n",
       "    <tr>\n",
       "      <th>4</th>\n",
       "      <td>MMLU_test</td>\n",
       "      <td>abstract_algebra</td>\n",
       "      <td>Find the product of the given polynomials in t...</td>\n",
       "      <td>B</td>\n",
       "    </tr>\n",
       "    <tr>\n",
       "      <th>...</th>\n",
       "      <td>...</td>\n",
       "      <td>...</td>\n",
       "      <td>...</td>\n",
       "      <td>...</td>\n",
       "    </tr>\n",
       "    <tr>\n",
       "      <th>280</th>\n",
       "      <td>MMLU_dev</td>\n",
       "      <td>world_religions</td>\n",
       "      <td>What is the sign of the covenant for Jewish m...</td>\n",
       "      <td>B</td>\n",
       "    </tr>\n",
       "    <tr>\n",
       "      <th>281</th>\n",
       "      <td>MMLU_dev</td>\n",
       "      <td>world_religions</td>\n",
       "      <td>What is the Second Gem in Buddhism? The option...</td>\n",
       "      <td>A</td>\n",
       "    </tr>\n",
       "    <tr>\n",
       "      <th>282</th>\n",
       "      <td>MMLU_dev</td>\n",
       "      <td>world_religions</td>\n",
       "      <td>In which dynasty was the \"Mandate of Heaven\" ...</td>\n",
       "      <td>B</td>\n",
       "    </tr>\n",
       "    <tr>\n",
       "      <th>283</th>\n",
       "      <td>MMLU_dev</td>\n",
       "      <td>world_religions</td>\n",
       "      <td>Which Japanese government promoted a kind of ...</td>\n",
       "      <td>D</td>\n",
       "    </tr>\n",
       "    <tr>\n",
       "      <th>284</th>\n",
       "      <td>MMLU_dev</td>\n",
       "      <td>world_religions</td>\n",
       "      <td>How can the Upanishads be characterized? The o...</td>\n",
       "      <td>B</td>\n",
       "    </tr>\n",
       "  </tbody>\n",
       "</table>\n",
       "<p>15858 rows × 4 columns</p>\n",
       "</div>"
      ],
      "text/plain": [
       "          Name          Category  \\\n",
       "0    MMLU_test  abstract_algebra   \n",
       "1    MMLU_test  abstract_algebra   \n",
       "2    MMLU_test  abstract_algebra   \n",
       "3    MMLU_test  abstract_algebra   \n",
       "4    MMLU_test  abstract_algebra   \n",
       "..         ...               ...   \n",
       "280   MMLU_dev   world_religions   \n",
       "281   MMLU_dev   world_religions   \n",
       "282   MMLU_dev   world_religions   \n",
       "283   MMLU_dev   world_religions   \n",
       "284   MMLU_dev   world_religions   \n",
       "\n",
       "                                              Question Correct Answer  \n",
       "0    Find the degree for the given field extension ...              B  \n",
       "1    Let p = (1, 2, 5, 4)(2, 3) in S_5 . Find the i...              C  \n",
       "2    Find all zeros in the indicated finite field o...              D  \n",
       "3    Statement 1 | A factor group of a non-Abelian ...              B  \n",
       "4    Find the product of the given polynomials in t...              B  \n",
       "..                                                 ...            ...  \n",
       "280   What is the sign of the covenant for Jewish m...              B  \n",
       "281  What is the Second Gem in Buddhism? The option...              A  \n",
       "282   In which dynasty was the \"Mandate of Heaven\" ...              B  \n",
       "283   Which Japanese government promoted a kind of ...              D  \n",
       "284  How can the Upanishads be characterized? The o...              B  \n",
       "\n",
       "[15858 rows x 4 columns]"
      ]
     },
     "execution_count": 23,
     "metadata": {},
     "output_type": "execute_result"
    }
   ],
   "source": [
    "# 1: Combine the question and choices into a single column 'Question'\n",
    "df = pd.concat([test,val,dev])\n",
    "df['Question'] = df.apply(lambda row: f\"{row['question']} The options are: \" + \n",
    "                          ', '.join([f\"{chr(65+i)}) {choice}\" for i, choice in enumerate(row['choices'])]), axis=1)\n",
    "\n",
    "# 2: Rename the columns\n",
    "df.rename(columns={'subject': 'Category', 'answer': 'Correct Answer'}, inplace=True)\n",
    "\n",
    "# 3: Change the value of 'Correct Answer' to A, B, C, D\n",
    "df['Correct Answer'] = df['Correct Answer'].apply(lambda x: chr(65 + x))\n",
    "\n",
    "# Selecting the required columns\n",
    "df_final = df[['Name', 'Category', 'Question', 'Correct Answer']]\n",
    "\n",
    "df_final"
   ]
  },
  {
   "cell_type": "code",
   "execution_count": 24,
   "id": "4dbf1e87-57dc-4902-b6d5-8f27caca621b",
   "metadata": {
    "tags": []
   },
   "outputs": [],
   "source": [
    "df_final.to_csv('../preprocessed/MMLU.csv',index = False)"
   ]
  }
 ],
 "metadata": {
  "kernelspec": {
   "display_name": "Python 3 (ipykernel)",
   "language": "python",
   "name": "python3"
  },
  "language_info": {
   "codemirror_mode": {
    "name": "ipython",
    "version": 3
   },
   "file_extension": ".py",
   "mimetype": "text/x-python",
   "name": "python",
   "nbconvert_exporter": "python",
   "pygments_lexer": "ipython3",
   "version": "3.11.4"
  }
 },
 "nbformat": 4,
 "nbformat_minor": 5
}
