{
 "cells": [
  {
   "cell_type": "markdown",
   "id": "2c05b2edd97efc80",
   "metadata": {
    "collapsed": false
   },
   "source": [
    "# Length"
   ]
  },
  {
   "cell_type": "code",
   "execution_count": 1,
   "id": "initial_id",
   "metadata": {
    "ExecuteTime": {
     "end_time": "2024-04-16T03:21:41.299292200Z",
     "start_time": "2024-04-16T03:21:41.288195900Z"
    },
    "collapsed": false
   },
   "outputs": [],
   "source": [
    "import os\n",
    "import pandas\n",
    "import numpy as np\n",
    "import pandas as pd\n",
    "import re\n",
    "import ast\n",
    "DATA_DIR = '../data'\n",
    "\n",
    "# Experiment Config\n",
    "DF_NAME = 'MathQA'\n",
    "DIFFICULTY = 'easy'\n",
    "NUM_OF_SAMPLES = 500\n",
    "NUM_OF_COT = 40\n",
    "storage_dir = os.path.join(DATA_DIR, f'Evaluation_CoTs/gpt-3.5-turbo-0125')\n",
    "file_path = os.path.join(storage_dir, f'{DF_NAME}_{DIFFICULTY}.csv')"
   ]
  },
  {
   "cell_type": "code",
   "execution_count": 2,
   "id": "f86aa082a4eabf71",
   "metadata": {
    "ExecuteTime": {
     "end_time": "2024-04-16T03:21:41.667837Z",
     "start_time": "2024-04-16T03:21:41.571848100Z"
    },
    "collapsed": false
   },
   "outputs": [],
   "source": [
    "df = pd.read_csv(file_path)"
   ]
  },
  {
   "cell_type": "code",
   "execution_count": 3,
   "id": "1c1bbb48c898293b",
   "metadata": {
    "ExecuteTime": {
     "end_time": "2024-04-16T03:21:42.340010400Z",
     "start_time": "2024-04-16T03:21:41.799359200Z"
    },
    "collapsed": false
   },
   "outputs": [
    {
     "name": "stdout",
     "output_type": "stream",
     "text": [
      "[('be a mistake', '')]\n",
      "[('', 'be an error')]\n",
      "[('', 'be an error')]\n",
      "[('', 'be an error')]\n",
      "[('', 'be an error')]\n",
      "[('', 'be an error')]\n",
      "[('be a mistake', '')]\n",
      "[('be a mistake', '')]\n",
      "[('', 'be an error')]\n",
      "[('', 'be an error')]\n",
      "[('be a mistake', ''), ('be a mistake', '')]\n",
      "[('be a mistake', '')]\n",
      "[('', 'be an error')]\n",
      "[('', 'be an error')]\n",
      "[('', 'be an error')]\n",
      "[('', 'be an error')]\n",
      "[('', 'be an error')]\n",
      "[('be a mistake', '')]\n",
      "[('be a mistake', '')]\n",
      "[('be a mistake', '')]\n",
      "[('be a mistake', '')]\n",
      "[('be a mistake', '')]\n",
      "[('', 'be an error')]\n",
      "[('', 'be an error')]\n",
      "[('', 'be an error')]\n",
      "[('', 'be an error')]\n",
      "[('', 'be an error')]\n",
      "[('be a mistake', '')]\n",
      "[('be a mistake', '')]\n",
      "[('', 'be an error')]\n",
      "[('', 'be an error')]\n",
      "[('be a mistake', '')]\n",
      "[('be a mistake', '')]\n",
      "[('be a mistake', '')]\n",
      "[('be a mistake', '')]\n",
      "[('be a mistake', '')]\n",
      "[('be a mistake', '')]\n",
      "[('', 'be an error')]\n",
      "[('', 'be an error')]\n",
      "[('', 'be an error')]\n",
      "[('', 'be an error')]\n",
      "[('', 'be an error')]\n",
      "[('', 'be an error')]\n",
      "[('', 'be an error')]\n",
      "[('', 'be an error')]\n",
      "[('', 'be an error'), ('be a mistake', '')]\n",
      "[('', 'be an error')]\n",
      "[('be a mistake', '')]\n"
     ]
    }
   ],
   "source": [
    "result_dict = {\n",
    "    'id':[],\n",
    "    'correct answer': [],\n",
    "    'CoT answers':[],\n",
    "    'length':[],\n",
    "    'instruction violation':[],\n",
    "    'internal mistake':[]\n",
    "}\n",
    "tmp = []\n",
    "for col in df.columns:\n",
    "    if col.startswith('Final Answer_'):\n",
    "        tmp.append(df[col].to_numpy())\n",
    "tmp_arr = np.vstack(tmp)\n",
    "cot_answer_li = tmp_arr.T\n",
    "# Count Steps\n",
    "step_count_buffer = []\n",
    "for col in df:\n",
    "    if col.startswith('CoT_'):\n",
    "        cleaned_answers = []\n",
    "        for entry in df[col]:\n",
    "            # Extract numbers using regular expression\n",
    "            steps = re.findall(r'[Ss]tep\\s?\\d', str(entry))\n",
    "            if steps:\n",
    "                # Join all numbers with space if there are multiple numbers\n",
    "                cleaned_answers.append(len(steps))\n",
    "            else:\n",
    "                # If no number is found, replace with 'error'\n",
    "                cleaned_answers.append(0)\n",
    "        step_count_buffer.append(cleaned_answers)\n",
    "\n",
    "step_count = np.array(step_count_buffer).T\n",
    "# Violate instruction\n",
    "instruction_buffer = []\n",
    "for col in df:\n",
    "    if col.startswith('Instruction Violation_'):\n",
    "        cleaned_answers = []\n",
    "        for entry in df[col]:\n",
    "            # Extract numbers using regular expression\n",
    "            x = ast.literal_eval(entry)\n",
    "            cleaned_answers.append(sum([sum(idx) for idx in x]))\n",
    "        instruction_buffer.append(cleaned_answers)\n",
    "\n",
    "instruction_error = np.array(instruction_buffer).T\n",
    "\n",
    "# Internal Mistake mentioned\n",
    "mistake_buffer = []\n",
    "for col in df:\n",
    "    if col.startswith('CoT_'):\n",
    "        cleaned_answers = []\n",
    "        for entry in df[col]:\n",
    "            # Extract numbers using regular expression\n",
    "            misktake = re.findall(r'(be a mistake)|(be an error)', str(entry))\n",
    "            if misktake:\n",
    "                cleaned_answers.append(1)\n",
    "                print(misktake)\n",
    "            else:\n",
    "                # If no number is found, replace with 'error'\n",
    "                cleaned_answers.append(0)\n",
    "        mistake_buffer.append(cleaned_answers)\n",
    "\n",
    "mistakes = np.array(mistake_buffer).T\n",
    "assert cot_answer_li.shape == step_count.shape == instruction_error.shape == mistakes.shape"
   ]
  },
  {
   "cell_type": "code",
   "execution_count": 4,
   "id": "c16d7c14d6e4cd18",
   "metadata": {
    "ExecuteTime": {
     "end_time": "2024-04-16T03:21:42.367552400Z",
     "start_time": "2024-04-16T03:21:42.316890700Z"
    },
    "collapsed": false
   },
   "outputs": [],
   "source": [
    "for row in range(len(df)):\n",
    "    cot_li_sample = cot_answer_li[row]\n",
    "    length_li_sample = step_count[row]\n",
    "    IV_li_sample = instruction_error[row]\n",
    "    mistake_sample = mistakes[row]\n",
    "    result_dict['id'].append(row)\n",
    "    result_dict['correct answer'].append(df.iloc[row]['Correct Answer'])\n",
    "    result_dict['CoT answers'].append(cot_li_sample)\n",
    "    result_dict['length'].append(length_li_sample)\n",
    "    result_dict['instruction violation'].append(IV_li_sample)\n",
    "    result_dict['internal mistake'].append(mistake_sample)\n"
   ]
  },
  {
   "cell_type": "code",
   "execution_count": 5,
   "id": "9f1e2707f4993eac",
   "metadata": {
    "ExecuteTime": {
     "end_time": "2024-04-16T03:21:42.367552400Z",
     "start_time": "2024-04-16T03:21:42.362597900Z"
    },
    "collapsed": false
   },
   "outputs": [],
   "source": [
    "df_final = pd.DataFrame.from_dict(result_dict)"
   ]
  },
  {
   "cell_type": "code",
   "execution_count": 6,
   "id": "87cd410fad9a7596",
   "metadata": {
    "ExecuteTime": {
     "end_time": "2024-04-16T03:21:42.377629300Z",
     "start_time": "2024-04-16T03:21:42.371113100Z"
    },
    "collapsed": false
   },
   "outputs": [],
   "source": [
    "storage_dir = os.path.join(DATA_DIR, f'Evaluation_CoTs/Algo_Design_Data')\n",
    "file_store_path = os.path.join(storage_dir, f'{DF_NAME}_{DIFFICULTY}.csv')\n"
   ]
  },
  {
   "cell_type": "code",
   "execution_count": 7,
   "id": "af1fcffab12e81e5",
   "metadata": {
    "ExecuteTime": {
     "end_time": "2024-04-16T03:21:42.436036200Z",
     "start_time": "2024-04-16T03:21:42.429522200Z"
    },
    "collapsed": false
   },
   "outputs": [],
   "source": [
    "# df_final.to_csv(file_store_path,index= False)"
   ]
  },
  {
   "cell_type": "markdown",
   "id": "9ab9a469a7a4381d",
   "metadata": {
    "collapsed": false
   },
   "source": [
    "# Visualize"
   ]
  },
  {
   "cell_type": "code",
   "execution_count": 7,
   "id": "42bff7f46c41a4b3",
   "metadata": {
    "ExecuteTime": {
     "end_time": "2024-04-16T03:21:42.886892400Z",
     "start_time": "2024-04-16T03:21:42.882887800Z"
    },
    "collapsed": false
   },
   "outputs": [],
   "source": [
    "import random\n",
    "import seaborn as sns\n",
    "import matplotlib.pyplot as plt\n",
    "random.seed(666)"
   ]
  },
  {
   "cell_type": "code",
   "execution_count": 11,
   "id": "afb7327d1756af6d",
   "metadata": {
    "ExecuteTime": {
     "end_time": "2024-04-16T03:21:43.679632300Z",
     "start_time": "2024-04-16T03:21:43.607634500Z"
    },
    "collapsed": false
   },
   "outputs": [],
   "source": [
    "all_correctness = []\n",
    "all_length = []\n",
    "all_IV = []\n",
    "all_IM = []\n",
    "for row in range(len(df_final)):\n",
    "    df_row = df_final.iloc[row]\n",
    "    correctness = [str(df_row['correct answer']) == i for i in df_row['CoT answers'].tolist()]\n",
    "    length = df_row['length']\n",
    "    IV = df_row['instruction violation']\n",
    "    IM = df_row['internal mistake']\n",
    "    \n",
    "    all_correctness+=correctness\n",
    "    all_length += length.tolist()\n",
    "    all_IV += IV.tolist()\n",
    "    all_IM += IM.tolist()\n",
    "    assert len(all_correctness) == len(all_length) == len(all_IV) == len(all_IM)\n",
    "    "
   ]
  },
  {
   "cell_type": "code",
   "execution_count": 12,
   "id": "b69759ace6a2d071",
   "metadata": {
    "ExecuteTime": {
     "end_time": "2024-04-16T03:21:43.817514100Z",
     "start_time": "2024-04-16T03:21:43.809965900Z"
    },
    "collapsed": false
   },
   "outputs": [
    {
     "name": "stdout",
     "output_type": "stream",
     "text": [
      "[[ 1.         -0.07492529]\n",
      " [-0.07492529  1.        ]]\n",
      "[[ 1.        -0.0535971]\n",
      " [-0.0535971  1.       ]]\n",
      "[[ 1.         -0.04722619]\n",
      " [-0.04722619  1.        ]]\n"
     ]
    }
   ],
   "source": [
    "print(np.corrcoef(all_correctness,all_length))\n",
    "print(np.corrcoef(all_correctness,all_IV))\n",
    "print(np.corrcoef(all_correctness,all_IM))"
   ]
  },
  {
   "cell_type": "code",
   "execution_count": 14,
   "id": "e82cc6a5c0aef3f0",
   "metadata": {
    "ExecuteTime": {
     "end_time": "2024-04-16T03:17:40.575494300Z",
     "start_time": "2024-04-16T03:17:40.560466500Z"
    },
    "collapsed": false
   },
   "outputs": [
    {
     "name": "stdout",
     "output_type": "stream",
     "text": [
      "Chi2 Stat: 88.99415810433538\n",
      "P value: 1.092902185304231e-17\n",
      "Degrees of freedom: 5\n",
      "Expected frequencies table:\n",
      " [[9.34326525e+03 4.97750000e-01 4.33042500e+02 9.90522500e+01\n",
      "  4.03177500e+01 3.88245000e+01]\n",
      " [9.42773475e+03 5.02250000e-01 4.36957500e+02 9.99477500e+01\n",
      "  4.06822500e+01 3.91755000e+01]]\n"
     ]
    }
   ],
   "source": [
    "import scipy.stats as stats\n",
    "contingency_table = pd.crosstab(index=all_correctness, columns=all_IV)\n",
    "\n",
    "# Perform the Chi-square test\n",
    "chi2, p, dof, expected = stats.chi2_contingency(contingency_table)\n",
    "\n",
    "print(\"Chi2 Stat:\", chi2)\n",
    "print(\"P value:\", p)\n",
    "print(\"Degrees of freedom:\", dof)\n",
    "print(\"Expected frequencies table:\\n\", expected)"
   ]
  },
  {
   "cell_type": "code",
   "execution_count": 15,
   "id": "7de96b30d3ae037c",
   "metadata": {
    "ExecuteTime": {
     "end_time": "2024-04-16T03:14:40.312314Z",
     "start_time": "2024-04-16T03:14:40.290919600Z"
    },
    "collapsed": false
   },
   "outputs": [
    {
     "name": "stdout",
     "output_type": "stream",
     "text": [
      "Spearman's correlation coefficient: -0.08053141867014806\n",
      "P value: 3.872294988681403e-30\n",
      "Spearman's correlation coefficient: -0.03133424010640949\n",
      "P value: 9.330153980593303e-06\n",
      "Spearman's correlation coefficient: -0.047226190546026094\n",
      "P value: 2.355378294691026e-11\n"
     ]
    }
   ],
   "source": [
    "corr, p_value = stats.spearmanr(all_correctness, all_length)\n",
    "\n",
    "print(\"Spearman's correlation coefficient:\", corr)\n",
    "print(\"P value:\", p_value)\n",
    "corr, p_value = stats.spearmanr(all_correctness, all_IV)\n",
    "\n",
    "print(\"Spearman's correlation coefficient:\", corr)\n",
    "print(\"P value:\", p_value)\n",
    "corr, p_value = stats.spearmanr(all_correctness, all_IM)\n",
    "\n",
    "print(\"Spearman's correlation coefficient:\", corr)\n",
    "print(\"P value:\", p_value)"
   ]
  },
  {
   "cell_type": "code",
   "execution_count": 16,
   "id": "9913e62e938d0478",
   "metadata": {
    "collapsed": false
   },
   "outputs": [
    {
     "data": {
      "text/html": [
       "<div>\n",
       "<style scoped>\n",
       "    .dataframe tbody tr th:only-of-type {\n",
       "        vertical-align: middle;\n",
       "    }\n",
       "\n",
       "    .dataframe tbody tr th {\n",
       "        vertical-align: top;\n",
       "    }\n",
       "\n",
       "    .dataframe thead th {\n",
       "        text-align: right;\n",
       "    }\n",
       "</style>\n",
       "<table border=\"1\" class=\"dataframe\">\n",
       "  <thead>\n",
       "    <tr style=\"text-align: right;\">\n",
       "      <th></th>\n",
       "      <th>id</th>\n",
       "      <th>correct answer</th>\n",
       "      <th>CoT answers</th>\n",
       "      <th>length</th>\n",
       "      <th>instruction violation</th>\n",
       "      <th>internal mistake</th>\n",
       "    </tr>\n",
       "  </thead>\n",
       "  <tbody>\n",
       "    <tr>\n",
       "      <th>0</th>\n",
       "      <td>0</td>\n",
       "      <td>c</td>\n",
       "      <td>[c, c, c, c, c, c, c, c, c, c, c, c, c, c, c, ...</td>\n",
       "      <td>[4, 4, 4, 4, 4, 4, 4, 4, 4, 4, 4, 4, 4, 4, 5, ...</td>\n",
       "      <td>[0, 0, 0, 0, 0, 0, 0, 0, 0, 0, 0, 0, 0, 0, 0, ...</td>\n",
       "      <td>[0, 0, 0, 0, 0, 0, 0, 0, 0, 0, 0, 0, 0, 0, 0, ...</td>\n",
       "    </tr>\n",
       "    <tr>\n",
       "      <th>1</th>\n",
       "      <td>1</td>\n",
       "      <td>b</td>\n",
       "      <td>[e, e, c, a, e, 5 / 9, c, d, c, c, e, 5 / 9, c...</td>\n",
       "      <td>[4, 3, 3, 4, 3, 4, 3, 3, 3, 6, 3, 3, 3, 3, 3, ...</td>\n",
       "      <td>[0, 0, 0, 0, 0, 0, 0, 0, 0, 0, 0, 0, 0, 0, 0, ...</td>\n",
       "      <td>[0, 0, 0, 0, 0, 0, 0, 0, 0, 0, 0, 0, 0, 0, 0, ...</td>\n",
       "    </tr>\n",
       "    <tr>\n",
       "      <th>2</th>\n",
       "      <td>2</td>\n",
       "      <td>c</td>\n",
       "      <td>[c, a, c, c, c, d, c, c, c, c, c, c, 7, 6, c, ...</td>\n",
       "      <td>[6, 6, 9, 6, 6, 4, 5, 6, 6, 7, 6, 6, 6, 6, 7, ...</td>\n",
       "      <td>[0, 0, 0, 0, 0, 0, 0, 0, 0, 0, 0, 0, 0, 0, 0, ...</td>\n",
       "      <td>[0, 0, 0, 0, 0, 0, 0, 0, 0, 0, 0, 0, 0, 0, 0, ...</td>\n",
       "    </tr>\n",
       "    <tr>\n",
       "      <th>3</th>\n",
       "      <td>3</td>\n",
       "      <td>d</td>\n",
       "      <td>[d, d, a, 1 / 18, b, b, b, b, b, d, b, 1 / 18,...</td>\n",
       "      <td>[4, 3, 4, 3, 6, 6, 3, 5, 5, 3, 3, 3, 7, 7, 7, ...</td>\n",
       "      <td>[0, 0, 0, 0, 0, 0, 0, 0, 0, 0, 0, 0, 0, 0, 0, ...</td>\n",
       "      <td>[0, 0, 0, 0, 0, 0, 0, 0, 0, 0, 0, 0, 0, 0, 0, ...</td>\n",
       "    </tr>\n",
       "    <tr>\n",
       "      <th>4</th>\n",
       "      <td>4</td>\n",
       "      <td>a</td>\n",
       "      <td>[a, b, a, d, b, a, b, cannot be determined, b,...</td>\n",
       "      <td>[4, 6, 5, 3, 8, 3, 6, 3, 3, 3, 2, 3, 4, 6, 6, ...</td>\n",
       "      <td>[0, 0, 0, 0, 0, 0, 0, 0, 0, 0, 0, 0, 0, 0, 0, ...</td>\n",
       "      <td>[0, 0, 0, 0, 0, 0, 0, 1, 0, 0, 0, 0, 0, 0, 0, ...</td>\n",
       "    </tr>\n",
       "    <tr>\n",
       "      <th>...</th>\n",
       "      <td>...</td>\n",
       "      <td>...</td>\n",
       "      <td>...</td>\n",
       "      <td>...</td>\n",
       "      <td>...</td>\n",
       "      <td>...</td>\n",
       "    </tr>\n",
       "    <tr>\n",
       "      <th>495</th>\n",
       "      <td>495</td>\n",
       "      <td>b</td>\n",
       "      <td>[b, b, b, b, b, b, b, b, 17, b, 17, 17, b, b, ...</td>\n",
       "      <td>[4, 6, 5, 6, 9, 5, 6, 4, 8, 4, 8, 8, 8, 8, 8, ...</td>\n",
       "      <td>[0, 0, 0, 0, 0, 0, 0, 0, 0, 0, 0, 0, 0, 0, 0, ...</td>\n",
       "      <td>[0, 0, 0, 0, 0, 0, 0, 0, 0, 0, 0, 0, 0, 0, 0, ...</td>\n",
       "    </tr>\n",
       "    <tr>\n",
       "      <th>496</th>\n",
       "      <td>496</td>\n",
       "      <td>e</td>\n",
       "      <td>[e, e, e, e, e, e, e, e, e, e, e, e, e, e, e, ...</td>\n",
       "      <td>[5, 5, 4, 5, 5, 5, 5, 5, 5, 4, 4, 3, 4, 3, 5, ...</td>\n",
       "      <td>[0, 0, 0, 0, 0, 0, 0, 0, 0, 0, 0, 0, 0, 0, 0, ...</td>\n",
       "      <td>[0, 0, 0, 0, 0, 0, 0, 0, 0, 0, 0, 0, 0, 0, 0, ...</td>\n",
       "    </tr>\n",
       "    <tr>\n",
       "      <th>497</th>\n",
       "      <td>497</td>\n",
       "      <td>c</td>\n",
       "      <td>[c, 100 m, 750 m, a, c, e, c, c, a, a, 400, c,...</td>\n",
       "      <td>[2, 6, 2, 3, 13, 7, 4, 6, 13, 4, 4, 6, 12, 11,...</td>\n",
       "      <td>[1, 0, 0, 0, 0, 0, 0, 0, 0, 0, 0, 0, 0, 0, 0, ...</td>\n",
       "      <td>[0, 0, 0, 0, 0, 0, 0, 0, 0, 0, 0, 0, 0, 1, 0, ...</td>\n",
       "    </tr>\n",
       "    <tr>\n",
       "      <th>498</th>\n",
       "      <td>498</td>\n",
       "      <td>b</td>\n",
       "      <td>[e, 10 ^ 1180, e, error, e, error, e, e, error...</td>\n",
       "      <td>[3, 3, 1, 0, 3, 0, 4, 4, 0, 3, 4, 3, 3, 1, 3, ...</td>\n",
       "      <td>[2, 2, 0, 10, 0, 10, 2, 0, 10, 0, 0, 0, 0, 0, ...</td>\n",
       "      <td>[0, 0, 0, 0, 0, 0, 0, 0, 0, 0, 0, 0, 0, 0, 0, ...</td>\n",
       "    </tr>\n",
       "    <tr>\n",
       "      <th>499</th>\n",
       "      <td>499</td>\n",
       "      <td>a</td>\n",
       "      <td>[a, a, a, a, a, a, a, a, a, a, a, a, a, a, b, ...</td>\n",
       "      <td>[5, 3, 4, 2, 2, 2, 2, 2, 5, 4, 2, 2, 2, 2, 5, ...</td>\n",
       "      <td>[0, 0, 0, 0, 0, 0, 0, 0, 0, 0, 0, 0, 0, 0, 0, ...</td>\n",
       "      <td>[0, 0, 0, 0, 0, 0, 0, 0, 0, 0, 0, 0, 0, 0, 0, ...</td>\n",
       "    </tr>\n",
       "  </tbody>\n",
       "</table>\n",
       "<p>500 rows × 6 columns</p>\n",
       "</div>"
      ],
      "text/plain": [
       "      id correct answer                                        CoT answers  \\\n",
       "0      0              c  [c, c, c, c, c, c, c, c, c, c, c, c, c, c, c, ...   \n",
       "1      1              b  [e, e, c, a, e, 5 / 9, c, d, c, c, e, 5 / 9, c...   \n",
       "2      2              c  [c, a, c, c, c, d, c, c, c, c, c, c, 7, 6, c, ...   \n",
       "3      3              d  [d, d, a, 1 / 18, b, b, b, b, b, d, b, 1 / 18,...   \n",
       "4      4              a  [a, b, a, d, b, a, b, cannot be determined, b,...   \n",
       "..   ...            ...                                                ...   \n",
       "495  495              b  [b, b, b, b, b, b, b, b, 17, b, 17, 17, b, b, ...   \n",
       "496  496              e  [e, e, e, e, e, e, e, e, e, e, e, e, e, e, e, ...   \n",
       "497  497              c  [c, 100 m, 750 m, a, c, e, c, c, a, a, 400, c,...   \n",
       "498  498              b  [e, 10 ^ 1180, e, error, e, error, e, e, error...   \n",
       "499  499              a  [a, a, a, a, a, a, a, a, a, a, a, a, a, a, b, ...   \n",
       "\n",
       "                                                length  \\\n",
       "0    [4, 4, 4, 4, 4, 4, 4, 4, 4, 4, 4, 4, 4, 4, 5, ...   \n",
       "1    [4, 3, 3, 4, 3, 4, 3, 3, 3, 6, 3, 3, 3, 3, 3, ...   \n",
       "2    [6, 6, 9, 6, 6, 4, 5, 6, 6, 7, 6, 6, 6, 6, 7, ...   \n",
       "3    [4, 3, 4, 3, 6, 6, 3, 5, 5, 3, 3, 3, 7, 7, 7, ...   \n",
       "4    [4, 6, 5, 3, 8, 3, 6, 3, 3, 3, 2, 3, 4, 6, 6, ...   \n",
       "..                                                 ...   \n",
       "495  [4, 6, 5, 6, 9, 5, 6, 4, 8, 4, 8, 8, 8, 8, 8, ...   \n",
       "496  [5, 5, 4, 5, 5, 5, 5, 5, 5, 4, 4, 3, 4, 3, 5, ...   \n",
       "497  [2, 6, 2, 3, 13, 7, 4, 6, 13, 4, 4, 6, 12, 11,...   \n",
       "498  [3, 3, 1, 0, 3, 0, 4, 4, 0, 3, 4, 3, 3, 1, 3, ...   \n",
       "499  [5, 3, 4, 2, 2, 2, 2, 2, 5, 4, 2, 2, 2, 2, 5, ...   \n",
       "\n",
       "                                 instruction violation  \\\n",
       "0    [0, 0, 0, 0, 0, 0, 0, 0, 0, 0, 0, 0, 0, 0, 0, ...   \n",
       "1    [0, 0, 0, 0, 0, 0, 0, 0, 0, 0, 0, 0, 0, 0, 0, ...   \n",
       "2    [0, 0, 0, 0, 0, 0, 0, 0, 0, 0, 0, 0, 0, 0, 0, ...   \n",
       "3    [0, 0, 0, 0, 0, 0, 0, 0, 0, 0, 0, 0, 0, 0, 0, ...   \n",
       "4    [0, 0, 0, 0, 0, 0, 0, 0, 0, 0, 0, 0, 0, 0, 0, ...   \n",
       "..                                                 ...   \n",
       "495  [0, 0, 0, 0, 0, 0, 0, 0, 0, 0, 0, 0, 0, 0, 0, ...   \n",
       "496  [0, 0, 0, 0, 0, 0, 0, 0, 0, 0, 0, 0, 0, 0, 0, ...   \n",
       "497  [1, 0, 0, 0, 0, 0, 0, 0, 0, 0, 0, 0, 0, 0, 0, ...   \n",
       "498  [2, 2, 0, 10, 0, 10, 2, 0, 10, 0, 0, 0, 0, 0, ...   \n",
       "499  [0, 0, 0, 0, 0, 0, 0, 0, 0, 0, 0, 0, 0, 0, 0, ...   \n",
       "\n",
       "                                      internal mistake  \n",
       "0    [0, 0, 0, 0, 0, 0, 0, 0, 0, 0, 0, 0, 0, 0, 0, ...  \n",
       "1    [0, 0, 0, 0, 0, 0, 0, 0, 0, 0, 0, 0, 0, 0, 0, ...  \n",
       "2    [0, 0, 0, 0, 0, 0, 0, 0, 0, 0, 0, 0, 0, 0, 0, ...  \n",
       "3    [0, 0, 0, 0, 0, 0, 0, 0, 0, 0, 0, 0, 0, 0, 0, ...  \n",
       "4    [0, 0, 0, 0, 0, 0, 0, 1, 0, 0, 0, 0, 0, 0, 0, ...  \n",
       "..                                                 ...  \n",
       "495  [0, 0, 0, 0, 0, 0, 0, 0, 0, 0, 0, 0, 0, 0, 0, ...  \n",
       "496  [0, 0, 0, 0, 0, 0, 0, 0, 0, 0, 0, 0, 0, 0, 0, ...  \n",
       "497  [0, 0, 0, 0, 0, 0, 0, 0, 0, 0, 0, 0, 0, 1, 0, ...  \n",
       "498  [0, 0, 0, 0, 0, 0, 0, 0, 0, 0, 0, 0, 0, 0, 0, ...  \n",
       "499  [0, 0, 0, 0, 0, 0, 0, 0, 0, 0, 0, 0, 0, 0, 0, ...  \n",
       "\n",
       "[500 rows x 6 columns]"
      ]
     },
     "execution_count": 16,
     "metadata": {},
     "output_type": "execute_result"
    }
   ],
   "source": [
    "df_final"
   ]
  },
  {
   "cell_type": "code",
   "execution_count": null,
   "id": "0fa266a9",
   "metadata": {},
   "outputs": [],
   "source": [
    "# TODO: 1: Check consistency on the CoT answers and correct answers\n",
    "#       2: Try an ordinal logistic regression model to predict the correctness of the CoT answers and measure the importance of the features\n",
    "#       3: Try binary logistic regression model to predict the correctness of the CoT answers and measure the importance of the features if the ordinal logistic regression model does not work(assumption violated)\n",
    "#       4: Build a scoring function (LR/RF) to predict a confidence score for each CoT answer, and then use the correct binary outcome to verify the corretness of confidence score. (AUROC,calibration plot)"
   ]
  }
 ],
 "metadata": {
  "kernelspec": {
   "display_name": "dl",
   "language": "python",
   "name": "python3"
  },
  "language_info": {
   "codemirror_mode": {
    "name": "ipython",
    "version": 3
   },
   "file_extension": ".py",
   "mimetype": "text/x-python",
   "name": "python",
   "nbconvert_exporter": "python",
   "pygments_lexer": "ipython3",
   "version": "3.12.0"
  }
 },
 "nbformat": 4,
 "nbformat_minor": 5
}
