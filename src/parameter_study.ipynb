{
 "cells": [
  {
   "cell_type": "markdown",
   "source": [
    "# Length"
   ],
   "metadata": {
    "collapsed": false
   },
   "id": "2c05b2edd97efc80"
  },
  {
   "cell_type": "code",
   "execution_count": 196,
   "outputs": [],
   "source": [
    "import os\n",
    "import pandas\n",
    "import numpy as np\n",
    "import pandas as pd\n",
    "import re\n",
    "import ast\n",
    "DATA_DIR = '../data'\n",
    "\n",
    "# Experiment Config\n",
    "DF_NAME = 'GSM8K'\n",
    "DIFFICULTY = 'easy'\n",
    "NUM_OF_SAMPLES = 500\n",
    "NUM_OF_COT = 40\n",
    "storage_dir = os.path.join(DATA_DIR, f'Evaluation_CoTs/gpt-3.5-turbo-0125')\n",
    "file_path = os.path.join(storage_dir, f'{DF_NAME}_{DIFFICULTY}.csv')"
   ],
   "metadata": {
    "collapsed": false,
    "ExecuteTime": {
     "end_time": "2024-04-16T03:21:41.299292200Z",
     "start_time": "2024-04-16T03:21:41.288195900Z"
    }
   },
   "id": "initial_id"
  },
  {
   "cell_type": "code",
   "execution_count": 197,
   "outputs": [],
   "source": [
    "df = pd.read_csv(file_path)"
   ],
   "metadata": {
    "collapsed": false,
    "ExecuteTime": {
     "end_time": "2024-04-16T03:21:41.667837Z",
     "start_time": "2024-04-16T03:21:41.571848100Z"
    }
   },
   "id": "f86aa082a4eabf71"
  },
  {
   "cell_type": "code",
   "execution_count": 198,
   "outputs": [
    {
     "name": "stdout",
     "output_type": "stream",
     "text": [
      "[('', 'be an error')]\n",
      "[('be a mistake', '')]\n",
      "[('', 'be an error')]\n",
      "[('', 'be an error'), ('be a mistake', '')]\n",
      "[('be a mistake', '')]\n",
      "[('', 'be an error')]\n",
      "[('be a mistake', '')]\n",
      "[('be a mistake', ''), ('', 'be an error')]\n",
      "[('', 'be an error')]\n",
      "[('be a mistake', '')]\n",
      "[('be a mistake', '')]\n",
      "[('', 'be an error')]\n",
      "[('be a mistake', '')]\n",
      "[('', 'be an error')]\n",
      "[('be a mistake', '')]\n",
      "[('', 'be an error')]\n",
      "[('', 'be an error')]\n",
      "[('', 'be an error')]\n",
      "[('', 'be an error')]\n",
      "[('', 'be an error')]\n",
      "[('', 'be an error')]\n",
      "[('', 'be an error')]\n",
      "[('', 'be an error')]\n",
      "[('', 'be an error')]\n",
      "[('be a mistake', '')]\n",
      "[('', 'be an error')]\n",
      "[('be a mistake', '')]\n",
      "[('be a mistake', '')]\n",
      "[('', 'be an error')]\n",
      "[('', 'be an error')]\n",
      "[('be a mistake', '')]\n",
      "[('', 'be an error')]\n",
      "[('be a mistake', '')]\n",
      "[('be a mistake', '')]\n",
      "[('', 'be an error')]\n",
      "[('be a mistake', '')]\n",
      "[('', 'be an error')]\n",
      "[('', 'be an error')]\n",
      "[('', 'be an error')]\n"
     ]
    }
   ],
   "source": [
    "result_dict = {\n",
    "    'id':[],\n",
    "    'correct answer': [],\n",
    "    'CoT answers':[],\n",
    "    'length':[],\n",
    "    'instruction violation':[],\n",
    "    'internal mistake':[]\n",
    "}\n",
    "tmp = []\n",
    "for col in df.columns:\n",
    "    if col.startswith('Final Answer_'):\n",
    "        tmp.append(df[col].to_numpy())\n",
    "tmp_arr = np.vstack(tmp)\n",
    "cot_answer_li = tmp_arr.T\n",
    "# Count Steps\n",
    "step_count_buffer = []\n",
    "for col in df:\n",
    "    if col.startswith('CoT_'):\n",
    "        cleaned_answers = []\n",
    "        for entry in df[col]:\n",
    "            # Extract numbers using regular expression\n",
    "            steps = re.findall(r'[Ss]tep\\s?\\d', str(entry))\n",
    "            if steps:\n",
    "                # Join all numbers with space if there are multiple numbers\n",
    "                cleaned_answers.append(len(steps))\n",
    "            else:\n",
    "                # If no number is found, replace with 'error'\n",
    "                cleaned_answers.append(0)\n",
    "        step_count_buffer.append(cleaned_answers)\n",
    "\n",
    "step_count = np.array(step_count_buffer).T\n",
    "# Violate instruction\n",
    "instruction_buffer = []\n",
    "for col in df:\n",
    "    if col.startswith('Instruction Violation_'):\n",
    "        cleaned_answers = []\n",
    "        for entry in df[col]:\n",
    "            # Extract numbers using regular expression\n",
    "            x = ast.literal_eval(entry)\n",
    "            cleaned_answers.append(sum([sum(idx) for idx in x]))\n",
    "        instruction_buffer.append(cleaned_answers)\n",
    "\n",
    "instruction_error = np.array(instruction_buffer).T\n",
    "\n",
    "# Internal Mistake mentioned\n",
    "mistake_buffer = []\n",
    "for col in df:\n",
    "    if col.startswith('CoT_'):\n",
    "        cleaned_answers = []\n",
    "        for entry in df[col]:\n",
    "            # Extract numbers using regular expression\n",
    "            misktake = re.findall(r'(be a mistake)|(be an error)', str(entry))\n",
    "            if misktake:\n",
    "                cleaned_answers.append(1)\n",
    "            else:\n",
    "                # If no number is found, replace with 'error'\n",
    "                cleaned_answers.append(0)\n",
    "        mistake_buffer.append(cleaned_answers)\n",
    "\n",
    "mistakes = np.array(mistake_buffer).T\n",
    "assert cot_answer_li.shape == step_count.shape == instruction_error.shape == mistakes.shape"
   ],
   "metadata": {
    "collapsed": false,
    "ExecuteTime": {
     "end_time": "2024-04-16T03:21:42.340010400Z",
     "start_time": "2024-04-16T03:21:41.799359200Z"
    }
   },
   "id": "1c1bbb48c898293b"
  },
  {
   "cell_type": "code",
   "execution_count": 199,
   "outputs": [],
   "source": [
    "for row in range(len(df)):\n",
    "    cot_li_sample = cot_answer_li[row]\n",
    "    length_li_sample = step_count[row]\n",
    "    IV_li_sample = instruction_error[row]\n",
    "    mistake_sample = mistakes[row]\n",
    "    result_dict['id'].append(row)\n",
    "    result_dict['correct answer'].append(df.iloc[row]['Correct Answer'])\n",
    "    result_dict['CoT answers'].append(cot_li_sample)\n",
    "    result_dict['length'].append(length_li_sample)\n",
    "    result_dict['instruction violation'].append(IV_li_sample)\n",
    "    result_dict['internal mistake'].append(mistake_sample)\n"
   ],
   "metadata": {
    "collapsed": false,
    "ExecuteTime": {
     "end_time": "2024-04-16T03:21:42.367552400Z",
     "start_time": "2024-04-16T03:21:42.316890700Z"
    }
   },
   "id": "c16d7c14d6e4cd18"
  },
  {
   "cell_type": "code",
   "execution_count": 200,
   "outputs": [],
   "source": [
    "df_final = pd.DataFrame.from_dict(result_dict)"
   ],
   "metadata": {
    "collapsed": false,
    "ExecuteTime": {
     "end_time": "2024-04-16T03:21:42.367552400Z",
     "start_time": "2024-04-16T03:21:42.362597900Z"
    }
   },
   "id": "9f1e2707f4993eac"
  },
  {
   "cell_type": "code",
   "execution_count": 201,
   "outputs": [],
   "source": [
    "storage_dir = os.path.join(DATA_DIR, f'Evaluation_CoTs/Algo_Design_Data')\n",
    "file_store_path = os.path.join(storage_dir, f'{DF_NAME}_{DIFFICULTY}.csv')\n"
   ],
   "metadata": {
    "collapsed": false,
    "ExecuteTime": {
     "end_time": "2024-04-16T03:21:42.377629300Z",
     "start_time": "2024-04-16T03:21:42.371113100Z"
    }
   },
   "id": "87cd410fad9a7596"
  },
  {
   "cell_type": "code",
   "execution_count": 202,
   "outputs": [],
   "source": [
    "# df_final.to_csv(file_store_path,index= False)"
   ],
   "metadata": {
    "collapsed": false,
    "ExecuteTime": {
     "end_time": "2024-04-16T03:21:42.436036200Z",
     "start_time": "2024-04-16T03:21:42.429522200Z"
    }
   },
   "id": "af1fcffab12e81e5"
  },
  {
   "cell_type": "markdown",
   "source": [
    "# Visualize"
   ],
   "metadata": {
    "collapsed": false
   },
   "id": "9ab9a469a7a4381d"
  },
  {
   "cell_type": "code",
   "execution_count": 203,
   "outputs": [],
   "source": [
    "import random\n",
    "import seaborn as sns\n",
    "import matplotlib.pyplot as plt\n",
    "random.seed(666)"
   ],
   "metadata": {
    "collapsed": false,
    "ExecuteTime": {
     "end_time": "2024-04-16T03:21:42.886892400Z",
     "start_time": "2024-04-16T03:21:42.882887800Z"
    }
   },
   "id": "42bff7f46c41a4b3"
  },
  {
   "cell_type": "code",
   "execution_count": 204,
   "outputs": [],
   "source": [
    "test_set = random.sample([i for i in range(NUM_OF_SAMPLES)],k=10)"
   ],
   "metadata": {
    "collapsed": false,
    "ExecuteTime": {
     "end_time": "2024-04-16T03:21:43.064700Z",
     "start_time": "2024-04-16T03:21:43.059045300Z"
    }
   },
   "id": "8b8ca6aae3778b68"
  },
  {
   "cell_type": "code",
   "execution_count": 205,
   "outputs": [],
   "source": [
    "df_sample = df_final.iloc[test_set]"
   ],
   "metadata": {
    "collapsed": false,
    "ExecuteTime": {
     "end_time": "2024-04-16T03:21:43.232717500Z",
     "start_time": "2024-04-16T03:21:43.228719200Z"
    }
   },
   "id": "676c3d49c48aee0a"
  },
  {
   "cell_type": "code",
   "execution_count": 206,
   "outputs": [],
   "source": [
    "# for row in range(len(df_sample)):\n",
    "#     x = range(NUM_OF_COT)\n",
    "#     \n",
    "#     test_sample = df_sample.iloc[row]\n",
    "#     correctness = [test_sample['correct answer'] == i for i in test_sample['CoT answers'].tolist()]\n",
    "#     \n",
    "#     # Set the theme for the plot\n",
    "#     sns.set_theme(style=\"darkgrid\")\n",
    "#     \n",
    "#     # Create each lineplot with a label for the legend\n",
    "#     sns.lineplot(x=x, y=correctness, label='Correctness')\n",
    "#     sns.lineplot(x=x, y=test_sample['length'], label='Length')\n",
    "#     sns.lineplot(x=x, y=test_sample['instruction violation'], label='Instruction Violation')\n",
    "#     sns.lineplot(x=x, y=test_sample['internal mistake'], label='Internal Mistake')\n",
    "#     \n",
    "#     # Set the x and y axis labels\n",
    "#     plt.xlabel('CoT Instance')\n",
    "#     plt.ylabel('Value')\n",
    "#     \n",
    "#     # Place the legend on the plot\n",
    "#     plt.legend(title='Metrics')\n",
    "#     plt.show()\n",
    "#     # Show the plot"
   ],
   "metadata": {
    "collapsed": false,
    "ExecuteTime": {
     "end_time": "2024-04-16T03:21:43.434648200Z",
     "start_time": "2024-04-16T03:21:43.430550400Z"
    }
   },
   "id": "8a580ce90305f08e"
  },
  {
   "cell_type": "code",
   "execution_count": 207,
   "outputs": [],
   "source": [
    "all_correctness = []\n",
    "all_length = []\n",
    "all_IV = []\n",
    "all_IM = []\n",
    "for row in range(len(df_final)):\n",
    "    df_row = df_final.iloc[row]\n",
    "    correctness = [str(df_row['correct answer']) == i for i in df_row['CoT answers'].tolist()]\n",
    "    length = df_row['length']\n",
    "    IV = df_row['instruction violation']\n",
    "    IM = df_row['internal mistake']\n",
    "    \n",
    "    all_correctness+=correctness\n",
    "    all_length += length.tolist()\n",
    "    all_IV += IV.tolist()\n",
    "    all_IM += IM.tolist()\n",
    "    assert len(all_correctness) == len(all_length) == len(all_IV) == len(all_IM)\n",
    "    "
   ],
   "metadata": {
    "collapsed": false,
    "ExecuteTime": {
     "end_time": "2024-04-16T03:21:43.679632300Z",
     "start_time": "2024-04-16T03:21:43.607634500Z"
    }
   },
   "id": "afb7327d1756af6d"
  },
  {
   "cell_type": "code",
   "execution_count": 208,
   "outputs": [
    {
     "name": "stdout",
     "output_type": "stream",
     "text": [
      "[[ 1.        -0.0720094]\n",
      " [-0.0720094  1.       ]]\n",
      "[[ 1.         -0.05204786]\n",
      " [-0.05204786  1.        ]]\n",
      "[[ 1.         -0.06428128]\n",
      " [-0.06428128  1.        ]]\n"
     ]
    }
   ],
   "source": [
    "print(np.corrcoef(all_correctness,all_length))\n",
    "print(np.corrcoef(all_correctness,all_IV))\n",
    "print(np.corrcoef(all_correctness,all_IM))"
   ],
   "metadata": {
    "collapsed": false,
    "ExecuteTime": {
     "end_time": "2024-04-16T03:21:43.817514100Z",
     "start_time": "2024-04-16T03:21:43.809965900Z"
    }
   },
   "id": "b69759ace6a2d071"
  },
  {
   "cell_type": "code",
   "execution_count": 182,
   "outputs": [
    {
     "name": "stdout",
     "output_type": "stream",
     "text": [
      "Chi2 Stat: 389.40689381681113\n",
      "P value: 4.454599621725911e-80\n",
      "Degrees of freedom: 7\n",
      "Expected frequencies table:\n",
      " [[7.61195565e+03 2.71710000e+00 9.36946650e+02 4.52850000e-01\n",
      "  2.59030200e+02 1.05966900e+02 1.39024950e+02 9.05700000e-01]\n",
      " [9.19704435e+03 3.28290000e+00 1.13205335e+03 5.47150000e-01\n",
      "  3.12969800e+02 1.28033100e+02 1.67975050e+02 1.09430000e+00]]\n"
     ]
    }
   ],
   "source": [
    "import scipy.stats as stats\n",
    "contingency_table = pd.crosstab(index=all_correctness, columns=all_IV)\n",
    "\n",
    "# Perform the Chi-square test\n",
    "chi2, p, dof, expected = stats.chi2_contingency(contingency_table)\n",
    "\n",
    "print(\"Chi2 Stat:\", chi2)\n",
    "print(\"P value:\", p)\n",
    "print(\"Degrees of freedom:\", dof)\n",
    "print(\"Expected frequencies table:\\n\", expected)"
   ],
   "metadata": {
    "collapsed": false,
    "ExecuteTime": {
     "end_time": "2024-04-16T03:17:40.575494300Z",
     "start_time": "2024-04-16T03:17:40.560466500Z"
    }
   },
   "id": "e82cc6a5c0aef3f0"
  },
  {
   "cell_type": "code",
   "execution_count": 181,
   "outputs": [
    {
     "name": "stdout",
     "output_type": "stream",
     "text": [
      "Spearman's correlation coefficient: 0.03682847856992283\n",
      "P value: 1.8906965790587102e-07\n",
      "Spearman's correlation coefficient: -0.04686235433399567\n",
      "P value: 3.344017709903813e-11\n",
      "Spearman's correlation coefficient: nan\n",
      "P value: nan\n"
     ]
    },
    {
     "name": "stderr",
     "output_type": "stream",
     "text": [
      "W:\\anaconda3\\envs\\llm_hall_project\\lib\\site-packages\\scipy\\stats\\_stats_py.py:4916: ConstantInputWarning: An input array is constant; the correlation coefficient is not defined.\n",
      "  warnings.warn(stats.ConstantInputWarning(warn_msg))\n"
     ]
    }
   ],
   "source": [
    "corr, p_value = stats.spearmanr(all_correctness, all_length)\n",
    "\n",
    "print(\"Spearman's correlation coefficient:\", corr)\n",
    "print(\"P value:\", p_value)\n",
    "corr, p_value = stats.spearmanr(all_correctness, all_IV)\n",
    "\n",
    "print(\"Spearman's correlation coefficient:\", corr)\n",
    "print(\"P value:\", p_value)\n",
    "corr, p_value = stats.spearmanr(all_correctness, all_IM)\n",
    "\n",
    "print(\"Spearman's correlation coefficient:\", corr)\n",
    "print(\"P value:\", p_value)"
   ],
   "metadata": {
    "collapsed": false,
    "ExecuteTime": {
     "end_time": "2024-04-16T03:14:40.312314Z",
     "start_time": "2024-04-16T03:14:40.290919600Z"
    }
   },
   "id": "7de96b30d3ae037c"
  },
  {
   "cell_type": "code",
   "execution_count": 213,
   "outputs": [
    {
     "name": "stdout",
     "output_type": "stream",
     "text": [
      "[[False  True  True ...  True  True  True]\n",
      " [False  True  True ... False False False]\n",
      " [False False  True ...  True  True  True]\n",
      " ...\n",
      " [False  True False ...  True False False]\n",
      " [False  True False ... False False False]\n",
      " [False False  True ... False  True  True]]\n"
     ]
    },
    {
     "data": {
      "text/plain": "array([[0, 0, 0, ..., 0, 0, 0],\n       [0, 0, 0, ..., 0, 1, 0],\n       [1, 0, 0, ..., 0, 0, 0],\n       ...,\n       [1, 1, 0, ..., 1, 0, 1],\n       [1, 1, 0, ..., 1, 0, 1],\n       [1, 0, 0, ..., 0, 0, 0]])"
     },
     "execution_count": 213,
     "metadata": {},
     "output_type": "execute_result"
    }
   ],
   "source": [
    "import numpy as np\n",
    "\n",
    "# Assuming arr is your 500x40 numpy array\n",
    "arr = np.random.randint(0, 2, (500, 40))  # Example array with random 0s and 1s\n",
    "\n",
    "# Initialize an array of the same shape filled with False\n",
    "\n",
    "\n",
    "print(consistency_checks)\n",
    "arr"
   ],
   "metadata": {
    "collapsed": false,
    "ExecuteTime": {
     "end_time": "2024-04-18T20:22:09.704216Z",
     "start_time": "2024-04-18T20:22:09.691500400Z"
    }
   },
   "id": "70c33e6378d0539a"
  },
  {
   "cell_type": "code",
   "execution_count": null,
   "outputs": [],
   "source": [],
   "metadata": {
    "collapsed": false
   },
   "id": "9913e62e938d0478"
  }
 ],
 "metadata": {
  "kernelspec": {
   "name": "llm_hall_project",
   "language": "python",
   "display_name": "llm_hall"
  },
  "language_info": {
   "codemirror_mode": {
    "name": "ipython",
    "version": 2
   },
   "file_extension": ".py",
   "mimetype": "text/x-python",
   "name": "python",
   "nbconvert_exporter": "python",
   "pygments_lexer": "ipython2",
   "version": "2.7.6"
  }
 },
 "nbformat": 4,
 "nbformat_minor": 5
}
