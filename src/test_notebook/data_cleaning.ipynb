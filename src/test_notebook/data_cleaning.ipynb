{
 "cells": [
  {
   "cell_type": "code",
   "execution_count": 1,
   "id": "initial_id",
   "metadata": {
    "ExecuteTime": {
     "end_time": "2024-04-23T20:34:09.641190300Z",
     "start_time": "2024-04-23T20:34:09.638190500Z"
    },
    "collapsed": true
   },
   "outputs": [],
   "source": [
    "import os\n",
    "DATA_DIR = '../data'\n",
    "\n",
    "# Experiment Config\n",
    "DF_NAME = 'MathQA'\n",
    "DIFFICULTY = 'easy'\n",
    "NUM_OF_SAMPLES = 500\n",
    "NUM_OF_COT = 40\n",
    "storage_dir = os.path.join(DATA_DIR, f'Evaluation_CoTs/gpt-3.5-turbo-0125')\n",
    "file_path = os.path.join(storage_dir, f'{DF_NAME}_{DIFFICULTY}.csv')"
   ]
  },
  {
   "cell_type": "code",
   "execution_count": 2,
   "id": "a1dc12bb",
   "metadata": {
    "ExecuteTime": {
     "end_time": "2024-04-23T20:36:20.833889600Z",
     "start_time": "2024-04-23T20:36:20.810767500Z"
    }
   },
   "outputs": [],
   "source": [
    "import re\n",
    "def clean_final_answers_gsm8k(column):\n",
    "    cleaned_answers = []\n",
    "    for entry in column:\n",
    "        # Extract numbers using regular expression\n",
    "        numbers = re.findall(r'\\b\\d+\\b', str(entry))\n",
    "        if numbers:\n",
    "            # Join all numbers with space if there are multiple numbers\n",
    "            cleaned_answers.append(' '.join(numbers))\n",
    "        else:\n",
    "            # If no number is found, replace with 'error'\n",
    "            cleaned_answers.append('error')\n",
    "    return cleaned_answers\n",
    "def clean_final_answers_MC(column):\n",
    "    cleaned_answers = []\n",
    "    for entry in column:\n",
    "        # Extract numbers using regular expression\n",
    "        entry = str(entry).lower()\n",
    "        options = re.findall(r'[abcde]\\s?\\)', str(entry))\n",
    "        if options:\n",
    "            # Join all numbers with space if there are multiple numbers\n",
    "            cleaned_answers.append(options[0][0])\n",
    "        else:\n",
    "            # If no number is found, replace with 'error'\n",
    "            cleaned_answers.append(entry)\n",
    "    return cleaned_answers"
   ]
  },
  {
   "cell_type": "code",
   "execution_count": 3,
   "id": "c9fe6d5066ce4fd7",
   "metadata": {
    "ExecuteTime": {
     "end_time": "2024-04-23T20:36:21.670881600Z",
     "start_time": "2024-04-23T20:36:21.559962900Z"
    },
    "collapsed": false
   },
   "outputs": [
    {
     "ename": "FileNotFoundError",
     "evalue": "[Errno 2] No such file or directory: '../data/Evaluation_CoTs/gpt-3.5-turbo-0125/MathQA_easy.csv'",
     "output_type": "error",
     "traceback": [
      "\u001b[0;31m---------------------------------------------------------------------------\u001b[0m",
      "\u001b[0;31mFileNotFoundError\u001b[0m                         Traceback (most recent call last)",
      "Cell \u001b[0;32mIn[3], line 2\u001b[0m\n\u001b[1;32m      1\u001b[0m \u001b[38;5;28;01mimport\u001b[39;00m \u001b[38;5;21;01mpandas\u001b[39;00m \u001b[38;5;28;01mas\u001b[39;00m \u001b[38;5;21;01mpd\u001b[39;00m\n\u001b[0;32m----> 2\u001b[0m df \u001b[38;5;241m=\u001b[39m \u001b[43mpd\u001b[49m\u001b[38;5;241;43m.\u001b[39;49m\u001b[43mread_csv\u001b[49m\u001b[43m(\u001b[49m\u001b[43mfile_path\u001b[49m\u001b[43m)\u001b[49m\n\u001b[1;32m      4\u001b[0m \u001b[38;5;28;01mfor\u001b[39;00m col \u001b[38;5;129;01min\u001b[39;00m df\u001b[38;5;241m.\u001b[39mcolumns:\n\u001b[1;32m      5\u001b[0m     \u001b[38;5;28;01mif\u001b[39;00m col\u001b[38;5;241m.\u001b[39mstartswith(\u001b[38;5;124m'\u001b[39m\u001b[38;5;124mFinal Answer_\u001b[39m\u001b[38;5;124m'\u001b[39m):\n",
      "File \u001b[0;32m~/miniconda3/envs/env1/lib/python3.11/site-packages/pandas/io/parsers/readers.py:948\u001b[0m, in \u001b[0;36mread_csv\u001b[0;34m(filepath_or_buffer, sep, delimiter, header, names, index_col, usecols, dtype, engine, converters, true_values, false_values, skipinitialspace, skiprows, skipfooter, nrows, na_values, keep_default_na, na_filter, verbose, skip_blank_lines, parse_dates, infer_datetime_format, keep_date_col, date_parser, date_format, dayfirst, cache_dates, iterator, chunksize, compression, thousands, decimal, lineterminator, quotechar, quoting, doublequote, escapechar, comment, encoding, encoding_errors, dialect, on_bad_lines, delim_whitespace, low_memory, memory_map, float_precision, storage_options, dtype_backend)\u001b[0m\n\u001b[1;32m    935\u001b[0m kwds_defaults \u001b[38;5;241m=\u001b[39m _refine_defaults_read(\n\u001b[1;32m    936\u001b[0m     dialect,\n\u001b[1;32m    937\u001b[0m     delimiter,\n\u001b[0;32m   (...)\u001b[0m\n\u001b[1;32m    944\u001b[0m     dtype_backend\u001b[38;5;241m=\u001b[39mdtype_backend,\n\u001b[1;32m    945\u001b[0m )\n\u001b[1;32m    946\u001b[0m kwds\u001b[38;5;241m.\u001b[39mupdate(kwds_defaults)\n\u001b[0;32m--> 948\u001b[0m \u001b[38;5;28;01mreturn\u001b[39;00m \u001b[43m_read\u001b[49m\u001b[43m(\u001b[49m\u001b[43mfilepath_or_buffer\u001b[49m\u001b[43m,\u001b[49m\u001b[43m \u001b[49m\u001b[43mkwds\u001b[49m\u001b[43m)\u001b[49m\n",
      "File \u001b[0;32m~/miniconda3/envs/env1/lib/python3.11/site-packages/pandas/io/parsers/readers.py:611\u001b[0m, in \u001b[0;36m_read\u001b[0;34m(filepath_or_buffer, kwds)\u001b[0m\n\u001b[1;32m    608\u001b[0m _validate_names(kwds\u001b[38;5;241m.\u001b[39mget(\u001b[38;5;124m\"\u001b[39m\u001b[38;5;124mnames\u001b[39m\u001b[38;5;124m\"\u001b[39m, \u001b[38;5;28;01mNone\u001b[39;00m))\n\u001b[1;32m    610\u001b[0m \u001b[38;5;66;03m# Create the parser.\u001b[39;00m\n\u001b[0;32m--> 611\u001b[0m parser \u001b[38;5;241m=\u001b[39m \u001b[43mTextFileReader\u001b[49m\u001b[43m(\u001b[49m\u001b[43mfilepath_or_buffer\u001b[49m\u001b[43m,\u001b[49m\u001b[43m \u001b[49m\u001b[38;5;241;43m*\u001b[39;49m\u001b[38;5;241;43m*\u001b[39;49m\u001b[43mkwds\u001b[49m\u001b[43m)\u001b[49m\n\u001b[1;32m    613\u001b[0m \u001b[38;5;28;01mif\u001b[39;00m chunksize \u001b[38;5;129;01mor\u001b[39;00m iterator:\n\u001b[1;32m    614\u001b[0m     \u001b[38;5;28;01mreturn\u001b[39;00m parser\n",
      "File \u001b[0;32m~/miniconda3/envs/env1/lib/python3.11/site-packages/pandas/io/parsers/readers.py:1448\u001b[0m, in \u001b[0;36mTextFileReader.__init__\u001b[0;34m(self, f, engine, **kwds)\u001b[0m\n\u001b[1;32m   1445\u001b[0m     \u001b[38;5;28mself\u001b[39m\u001b[38;5;241m.\u001b[39moptions[\u001b[38;5;124m\"\u001b[39m\u001b[38;5;124mhas_index_names\u001b[39m\u001b[38;5;124m\"\u001b[39m] \u001b[38;5;241m=\u001b[39m kwds[\u001b[38;5;124m\"\u001b[39m\u001b[38;5;124mhas_index_names\u001b[39m\u001b[38;5;124m\"\u001b[39m]\n\u001b[1;32m   1447\u001b[0m \u001b[38;5;28mself\u001b[39m\u001b[38;5;241m.\u001b[39mhandles: IOHandles \u001b[38;5;241m|\u001b[39m \u001b[38;5;28;01mNone\u001b[39;00m \u001b[38;5;241m=\u001b[39m \u001b[38;5;28;01mNone\u001b[39;00m\n\u001b[0;32m-> 1448\u001b[0m \u001b[38;5;28mself\u001b[39m\u001b[38;5;241m.\u001b[39m_engine \u001b[38;5;241m=\u001b[39m \u001b[38;5;28;43mself\u001b[39;49m\u001b[38;5;241;43m.\u001b[39;49m\u001b[43m_make_engine\u001b[49m\u001b[43m(\u001b[49m\u001b[43mf\u001b[49m\u001b[43m,\u001b[49m\u001b[43m \u001b[49m\u001b[38;5;28;43mself\u001b[39;49m\u001b[38;5;241;43m.\u001b[39;49m\u001b[43mengine\u001b[49m\u001b[43m)\u001b[49m\n",
      "File \u001b[0;32m~/miniconda3/envs/env1/lib/python3.11/site-packages/pandas/io/parsers/readers.py:1705\u001b[0m, in \u001b[0;36mTextFileReader._make_engine\u001b[0;34m(self, f, engine)\u001b[0m\n\u001b[1;32m   1703\u001b[0m     \u001b[38;5;28;01mif\u001b[39;00m \u001b[38;5;124m\"\u001b[39m\u001b[38;5;124mb\u001b[39m\u001b[38;5;124m\"\u001b[39m \u001b[38;5;129;01mnot\u001b[39;00m \u001b[38;5;129;01min\u001b[39;00m mode:\n\u001b[1;32m   1704\u001b[0m         mode \u001b[38;5;241m+\u001b[39m\u001b[38;5;241m=\u001b[39m \u001b[38;5;124m\"\u001b[39m\u001b[38;5;124mb\u001b[39m\u001b[38;5;124m\"\u001b[39m\n\u001b[0;32m-> 1705\u001b[0m \u001b[38;5;28mself\u001b[39m\u001b[38;5;241m.\u001b[39mhandles \u001b[38;5;241m=\u001b[39m \u001b[43mget_handle\u001b[49m\u001b[43m(\u001b[49m\n\u001b[1;32m   1706\u001b[0m \u001b[43m    \u001b[49m\u001b[43mf\u001b[49m\u001b[43m,\u001b[49m\n\u001b[1;32m   1707\u001b[0m \u001b[43m    \u001b[49m\u001b[43mmode\u001b[49m\u001b[43m,\u001b[49m\n\u001b[1;32m   1708\u001b[0m \u001b[43m    \u001b[49m\u001b[43mencoding\u001b[49m\u001b[38;5;241;43m=\u001b[39;49m\u001b[38;5;28;43mself\u001b[39;49m\u001b[38;5;241;43m.\u001b[39;49m\u001b[43moptions\u001b[49m\u001b[38;5;241;43m.\u001b[39;49m\u001b[43mget\u001b[49m\u001b[43m(\u001b[49m\u001b[38;5;124;43m\"\u001b[39;49m\u001b[38;5;124;43mencoding\u001b[39;49m\u001b[38;5;124;43m\"\u001b[39;49m\u001b[43m,\u001b[49m\u001b[43m \u001b[49m\u001b[38;5;28;43;01mNone\u001b[39;49;00m\u001b[43m)\u001b[49m\u001b[43m,\u001b[49m\n\u001b[1;32m   1709\u001b[0m \u001b[43m    \u001b[49m\u001b[43mcompression\u001b[49m\u001b[38;5;241;43m=\u001b[39;49m\u001b[38;5;28;43mself\u001b[39;49m\u001b[38;5;241;43m.\u001b[39;49m\u001b[43moptions\u001b[49m\u001b[38;5;241;43m.\u001b[39;49m\u001b[43mget\u001b[49m\u001b[43m(\u001b[49m\u001b[38;5;124;43m\"\u001b[39;49m\u001b[38;5;124;43mcompression\u001b[39;49m\u001b[38;5;124;43m\"\u001b[39;49m\u001b[43m,\u001b[49m\u001b[43m \u001b[49m\u001b[38;5;28;43;01mNone\u001b[39;49;00m\u001b[43m)\u001b[49m\u001b[43m,\u001b[49m\n\u001b[1;32m   1710\u001b[0m \u001b[43m    \u001b[49m\u001b[43mmemory_map\u001b[49m\u001b[38;5;241;43m=\u001b[39;49m\u001b[38;5;28;43mself\u001b[39;49m\u001b[38;5;241;43m.\u001b[39;49m\u001b[43moptions\u001b[49m\u001b[38;5;241;43m.\u001b[39;49m\u001b[43mget\u001b[49m\u001b[43m(\u001b[49m\u001b[38;5;124;43m\"\u001b[39;49m\u001b[38;5;124;43mmemory_map\u001b[39;49m\u001b[38;5;124;43m\"\u001b[39;49m\u001b[43m,\u001b[49m\u001b[43m \u001b[49m\u001b[38;5;28;43;01mFalse\u001b[39;49;00m\u001b[43m)\u001b[49m\u001b[43m,\u001b[49m\n\u001b[1;32m   1711\u001b[0m \u001b[43m    \u001b[49m\u001b[43mis_text\u001b[49m\u001b[38;5;241;43m=\u001b[39;49m\u001b[43mis_text\u001b[49m\u001b[43m,\u001b[49m\n\u001b[1;32m   1712\u001b[0m \u001b[43m    \u001b[49m\u001b[43merrors\u001b[49m\u001b[38;5;241;43m=\u001b[39;49m\u001b[38;5;28;43mself\u001b[39;49m\u001b[38;5;241;43m.\u001b[39;49m\u001b[43moptions\u001b[49m\u001b[38;5;241;43m.\u001b[39;49m\u001b[43mget\u001b[49m\u001b[43m(\u001b[49m\u001b[38;5;124;43m\"\u001b[39;49m\u001b[38;5;124;43mencoding_errors\u001b[39;49m\u001b[38;5;124;43m\"\u001b[39;49m\u001b[43m,\u001b[49m\u001b[43m \u001b[49m\u001b[38;5;124;43m\"\u001b[39;49m\u001b[38;5;124;43mstrict\u001b[39;49m\u001b[38;5;124;43m\"\u001b[39;49m\u001b[43m)\u001b[49m\u001b[43m,\u001b[49m\n\u001b[1;32m   1713\u001b[0m \u001b[43m    \u001b[49m\u001b[43mstorage_options\u001b[49m\u001b[38;5;241;43m=\u001b[39;49m\u001b[38;5;28;43mself\u001b[39;49m\u001b[38;5;241;43m.\u001b[39;49m\u001b[43moptions\u001b[49m\u001b[38;5;241;43m.\u001b[39;49m\u001b[43mget\u001b[49m\u001b[43m(\u001b[49m\u001b[38;5;124;43m\"\u001b[39;49m\u001b[38;5;124;43mstorage_options\u001b[39;49m\u001b[38;5;124;43m\"\u001b[39;49m\u001b[43m,\u001b[49m\u001b[43m \u001b[49m\u001b[38;5;28;43;01mNone\u001b[39;49;00m\u001b[43m)\u001b[49m\u001b[43m,\u001b[49m\n\u001b[1;32m   1714\u001b[0m \u001b[43m\u001b[49m\u001b[43m)\u001b[49m\n\u001b[1;32m   1715\u001b[0m \u001b[38;5;28;01massert\u001b[39;00m \u001b[38;5;28mself\u001b[39m\u001b[38;5;241m.\u001b[39mhandles \u001b[38;5;129;01mis\u001b[39;00m \u001b[38;5;129;01mnot\u001b[39;00m \u001b[38;5;28;01mNone\u001b[39;00m\n\u001b[1;32m   1716\u001b[0m f \u001b[38;5;241m=\u001b[39m \u001b[38;5;28mself\u001b[39m\u001b[38;5;241m.\u001b[39mhandles\u001b[38;5;241m.\u001b[39mhandle\n",
      "File \u001b[0;32m~/miniconda3/envs/env1/lib/python3.11/site-packages/pandas/io/common.py:863\u001b[0m, in \u001b[0;36mget_handle\u001b[0;34m(path_or_buf, mode, encoding, compression, memory_map, is_text, errors, storage_options)\u001b[0m\n\u001b[1;32m    858\u001b[0m \u001b[38;5;28;01melif\u001b[39;00m \u001b[38;5;28misinstance\u001b[39m(handle, \u001b[38;5;28mstr\u001b[39m):\n\u001b[1;32m    859\u001b[0m     \u001b[38;5;66;03m# Check whether the filename is to be opened in binary mode.\u001b[39;00m\n\u001b[1;32m    860\u001b[0m     \u001b[38;5;66;03m# Binary mode does not support 'encoding' and 'newline'.\u001b[39;00m\n\u001b[1;32m    861\u001b[0m     \u001b[38;5;28;01mif\u001b[39;00m ioargs\u001b[38;5;241m.\u001b[39mencoding \u001b[38;5;129;01mand\u001b[39;00m \u001b[38;5;124m\"\u001b[39m\u001b[38;5;124mb\u001b[39m\u001b[38;5;124m\"\u001b[39m \u001b[38;5;129;01mnot\u001b[39;00m \u001b[38;5;129;01min\u001b[39;00m ioargs\u001b[38;5;241m.\u001b[39mmode:\n\u001b[1;32m    862\u001b[0m         \u001b[38;5;66;03m# Encoding\u001b[39;00m\n\u001b[0;32m--> 863\u001b[0m         handle \u001b[38;5;241m=\u001b[39m \u001b[38;5;28;43mopen\u001b[39;49m\u001b[43m(\u001b[49m\n\u001b[1;32m    864\u001b[0m \u001b[43m            \u001b[49m\u001b[43mhandle\u001b[49m\u001b[43m,\u001b[49m\n\u001b[1;32m    865\u001b[0m \u001b[43m            \u001b[49m\u001b[43mioargs\u001b[49m\u001b[38;5;241;43m.\u001b[39;49m\u001b[43mmode\u001b[49m\u001b[43m,\u001b[49m\n\u001b[1;32m    866\u001b[0m \u001b[43m            \u001b[49m\u001b[43mencoding\u001b[49m\u001b[38;5;241;43m=\u001b[39;49m\u001b[43mioargs\u001b[49m\u001b[38;5;241;43m.\u001b[39;49m\u001b[43mencoding\u001b[49m\u001b[43m,\u001b[49m\n\u001b[1;32m    867\u001b[0m \u001b[43m            \u001b[49m\u001b[43merrors\u001b[49m\u001b[38;5;241;43m=\u001b[39;49m\u001b[43merrors\u001b[49m\u001b[43m,\u001b[49m\n\u001b[1;32m    868\u001b[0m \u001b[43m            \u001b[49m\u001b[43mnewline\u001b[49m\u001b[38;5;241;43m=\u001b[39;49m\u001b[38;5;124;43m\"\u001b[39;49m\u001b[38;5;124;43m\"\u001b[39;49m\u001b[43m,\u001b[49m\n\u001b[1;32m    869\u001b[0m \u001b[43m        \u001b[49m\u001b[43m)\u001b[49m\n\u001b[1;32m    870\u001b[0m     \u001b[38;5;28;01melse\u001b[39;00m:\n\u001b[1;32m    871\u001b[0m         \u001b[38;5;66;03m# Binary mode\u001b[39;00m\n\u001b[1;32m    872\u001b[0m         handle \u001b[38;5;241m=\u001b[39m \u001b[38;5;28mopen\u001b[39m(handle, ioargs\u001b[38;5;241m.\u001b[39mmode)\n",
      "\u001b[0;31mFileNotFoundError\u001b[0m: [Errno 2] No such file or directory: '../data/Evaluation_CoTs/gpt-3.5-turbo-0125/MathQA_easy.csv'"
     ]
    }
   ],
   "source": [
    "import pandas as pd\n",
    "df = pd.read_csv(file_path)\n",
    "\n",
    "for col in df.columns:\n",
    "    if col.startswith('Final Answer_'):\n",
    "        df[col] = clean_final_answers_MC(df[col])\n",
    "\n",
    "df"
   ]
  },
  {
   "cell_type": "code",
   "execution_count": 171,
   "id": "828defcb",
   "metadata": {
    "ExecuteTime": {
     "end_time": "2024-04-23T20:36:41.310294900Z",
     "start_time": "2024-04-23T20:36:41.027145700Z"
    }
   },
   "outputs": [],
   "source": [
    "import os\n",
    "import pandas\n",
    "import numpy as np\n",
    "import pandas as pd\n",
    "import re\n",
    "import ast\n",
    "\n",
    "result_dict = {\n",
    "    'id':[],\n",
    "    'correct answer': [],\n",
    "    'CoT answers':[],\n",
    "    'length':[],\n",
    "    'instruction violation':[],\n",
    "    'internal mistake':[]\n",
    "}\n",
    "tmp = []\n",
    "for col in df.columns:\n",
    "    if col.startswith('Final Answer_'):\n",
    "        tmp.append(df[col].to_numpy())\n",
    "tmp_arr = np.vstack(tmp)\n",
    "cot_answer_li = tmp_arr.T\n",
    "# Count Steps\n",
    "step_count_buffer = []\n",
    "for col in df:\n",
    "    if col.startswith('CoT_'):\n",
    "        cleaned_answers = []\n",
    "        for entry in df[col]:\n",
    "            # Extract numbers using regular expression\n",
    "            steps = re.findall(r'[Ss]tep\\s?\\d', str(entry))\n",
    "            if steps:\n",
    "                # Join all numbers with space if there are multiple numbers\n",
    "                cleaned_answers.append(len(steps))\n",
    "            else:\n",
    "                # If no number is found, replace with 'error'\n",
    "                cleaned_answers.append(0)\n",
    "        step_count_buffer.append(cleaned_answers)\n",
    "\n",
    "step_count = np.array(step_count_buffer).T\n",
    "# Violate instruction\n",
    "instruction_buffer = []\n",
    "for col in df:\n",
    "    if col.startswith('Instruction Violation_'):\n",
    "        cleaned_answers = []\n",
    "        for entry in df[col]:\n",
    "            # Extract numbers using regular expression\n",
    "            x = ast.literal_eval(entry)\n",
    "            cleaned_answers.append(sum([sum(idx) for idx in x]))\n",
    "        instruction_buffer.append(cleaned_answers)\n",
    "\n",
    "instruction_error = np.array(instruction_buffer).T\n",
    "\n",
    "# Internal Mistake mentioned\n",
    "mistake_buffer = []\n",
    "for col in df:\n",
    "    if col.startswith('CoT_'):\n",
    "        cleaned_answers = []\n",
    "        for entry in df[col]:\n",
    "            # Extract numbers using regular expression\n",
    "            misktake = re.findall(r'(be a mistake)|(be an error)', str(entry))\n",
    "            if misktake:\n",
    "                cleaned_answers.append(1)\n",
    "            else:\n",
    "                # If no number is found, replace with 'error'\n",
    "                cleaned_answers.append(0)\n",
    "        mistake_buffer.append(cleaned_answers)\n",
    "\n",
    "mistakes = np.array(mistake_buffer).T\n",
    "assert cot_answer_li.shape == step_count.shape == instruction_error.shape == mistakes.shape"
   ]
  },
  {
   "cell_type": "code",
   "execution_count": 143,
   "id": "a9ed7735",
   "metadata": {
    "ExecuteTime": {
     "end_time": "2024-04-23T19:46:58.873219500Z",
     "start_time": "2024-04-23T19:46:58.857557100Z"
    }
   },
   "outputs": [
    {
     "data": {
      "text/plain": [
       "0        -9867630.0\n",
       "1         3431580.0\n",
       "2       322886700.0\n",
       "3        -6887448.0\n",
       "4        21459061.0\n",
       "           ...     \n",
       "495           100.0\n",
       "496      23252172.0\n",
       "497            50.0\n",
       "498    -425561.9444\n",
       "499     2901807.833\n",
       "Name: Correct Answer, Length: 500, dtype: object"
      ]
     },
     "execution_count": 143,
     "metadata": {},
     "output_type": "execute_result"
    }
   ],
   "source": [
    "for row in range(len(df)):\n",
    "    cot_li_sample = cot_answer_li[row]\n",
    "    length_li_sample = step_count[row]\n",
    "    IV_li_sample = instruction_error[row]\n",
    "    mistake_sample = mistakes[row]\n",
    "    result_dict['id'].append(row)\n",
    "    result_dict['correct answer'].append(df.iloc[row]['Correct Answer'])\n",
    "    result_dict['CoT answers'].append(cot_li_sample)\n",
    "    result_dict['length'].append(length_li_sample)\n",
    "    result_dict['instruction violation'].append(IV_li_sample)\n",
    "    result_dict['internal mistake'].append(mistake_sample)\n"
   ]
  },
  {
   "cell_type": "code",
   "execution_count": 114,
   "id": "3551d911",
   "metadata": {
    "ExecuteTime": {
     "end_time": "2024-04-23T19:09:22.599911600Z",
     "start_time": "2024-04-23T19:09:22.544720600Z"
    }
   },
   "outputs": [
    {
     "data": {
      "text/plain": [
       "False"
      ]
     },
     "execution_count": 114,
     "metadata": {},
     "output_type": "execute_result"
    }
   ],
   "source": [
    "df_final = pd.DataFrame.from_dict(result_dict)\n",
    "df_final['Question'] = df['Question']"
   ]
  },
  {
   "cell_type": "code",
   "execution_count": 32,
   "id": "707e9fa9",
   "metadata": {},
   "outputs": [
    {
     "data": {
      "text/plain": [
       "'a multiple choice test consists of 4 questions , and each question has 5 answer choices . in how many r ways can the test be completed if every question is unanswered ? The options are: a ) 24 , b ) 120 , c ) 625 , d ) 720 , e ) 1024'"
      ]
     },
     "execution_count": 32,
     "metadata": {},
     "output_type": "execute_result"
    }
   ],
   "source": [
    "df_final['Question'].iloc[0]"
   ]
  },
  {
   "cell_type": "code",
   "execution_count": 96,
   "id": "cdb47d38",
   "metadata": {},
   "outputs": [],
   "source": [
    "def check_correctness(row):\n",
    "    correctness_list = []\n",
    "    correct_answer = row['correct answer']\n",
    "    cot_answers = row['CoT answers']\n",
    "    question = row['Question']\n",
    "    for i in range(len(cot_answers)):\n",
    "        correct = correct_answer\n",
    "        cot = cot_answers[i]\n",
    "        q = question\n",
    "        cot = str(cot)\n",
    "        if(cot == correct):\n",
    "            correctness_list.append(1)\n",
    "            continue\n",
    "        # Extract the options and their corresponding values from the question\n",
    "        options = {}\n",
    "        for option in ['a', 'b', 'c', 'd', 'e']:\n",
    "            if option + ' )' in q:\n",
    "                value = q.split(option + ' )')[-1].strip().split(',')[0].strip()\n",
    "                options[option] = value\n",
    "        if options[correct] in cot:\n",
    "            correctness_list.append(1)\n",
    "        else:\n",
    "            correctness_list.append(0)\n",
    "    \n",
    "    return correctness_list"
   ]
  },
  {
   "cell_type": "code",
   "execution_count": 97,
   "id": "e92e3a85",
   "metadata": {},
   "outputs": [
    {
     "data": {
      "text/plain": [
       "0      [1, 1, 1, 1, 1, 1, 1, 1, 1, 1, 1, 1, 1, 1, 1, ...\n",
       "1      [0, 0, 0, 0, 0, 0, 0, 0, 0, 0, 0, 0, 0, 0, 0, ...\n",
       "2      [1, 0, 1, 1, 1, 0, 1, 1, 1, 1, 1, 1, 0, 1, 1, ...\n",
       "3      [1, 1, 0, 0, 0, 0, 0, 0, 0, 1, 0, 0, 0, 0, 0, ...\n",
       "4      [1, 0, 1, 0, 0, 1, 0, 0, 0, 1, 0, 0, 0, 1, 1, ...\n",
       "                             ...                        \n",
       "495    [1, 1, 1, 1, 1, 1, 1, 1, 0, 1, 0, 0, 1, 1, 0, ...\n",
       "496    [1, 1, 1, 1, 1, 1, 1, 1, 1, 1, 1, 1, 1, 1, 1, ...\n",
       "497    [1, 0, 0, 0, 1, 0, 1, 1, 0, 0, 0, 1, 0, 0, 0, ...\n",
       "498    [0, 0, 0, 0, 0, 0, 0, 0, 0, 0, 0, 0, 0, 0, 0, ...\n",
       "499    [1, 1, 1, 1, 1, 1, 1, 1, 1, 1, 1, 1, 1, 1, 0, ...\n",
       "Name: correctness, Length: 500, dtype: object"
      ]
     },
     "execution_count": 97,
     "metadata": {},
     "output_type": "execute_result"
    }
   ],
   "source": [
    "df_final['correctness'] = df_final.apply(check_correctness, axis=1)\n",
    "df_final['correctness']"
   ]
  },
  {
   "cell_type": "code",
   "execution_count": 103,
   "id": "75ded779",
   "metadata": {},
   "outputs": [
    {
     "data": {
      "text/plain": [
       "id                                                                       1\n",
       "correct answer                                                           b\n",
       "CoT answers              [e, e, c, a, e, 5 / 9, c, d, c, c, e, 5 / 9, c...\n",
       "length                   [4, 3, 3, 4, 3, 4, 3, 3, 3, 6, 3, 3, 3, 3, 3, ...\n",
       "instruction violation    [0, 0, 0, 0, 0, 0, 0, 0, 0, 0, 0, 0, 0, 0, 0, ...\n",
       "internal mistake         [0, 0, 0, 0, 0, 0, 0, 0, 0, 0, 0, 0, 0, 0, 0, ...\n",
       "Question                 a 3 - digit positive integer is chosen at rand...\n",
       "correctness              [0, 0, 0, 0, 0, 0, 0, 0, 0, 0, 0, 0, 0, 0, 0, ...\n",
       "Name: 1, dtype: object"
      ]
     },
     "execution_count": 103,
     "metadata": {},
     "output_type": "execute_result"
    }
   ],
   "source": [
    "df_final.iloc[1]"
   ]
  },
  {
   "cell_type": "code",
   "execution_count": 127,
   "id": "e684aba8",
   "metadata": {},
   "outputs": [
    {
     "name": "stdout",
     "output_type": "stream",
     "text": [
      "20000\n",
      "20000\n",
      "20000\n",
      "20000\n"
     ]
    }
   ],
   "source": [
    "import pandas as pd\n",
    "\n",
    "def concatenate_columns(df,data_columns, outcome_column):\n",
    "    # Initialize an empty dictionary to store the concatenated data\n",
    "    concatenated_data = {}\n",
    "    \n",
    "    # Get the number of rows based on the length of the outcome column\n",
    "    num_rows = len(df)\n",
    "    \n",
    "    # Iterate over each column\n",
    "    for column in data_columns+[outcome_column]:\n",
    "        # Initialize an empty list to store the concatenated values for the current column\n",
    "        concatenated_values = []\n",
    "        \n",
    "        # Iterate over each row\n",
    "        for i in range(num_rows):\n",
    "            # Get the list of values for the current column and row\n",
    "            values = df[column][i]\n",
    "            \n",
    "            # Concatenate the values into a single string\n",
    "            concatenated_values += list(values)\n",
    "            \n",
    "        \n",
    "        # Add the concatenated values to the dictionary with the column name as the key\n",
    "        concatenated_data[column] = concatenated_values\n",
    "        print(len(concatenated_values))\n",
    "    # Add the outcome column to the concatenated data dictionary\n",
    "    \n",
    "    # Create a DataFrame from the concatenated data dictionary\n",
    "    df_final = pd.DataFrame(concatenated_data)\n",
    "    \n",
    "    return df_final\n",
    "\n",
    "df_final = concatenate_columns(df_final,['length','instruction violation','internal mistake'],'correctness')"
   ]
  },
  {
   "cell_type": "code",
   "execution_count": 128,
   "id": "89314ab3",
   "metadata": {},
   "outputs": [],
   "source": [
    "save_dir = DATA_DIR+'/Data_For_Analysis/' + f'{DF_NAME}_{DIFFICULTY}_CS.csv'\n",
    "df_final.to_csv(save_dir,index=False)"
   ]
  },
  {
   "cell_type": "code",
   "execution_count": 12,
   "id": "8e7c8038",
   "metadata": {
    "ExecuteTime": {
     "end_time": "2024-04-23T17:33:09.023629200Z",
     "start_time": "2024-04-23T17:33:08.993181400Z"
    }
   },
   "outputs": [
    {
     "name": "stdout",
     "output_type": "stream",
     "text": [
      "{'A': 'Braveheart', 'B': 'Popeye', 'C': 'House II The Second Story', 'D': 'In China They Eat Dogs'}\n"
     ]
    },
    {
     "data": {
      "text/plain": [
       "\"Find a movie similar to Dances with Wolves, The Shawshank Redemption, Apollo 13, Schindler's List:\\r\\nOptions:\\r\\n(A) Braveheart\\r\\n(B) Popeye\\r\\n(C) House II The Second Story\\r\\n(D) In China They Eat Dogs\\r\""
      ]
     },
     "execution_count": 12,
     "metadata": {},
     "output_type": "execute_result"
    }
   ],
   "source": []
  }
 ],
 "metadata": {
  "kernelspec": {
   "display_name": "env1",
   "language": "python",
   "name": "python3"
  },
  "language_info": {
   "codemirror_mode": {
    "name": "ipython",
    "version": 3
   },
   "file_extension": ".py",
   "mimetype": "text/x-python",
   "name": "python",
   "nbconvert_exporter": "python",
   "pygments_lexer": "ipython3",
   "version": "3.11.5"
  }
 },
 "nbformat": 4,
 "nbformat_minor": 5
}
