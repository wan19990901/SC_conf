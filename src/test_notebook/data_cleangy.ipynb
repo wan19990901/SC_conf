{
 "cells": [
  {
   "cell_type": "code",
   "execution_count": 1,
   "metadata": {},
   "outputs": [],
   "source": [
    "import os\n",
    "import pandas as pd\n",
    "\n",
    "# Path to the main directory\n",
    "main_dir = \"../../data/Evaluation_CoTs\"\n",
    "\n",
    "# Subdirectories\n",
    "subdirectories = [\"claude-3-haiku-20240307\", \"gpt-3.5-turbo-0125\",\"gpt-4\"]\n",
    "\n",
    "# List to store dataframes\n",
    "dataframes = []\n",
    "\n",
    "# Iterate over each subdirectory and process files\n",
    "for sub in subdirectories:\n",
    "    for file in os.listdir(os.path.join(main_dir, sub)):\n",
    "        if file.endswith('.csv'):\n",
    "            # Determine the difficulty from the file name\n",
    "            difficulty = 'easy' if 'easy' in file else 'hard'\n",
    "            \n",
    "            # Read CSV file\n",
    "            df = pd.read_csv(os.path.join(main_dir, sub, file))\n",
    "            \n",
    "            # Extract model from the directory name\n",
    "            model = sub\n",
    "            \n",
    "            # Add columns for difficulty and model\n",
    "            df['Difficulty'] = difficulty\n",
    "            df['Model'] = model\n",
    "            \n",
    "            # Append the dataframe to the list\n",
    "            dataframes.append(df)\n",
    "\n",
    "# Concatenate all dataframes\n",
    "final_df = pd.concat(dataframes, ignore_index=True)\n",
    "\n"
   ]
  },
  {
   "cell_type": "code",
   "execution_count": 2,
   "metadata": {},
   "outputs": [
    {
     "data": {
      "text/plain": [
       "(6599, 372)"
      ]
     },
     "execution_count": 2,
     "metadata": {},
     "output_type": "execute_result"
    }
   ],
   "source": [
    "final_df.shape"
   ]
  },
  {
   "cell_type": "code",
   "execution_count": 3,
   "metadata": {},
   "outputs": [],
   "source": [
    "# Drop columns whose names start with \"Unnamed:\"\n",
    "unnamed_cols = ['index'] + [col for col in final_df.columns if col.startswith('Unnamed:')]\n",
    "final_df.drop(columns=unnamed_cols, inplace=True)"
   ]
  },
  {
   "cell_type": "code",
   "execution_count": 4,
   "metadata": {},
   "outputs": [
    {
     "data": {
      "text/plain": [
       "(6599, 126)"
      ]
     },
     "execution_count": 4,
     "metadata": {},
     "output_type": "execute_result"
    }
   ],
   "source": [
    "final_df.shape"
   ]
  },
  {
   "cell_type": "code",
   "execution_count": 5,
   "metadata": {},
   "outputs": [],
   "source": [
    "final_df = final_df.dropna()\n",
    "final_df = final_df[final_df['Correct Answer'] != 'NO']"
   ]
  },
  {
   "cell_type": "code",
   "execution_count": 6,
   "metadata": {},
   "outputs": [
    {
     "data": {
      "text/plain": [
       "(6554, 126)"
      ]
     },
     "execution_count": 6,
     "metadata": {},
     "output_type": "execute_result"
    }
   ],
   "source": [
    "final_df.shape"
   ]
  },
  {
   "cell_type": "code",
   "execution_count": 7,
   "metadata": {},
   "outputs": [
    {
     "data": {
      "text/plain": [
       "Name\n",
       "GSM8K_hard               1098\n",
       "BigBench_hard            1098\n",
       "GSM8K_test               1097\n",
       "MathQA_challenge_test    1090\n",
       "MathQA_dev               1087\n",
       "BigBench_easy            1084\n",
       "Name: count, dtype: int64"
      ]
     },
     "execution_count": 7,
     "metadata": {},
     "output_type": "execute_result"
    }
   ],
   "source": [
    "final_df.Name.value_counts()"
   ]
  },
  {
   "cell_type": "code",
   "execution_count": 8,
   "metadata": {},
   "outputs": [],
   "source": [
    "import pandas as pd\n",
    "import re\n",
    "\n",
    "# Enhanced regex pattern to capture negative numbers, percentages, and dollar amounts\n",
    "digit_re = re.compile(r\"-?\\$?\\d+\\.?\\d*%?\")\n",
    "\n",
    "def clean_value(value):\n",
    "    \"\"\" Helper function to clean individual values based on the enhanced regex pattern. \"\"\"\n",
    "    # Remove unwanted characters\n",
    "    value = str(value).replace('$', '').replace('%', '')\n",
    "    # Find all numbers in the string\n",
    "    matches = digit_re.findall(value)\n",
    "    if matches:\n",
    "        # Taking the first match, remove any trailing non-numeric characters if present\n",
    "        num = matches[0].rstrip('%')\n",
    "        # Convert to float and back to string to normalize the number format\n",
    "        cleaned_value = str(float(num))\n",
    "    else:\n",
    "        # If no valid numbers are found, return an invalid flag\n",
    "        cleaned_value = \"error\"\n",
    "    return cleaned_value\n",
    "\n",
    "def clean_columns(df, columns):\n",
    "    \"\"\" Cleans specified columns in the dataframe by applying the clean_value function. \"\"\"\n",
    "    for column in columns:\n",
    "        if column in df.columns:\n",
    "            df[column] = df[column].apply(clean_value)\n",
    "\n",
    "def clean_answers(df):\n",
    "    \"\"\" Cleans all specified answer columns in the dataframe including the 'Correct Answer'. \"\"\"\n",
    "    answer_columns = [f\"Final Answer_{i}\" for i in range(40)] + [\"Correct Answer\"]\n",
    "    clean_columns(df, answer_columns)\n",
    "\n",
    "\n",
    "df_gsm8k = final_df[final_df.Name.str.startswith('GSM')]"
   ]
  },
  {
   "cell_type": "code",
   "execution_count": 9,
   "metadata": {},
   "outputs": [
    {
     "name": "stderr",
     "output_type": "stream",
     "text": [
      "/var/folders/bm/2x1k2y0s2bv2xxbw4jxfs_hh0000gn/T/ipykernel_76312/3563676368.py:27: SettingWithCopyWarning: \n",
      "A value is trying to be set on a copy of a slice from a DataFrame.\n",
      "Try using .loc[row_indexer,col_indexer] = value instead\n",
      "\n",
      "See the caveats in the documentation: https://pandas.pydata.org/pandas-docs/stable/user_guide/indexing.html#returning-a-view-versus-a-copy\n",
      "  df[column] = df[column].apply(clean_value)\n"
     ]
    }
   ],
   "source": [
    "clean_answers(df_gsm8k)"
   ]
  },
  {
   "cell_type": "code",
   "execution_count": 10,
   "metadata": {},
   "outputs": [],
   "source": [
    "df_bb = final_df[final_df.Name.str.startswith('Big')]"
   ]
  },
  {
   "cell_type": "code",
   "execution_count": 11,
   "metadata": {},
   "outputs": [],
   "source": [
    "def extract_options(question):\n",
    "    \"\"\" Extracts the mapping of options from the question string. \"\"\"\n",
    "    options_text = question.split('Options:\\n')[-1]\n",
    "    options = re.findall(r\"\\((.)\\)\\s(.+)\", options_text)\n",
    "    return {opt[1].strip(): opt[0] for opt in options}\n",
    "\n",
    "def clean_answer(answer, options):\n",
    "    \"\"\" Converts direct answers to their corresponding choice labels and standardizes the case. \"\"\"\n",
    "    answer = answer.strip()\n",
    "    if len(answer) == 1 and answer.upper() in options.values():\n",
    "        return answer.upper()\n",
    "    elif answer in options:\n",
    "        return options[answer]\n",
    "    else:\n",
    "        return \"erroe\"  # Or any other default value for unidentified answers\n",
    "\n",
    "def process_answers(df):\n",
    "    \"\"\" Processes all answer columns based on the options extracted from the question. \"\"\"\n",
    "    for i in range(40): \n",
    "        answer_column = f\"Final Answer_{i}\"\n",
    "        df[answer_column] = df.apply(lambda x: clean_answer(x[answer_column], extract_options(x['Question'])), axis=1)"
   ]
  },
  {
   "cell_type": "code",
   "execution_count": 12,
   "metadata": {},
   "outputs": [
    {
     "name": "stderr",
     "output_type": "stream",
     "text": [
      "/var/folders/bm/2x1k2y0s2bv2xxbw4jxfs_hh0000gn/T/ipykernel_76312/808227791.py:21: SettingWithCopyWarning: \n",
      "A value is trying to be set on a copy of a slice from a DataFrame.\n",
      "Try using .loc[row_indexer,col_indexer] = value instead\n",
      "\n",
      "See the caveats in the documentation: https://pandas.pydata.org/pandas-docs/stable/user_guide/indexing.html#returning-a-view-versus-a-copy\n",
      "  df[answer_column] = df.apply(lambda x: clean_answer(x[answer_column], extract_options(x['Question'])), axis=1)\n"
     ]
    }
   ],
   "source": [
    "process_answers(df_bb)"
   ]
  },
  {
   "cell_type": "code",
   "execution_count": 13,
   "metadata": {},
   "outputs": [],
   "source": [
    "df_math = final_df[final_df.Name.str.startswith('Math')]"
   ]
  },
  {
   "cell_type": "code",
   "execution_count": 14,
   "metadata": {},
   "outputs": [
    {
     "name": "stderr",
     "output_type": "stream",
     "text": [
      "/var/folders/bm/2x1k2y0s2bv2xxbw4jxfs_hh0000gn/T/ipykernel_76312/379397058.py:28: SettingWithCopyWarning: \n",
      "A value is trying to be set on a copy of a slice from a DataFrame.\n",
      "Try using .loc[row_indexer,col_indexer] = value instead\n",
      "\n",
      "See the caveats in the documentation: https://pandas.pydata.org/pandas-docs/stable/user_guide/indexing.html#returning-a-view-versus-a-copy\n",
      "  df[answer_column] = df.apply(lambda x: clean_answer(x[answer_column], extract_options(x['Question'])), axis=1)\n"
     ]
    }
   ],
   "source": [
    "import pandas as pd\n",
    "import re\n",
    "\n",
    "def extract_options(question):\n",
    "    \"\"\" Extracts the mapping of options from the question string based on the new format. \"\"\"\n",
    "    options_text = question.split('The options are:')[-1]\n",
    "    # Adjusting the regex pattern to match the new option format\n",
    "    options = re.findall(r\"(\\w)\\s\\)\\s(\\d+)\", options_text)\n",
    "    return {opt[1].strip(): opt[0].lower() for opt in options}  # Keeping the option letters in lowercase\n",
    "\n",
    "def clean_answer(answer, options):\n",
    "    \"\"\" Converts direct answers to their corresponding choice labels and keeps the case as is (lowercase). \"\"\"\n",
    "    answer = answer.strip()\n",
    "    # Check if answer is a number and map it back to the corresponding option letter\n",
    "    if answer in options:\n",
    "        return options[answer]\n",
    "    # Check if the answer is already a valid option letter\n",
    "    elif len(answer) == 1 and answer.lower() in options.values():\n",
    "        return answer.lower()\n",
    "    else:\n",
    "        return \"error\"  # Or any other default value for unidentified answers\n",
    "\n",
    "def process_answers(df):\n",
    "    \"\"\" Processes all answer columns based on the options extracted from the question. \"\"\"\n",
    "    for i in range(40):  # Assuming there are 40 answer columns as mentioned\n",
    "        answer_column = f\"Final Answer_{i}\"\n",
    "        # Applying cleaning to each answer column based on the extracted options\n",
    "        df[answer_column] = df.apply(lambda x: clean_answer(x[answer_column], extract_options(x['Question'])), axis=1)\n",
    "\n",
    "process_answers(df_math)\n"
   ]
  },
  {
   "cell_type": "code",
   "execution_count": 15,
   "metadata": {},
   "outputs": [],
   "source": [
    "pd.concat([df_gsm8k, df_bb, df_math]).reset_index(drop=True).to_csv('../../data/Evaluation_CoTs/final.csv', index=False)"
   ]
  },
  {
   "cell_type": "markdown",
   "metadata": {},
   "source": [
    "# Test code to run on final data"
   ]
  },
  {
   "cell_type": "code",
   "execution_count": 16,
   "metadata": {},
   "outputs": [],
   "source": [
    "final = pd.concat([df_gsm8k, df_bb, df_math]).reset_index(drop=True)"
   ]
  },
  {
   "cell_type": "code",
   "execution_count": 17,
   "metadata": {},
   "outputs": [
    {
     "name": "stderr",
     "output_type": "stream",
     "text": [
      "/Users/guangyawan/miniconda3/envs/env/lib/python3.12/site-packages/tqdm/auto.py:21: TqdmWarning: IProgress not found. Please update jupyter and ipywidgets. See https://ipywidgets.readthedocs.io/en/stable/user_install.html\n",
      "  from .autonotebook import tqdm as notebook_tqdm\n"
     ]
    }
   ],
   "source": [
    "import sys\n",
    "sys.path.insert(0, '../')\n",
    "from CS_feature_extractor import extract_feature,extract_cot_answer\n",
    "from IDV_CS_Model import trained_LR_model"
   ]
  },
  {
   "cell_type": "code",
   "execution_count": 22,
   "metadata": {},
   "outputs": [
    {
     "name": "stdout",
     "output_type": "stream",
     "text": [
      "jaccard with aggregation time cost: 182.22808814048767s\n"
     ]
    },
    {
     "name": "stderr",
     "output_type": "stream",
     "text": [
      "100%|██████████| 6554/6554 [00:01<00:00, 6405.29it/s] \n"
     ]
    }
   ],
   "source": [
    "df_with_features = pd.DataFrame(extract_feature(final))\n",
    "feature_li = [\n",
    "    # 'LEN',\n",
    "    'QUA_IM',\n",
    "    'DIF_IV',\n",
    "    # 'DIF_SUB',\n",
    "    # 'SIM_COT_BIGRAM',\n",
    "    'SIM_COT_AGG',\n",
    "    # 'SIM_COT_PW',\n",
    "    'SIM_AC_BIGRAM',\n",
    "    'SIM_AC_AGG',\n",
    "    'SIM_AC_PW',\n",
    "    # 'size_of_cot'\n",
    "]\n",
    "# coe = [-0.1,-5,-1,3,2,2,2]\n",
    "# # intercept = -1.5\n",
    "# df = trained_LR_model(df_with_features,feature_li)"
   ]
  },
  {
   "cell_type": "code",
   "execution_count": 23,
   "metadata": {},
   "outputs": [
    {
     "name": "stdout",
     "output_type": "stream",
     "text": [
      "SC_correctness\n",
      "1    3558\n",
      "0    2996\n",
      "Name: count, dtype: int64\n",
      "ES_correctness\n",
      "1    3560\n",
      "0    2994\n",
      "Name: count, dtype: int64\n",
      "Index(['id', 'Name', 'Model', 'correct answer', 'CoT answers', 'Correctness',\n",
      "       'LEN', 'QUA_IM', 'DIF_IV', 'SIM_COT_AGG', 'SIM_AC_BIGRAM', 'SIM_AC_AGG',\n",
      "       'SIM_AC_PW', 'SC_correctness', 'ES_correctness', 'ES_steps'],\n",
      "      dtype='object')\n",
      "ASC Steps and Answers added.\n",
      "------------DF Stats-------------\n",
      "QUA_IM : Counter({0: 261368, 1: 792})\n",
      "DIF_IV : Counter({0: 239262, 1: 22898})\n",
      "SIM_AC_BIGRAM : Counter({1: 174613, 0: 87547})\n",
      "SIM_AC_AGG : Counter({1: 192016, 0: 70144})\n",
      "SIM_AC_PW : Counter({1: 183797, 0: 78363})\n",
      "Correctness : Counter({0: 132730, 1: 129430})\n",
      "cot_answer : Counter({'B': 25960, 'C': 25840, 'A': 23320, 'c': 22240, 'b': 18400, 'd': 18040, 'a': 17720, 'D': 11520, 'e': 10680, '5.0': 2000, '6.0': 1800, '20.0': 1520, '8.0': 1480, '10.0': 1480, '4.0': 1400, '15.0': 1280, '3.0': 1240, '2.0': 1240, '16.0': 1160, '18.0': 960, '50.0': 920, '12.0': 920, '25.0': 880, '40.0': 840, '100.0': 800, '21.0': 800, '60.0': 760, '9.0': 760, '30.0': 760, '36.0': 680, 'E': 640, '1.0': 600, '80.0': 600, '45.0': 600, '120.0': 560, '32.0': 560, '14.0': 560, '48.0': 560, '0.0': 520, '75.0': 520, '13.0': 480, '17.0': 480, '7.0': 480, '26.0': 480, '70.0': 480, '300.0': 400, '31.0': 400, '34.0': 400, '140.0': 360, '200.0': 360, '-2147483648.0': 360, '800.0': 320, '83.0': 320, '350.0': 320, '11.0': 320, '90.0': 320, '150.0': 320, '260.0': 280, '160.0': 280, '23.0': 280, '44.0': 280, '24.0': 280, '109.0': 240, '58.0': 240, '68.0': 240, '78.0': 240, '49.0': 240, '112.0': 240, '280.0': 240, '92.0': 240, '220.0': 240, '104.0': 240, '360.0': 240, '91.0': 240, '98.0': 240, '84.0': 240, '880.0': 200, '5600.0': 200, '35.0': 200, '88.0': 200, '22.0': 200, '28.0': 200, '125.0': 160, '106.0': 160, '7500.0': 160, '860.0': 160, '62.0': 160, '9500.0': 160, '118000.0': 160, '31800.0': 160, '120000.0': 160, '180000.0': 160, '67.0': 160, '14400.0': 160, '2000.0': 160, '3000.0': 160, '15400.0': 160, '-10.0': 160, '54.0': 160, '180.0': 160, '82.0': 160, '29.0': 160, '500.0': 160, '72.0': 160, '240.0': 160, '400.0': 160, '320.0': 160, '55.0': 160, '250.0': 160, '168.0': 160, '3200.0': 160, '310.0': 160, '38.0': 160, '56.0': 160, '-9867630.0': 120, '3431580.0': 120, '322886700.0': 120, '-6887448.0': 120, '21459061.0': 120, '82085198.0': 120, '74363508.0': 120, '17414074.0': 120, '-673649.0': 120, '1379135.0': 120, '25124292.0': 120, '18286416.0': 120, '4603904.0': 120, '4649302.0': 120, '486530.0': 120, '21127776.0': 120, '1080379.0': 120, '13525766.0': 120, '-4358966.0': 120, '23252172.0': 120, '8778902.0': 120, '42463867.0': 120, '79886312.0': 120, '4029727.0': 120, '-3638804.0': 120, '99342097.0': 120, '1545200.0': 120, '2298841.0': 120, '278081800.0': 120, '86039481.0': 120, '17189546.0': 120, '16684173.0': 120, '1726970.0': 120, '51204384.0': 120, '3731352.0': 120, '19776716.0': 120, '52526408.0': 120, '6588585.0': 120, '57855762.0': 120, '60954715.0': 120, '35333295.0': 120, '51318000.0': 120, '-6721339.0': 120, '61525936.0': 120, '2991216.0': 120, '595541.0': 120, '17771862.0': 120, '13795250.0': 120, '-1382862000.0': 120, '4358498.0': 120, '8637843.0': 120, '56406942.0': 120, '426697344.0': 120, '8609812.0': 120, '1294876.0': 120, '39652742.0': 120, '70000.0': 120, '540.0': 120, '64.0': 120, '460.0': 120, '366.0': 120, '694.0': 120, '230.0': 120, '57500.0': 120, '243.0': 120, '163.0': 120, '294.0': 120, '57.0': 120, '187.0': 120, '1430.0': 120, '25000.0': 120, '1596.0': 120, '595.0': 120, '7425.0': 120, '221.0': 120, '255.0': 120, '623.0': 120, '600.0': 120, '9360.0': 120, '8000.0': 120, '225.0': 120, '348.0': 120, '3244047.1': 80, '6277334000.0': 80, '14053029.666666666': 80, '388147.4117647059': 80, '9099577.916666666': 80, '0.0016791648': 80, '10074005.666666666': 80, '-4357110.0': 80, '5186630.6': 80, '4795436.8': 80, '108224794.2': 80, '5407462.8': 80, '9435680550.0': 80, '4561195.2': 80, '8710408.772727273': 80, '418826.8': 80, '4767232.5': 80, '1806106.8000000005': 80, '101257.75': 80, '5489.5466666667': 80, '13061161.4': 80, '4865122.0': 80, '-39785000.0': 80, '94796016.0': 80, '39475440.0': 80, '15837508.0': 80, '441078.0': 80, '4736666.0': 80, '19992825.0': 80, '-8657649.0': 80, '1575070.0': 80, '54517866.0': 80, '27045360.0': 80, '173767716.0': 80, '-3516391.0': 80, '22463288.0': 80, '96754437.0': 80, '315933300.0': 80, '-35520793.0': 80, '965579.0': 80, '-6087974.0': 80, '5579492.0': 80, '152703491.0': 80, '47791980.0': 80, '8400992.0': 80, '353222840.0': 80, '126647407.0': 80, '-3577710.0': 80, '-70145984.0': 80, '16087561.0': 80, '7530960.0': 80, '-8877858.0': 80, '1895280.0': 80, '36640.0': 80, '31879055.0': 80, '8843825.0': 80, '19164408.0': 80, '18533930.0': 80, '4401531.0': 80, '20949125.0': 80, '10663305.0': 80, '-7020321.0': 80, '16127300.0': 80, '781368228.0': 80, '81840200.0': 80, '501667000.0': 80, '3120372.0': 80, '42474420.0': 80, '3453167.0': 80, '18894535.0': 80, '28083565.0': 80, '48646760.0': 80, '56052400.0': 80, '1365127.0': 80, '332069185.0': 80, '142137795.0': 80, '-7145252.0': 80, '16280562.0': 80, '66476740.0': 80, '35061370.0': 80, '-24174.0': 80, '3496744.0': 80, '14597880.0': 80, '7635038.0': 80, '4083344.0': 80, '289934000.0': 80, '3717449.0': 80, '85889195.0': 80, '2538572.0': 80, '10454012.0': 80, '2804640.0': 80, '1884094.0': 80, '5639310.0': 80, '11931994.0': 80, '1839170.0': 80, '267950830.0': 80, '82436229.0': 80, '1316597.0': 80, '6637530.0': 80, '16909429.0': 80, '9264234.0': 80, '310506.0': 80, '-4607969.0': 80, '28037.0': 80, '-11297185.0': 80, '-143650.0': 80, '4050344.0': 80, '2158268.0': 80, '29506470.0': 80, '-9912047.0': 80, '-65801252.0': 80, '165762163.0': 80, '36958802.0': 80, '-27849664.0': 80, '7567745.0': 80, '8752891.0': 80, '16989220.0': 80, '19462.0': 80, '45591556.0': 80, '571464.0': 80, '55421124.0': 80, '9770585.0': 80, '7753432.0': 80, '14802208.0': 80, '18034136.0': 80, '16416670.0': 80, '15498112.0': 80, '5631305.0': 80, '2066430.0': 80, '53880260.0': 80, '48169758.0': 80, '12088759.0': 80, '5098392.0': 80, '3610875.0': 80, '-1083632.0': 80, '28937992.0': 80, '3283606.0': 80, '47567068.0': 80, '1334349120.0': 80, '14563406.0': 80, '4083516.0': 80, '8300379.0': 80, '38674982.0': 80, '-362943179.0': 80, '2409778.0': 80, '-27398229.0': 80, '-6133552.0': 80, '10943892.0': 80, '4710109.0': 80, '9177420.0': 80, '4633315.0': 80, '39741412.0': 80, '14245351.0': 80, '959304.0': 80, '-704720.0': 80, '4174244.0': 80, '1577680.0': 80, '273.0': 80, '4653320.0': 80, '-6577918.0': 80, '200987640.0': 80, '8089491.0': 80, '-9963054.0': 80, '114558960.0': 80, '225709504.0': 80, '406787475.0': 80, '1410035.0': 80, '45989937.0': 80, '-13394694.0': 80, '56222279.0': 80, '-4542758.0': 80, '30756332.0': 80, '19428586.0': 80, '188.0': 80, '-2259466.0': 80, '15155263.0': 80, '65778147.0': 80, '-16268715.0': 80, '-17199084.0': 80, '28877052.0': 80, '9295099.0': 80, '25145393.0': 80, '102796268.0': 80, '-228660528.0': 80, '3052077.0': 80, '24758856.0': 80, '3296349.0': 80, '105370475.0': 80, '129200.0': 80, '29239644.0': 80, '7843411.0': 80, '7688667.0': 80, '36918104.0': 80, '9482073.0': 80, '1082546.0': 80, '2103749320.0': 80, '8286943.0': 80, '189707352.0': 80, '10296189.0': 80, '72768591.0': 80, '20831612.0': 80, '8281789.0': 80, '190746192.0': 80, '-84732404.0': 80, '117011232.0': 80, '46060138.0': 80, '5389140.0': 80, '1850572.0': 80, '216.0': 80, '43500.0': 80, '249430800.0': 80, '33880812.0': 80, '57188562.0': 80, '79.0': 80, '8008931.0': 80, '12797043.0': 80, '8711665.0': 80, '1693236.0': 80, '308966856.0': 80, '5220928.0': 80, '-3056417.0': 80, '10859184.0': 80, '53.0': 80, '134367812.0': 80, '4064050.0': 80, '1813027.0': 80, '21089052.0': 80, '53374240.0': 80, '14387074.0': 80, '11385058.0': 80, '28591421.0': 80, '175.0': 80, '42.0': 80, '95200.0': 80, '27.0': 80, '10000.0': 80, '940.0': 80, '720.0': 80, '105.0': 80, '4000.0': 80, '272.0': 80, '1400.0': 80, '77.0': 80, '1210.0': 80, '51.0': 80, '18000.0': 80, '95.0': 80, '122.0': 80, '130.0': 80, '6277.0': 80, '2600.0': 80, '76.0': 80, '145.0': 80, '20000.0': 80, '33.0': 80, '27000.0': 80, '73.0': 80, '192.0': 80, '270.0': 80, '1375.0': 80, '762.0': 80, '315.0': 80, '138.0': 80, '2450.0': 80, '195.0': 80, '390.0': 80, '370.0': 80, '1300.0': 80, '2050.0': 80, '156.0': 80, '123.0': 80, '224000.0': 80, '8400.0': 80, '87.0': 80, '2640.0': 80, '19.0': 80, '1198.0': 80, '240000.0': 80, '803.0': 80, '81.0': 80, '168000.0': 80, '1110.0': 80, '3140.0': 80, '17000.0': 80, '284.0': 80, '570.0': 80, '132.0': 80, '59.0': 80, '539.0': 80, '11050.0': 80, '6400.0': 80, '1920.0': 80, '71.0': 80, '1200.0': 80, '621.0': 80, '2944943.75': 40, '4375557.75': 40, '2548774.6666666665': 40, '2944533.5': 40, '-1173896.6': 40, '19023741.6': 40, '13032458.333333334': 40, '5929597.583333333': 40, '2159043.5': 40, '8771926.5': 40, '-425561.9444444444': 40, '684193.5': 40, '2901807.833333333': 40, '3813434.5': 40, '23103210.4': 40, '445110260.6': 40, '650579.5': 40, '377712.375': 40, '-4930258.5': 40, '1963.4111111111': 40, '1002636.9500000002': 40, '98836.3333333334': 40, '778670.2': 40, '2709395.5': 40, '474031.3333333333': 40, '-993656.0': 40, '3981224.8': 40, '712071.6': 40, '507210.5': 40, '19827119.5': 40, '-8858146.65': 40, '12469088.666666666': 40, '126490.75': 40, '1880890.6': 40, '177703.2': 40, '2.0107': 40, '969704.6': 40, '5.3333333333': 40, '35951202.6': 40, '162741.6666666667': 40, '6387351040.0': 40, '161868.2': 40, '1109656.8': 40, '6532906.4': 40, '2595732.6': 40, '3437164.5': 40, '3328769.25': 40, '36.0000102016': 40, '852828.6363636367': 40, '3734959.666666666': 40, '0.0001439872': 40, '1128610.75': 40, '14947722.5': 40, '-553954.6666666666': 40, '23481435600.0': 40, '27089169.25': 40, '8.3099': 40, '3400.0802327905': 40, '11491303600.0': 40, '10283479.5': 40, '388.8315555556': 40, '3829972.2': 40, '4585.2': 40, '5178817360.0': 40, '15773669.333333334': 40, '3.3365': 40, '1516586.6666666667': 40, '1.9752': 40, '2.26833': 40, '-2.4967': 40, '55938720.00000001': 40, '1550109.75': 40, '316315.8': 40, '6.000004816': 40, '2383661.75': 40, '-4487772.5': 40, '1285665.9000000004': 40, '5.158': 40, '3180819.166666666': 40, '7165593864.0': 40, '972581.4285714284': 40, '9284017268534.4': 40, '5845220.666666667': 40, '10603839.6': 40, '-1895420.5': 40, '1386.6666666667': 40, '34482769.2': 40, '17376828000.0': 40, '561161.7000000001': 40, '23249283.6': 40, '-27173.0': 40, '45076300.4': 40, '15383937.6': 40, '4182885.8333333335': 40, '84784.26': 40, '-8.8333333333': 40, '-8264796.0': 40, '114.0': 40, '276.0': 40, '3244047.0': 40, '14053029.0': 40, '388147.0': 40, '9099577.0': 40, '10074005.0': 40, '5186630.0': 40, '4795436.0': 40, '108224794.0': 40, '5407462.0': 40, '4561195.0': 40, '8710408.0': 40, '418826.0': 40, '4767232.0': 40, '1806106.0': 40, '101257.0': 40, '5489.0': 40, '2944943.0': 40, '13061161.0': 40, '4375557.0': 40, '2548774.0': 40, '2944533.0': 40, '-1173896.0': 40, '19023741.0': 40, '13032458.0': 40, '5929597.0': 40, '2159043.0': 40, '8771926.0': 40, '684193.0': 40, '3813434.0': 40, '23103210.0': 40, '445110260.0': 40, '650579.0': 40, '377712.0': 40, '-4930258.0': 40, '1963.0': 40, '1002636.0': 40, '98836.0': 40, '778670.0': 40, '2709395.0': 40, '474031.0': 40, '993656.0': 40, '3981224.0': 40, '712071.0': 40, '507210.0': 40, '19827119.0': 40, '-8858146.0': 40, '12469088.0': 40, '126490.0': 40, '1880890.0': 40, '177703.0': 40, '969704.0': 40, '35951202.0': 40, '162741.0': 40, '161868.0': 40, '1109656.0': 40, '6532906.0': 40, '2595732.0': 40, '3437164.0': 40, '3328769.0': 40, '852828.0': 40, '3734959.0': 40, '1128610.0': 40, '14947722.0': 40, '-553954.0': 40, '27089169.0': 40, '3400.0': 40, '10283479.0': 40, '388.0': 40, '3829972.0': 40, '4585.0': 40, '15773669.0': 40, '1516586.0': 40, '55938720.0': 40, '1550109.0': 40, '316315.0': 40, '2383661.0': 40, '-4487772.0': 40, '1285665.0': 40, '3180819.0': 40, '972581.0': 40, '5845220.0': 40, '10603839.0': 40, '-1895420.0': 40, '1386.0': 40, '34482769.0': 40, '561161.0': 40, '23249283.0': 40, '27174.0': 40, '45076300.0': 40, '15383937.0': 40, '4182885.0': 40, '84784.0': 40, '-8.0': 40, '8264796.0': 40, '-425561.0': 40, '2901807.0': 40, '2125.0': 40, '114200.0': 40, '276000.0': 40})\n",
      "Model fitting started \n",
      "Warning: Maximum number of iterations has been exceeded.\n",
      "         Current function value: 0.593991\n",
      "         Iterations: 35\n"
     ]
    },
    {
     "name": "stderr",
     "output_type": "stream",
     "text": [
      "/Users/guangyawan/miniconda3/envs/env/lib/python3.12/site-packages/statsmodels/base/model.py:607: ConvergenceWarning: Maximum Likelihood optimization failed to converge. Check mle_retvals\n",
      "  warnings.warn(\"Maximum Likelihood optimization failed to \"\n"
     ]
    },
    {
     "name": "stdout",
     "output_type": "stream",
     "text": [
      "                           Logit Regression Results                           \n",
      "==============================================================================\n",
      "Dep. Variable:            Correctness   No. Observations:               209728\n",
      "Model:                          Logit   Df Residuals:                   209721\n",
      "Method:                           MLE   Df Model:                            6\n",
      "Date:                Sat, 11 May 2024   Pseudo R-squ.:                  0.1430\n",
      "Time:                        22:04:38   Log-Likelihood:            -1.2458e+05\n",
      "converged:                      False   LL-Null:                   -1.4537e+05\n",
      "Covariance Type:            nonrobust   LLR p-value:                     0.000\n",
      "=================================================================================\n",
      "                    coef    std err          z      P>|z|      [0.025      0.975]\n",
      "---------------------------------------------------------------------------------\n",
      "const            -1.7710      0.020    -89.411      0.000      -1.810      -1.732\n",
      "QUA_IM           -0.8616      0.152     -5.684      0.000      -1.159      -0.565\n",
      "DIF_IV          -11.0751      2.407     -4.601      0.000     -15.793      -6.357\n",
      "SIM_COT_AGG       0.9911      0.031     32.363      0.000       0.931       1.051\n",
      "SIM_AC_BIGRAM     0.5034      0.013     38.374      0.000       0.478       0.529\n",
      "SIM_AC_AGG        0.3748      0.025     15.164      0.000       0.326       0.423\n",
      "SIM_AC_PW         0.9577      0.024     39.392      0.000       0.910       1.005\n",
      "=================================================================================\n",
      "The AUROC score is: 0.8635575625642333\n",
      "=================================================================================\n"
     ]
    }
   ],
   "source": [
    "df = trained_LR_model(df_with_features,feature_li)"
   ]
  },
  {
   "cell_type": "code",
   "execution_count": 47,
   "metadata": {},
   "outputs": [],
   "source": [
    "asnwers, bin = extract_cot_answer(final)"
   ]
  },
  {
   "cell_type": "code",
   "execution_count": 48,
   "metadata": {},
   "outputs": [
    {
     "name": "stdout",
     "output_type": "stream",
     "text": [
      "                                           CoT_Value  Correctness_Value\n",
      "0  Step 1: Calculate the total number of eggs lai...                  0\n",
      "1  Step 1: The robe takes 2287720 bolts of blue f...                  1\n",
      "2  Step 1: Identify the given information.\\n     ...                  0\n",
      "3  Step 1: Determine the total number of cups of ...                  0\n",
      "4  Step 1: Determine the price of each glass.\\n  ...                  1\n"
     ]
    }
   ],
   "source": [
    "# Sample DataFrame and Correctness array (replace these with your actual data)\n",
    "columns = [f'CoT_{i}' for i in range(40)]\n",
    "data = final[columns]\n",
    "\n",
    "# Convert Correctness array to DataFrame\n",
    "correctness_df = pd.DataFrame(bin, columns=[f'CoT_{i}' for i in range(40)])\n",
    "\n",
    "# Unpivot/melt the original DataFrame\n",
    "melted_data = data.reset_index().melt(id_vars='index', var_name='CoT', value_name='CoT_Value')\n",
    "\n",
    "# Unpivot/melt the Correctness DataFrame\n",
    "melted_correctness = correctness_df.reset_index().melt(id_vars='index', var_name='CoT', value_name='Correctness_Value')\n",
    "\n",
    "# Merge the two melted DataFrames on 'index' and 'CoT'\n",
    "combined_df = pd.merge(melted_data, melted_correctness, on=['index', 'CoT'])\n",
    "\n",
    "# Drop the 'index' and 'CoT' columns if they are no longer needed\n",
    "combined_df = combined_df[['CoT_Value', 'Correctness_Value']]\n",
    "\n",
    "# Show the result\n",
    "print(combined_df.head())"
   ]
  },
  {
   "cell_type": "code",
   "execution_count": 49,
   "metadata": {},
   "outputs": [
    {
     "data": {
      "text/plain": [
       "(262160, 2)"
      ]
     },
     "execution_count": 49,
     "metadata": {},
     "output_type": "execute_result"
    }
   ],
   "source": [
    "combined_df.shape"
   ]
  },
  {
   "cell_type": "code",
   "execution_count": 42,
   "metadata": {},
   "outputs": [
    {
     "data": {
      "text/html": [
       "<div>\n",
       "<style scoped>\n",
       "    .dataframe tbody tr th:only-of-type {\n",
       "        vertical-align: middle;\n",
       "    }\n",
       "\n",
       "    .dataframe tbody tr th {\n",
       "        vertical-align: top;\n",
       "    }\n",
       "\n",
       "    .dataframe thead th {\n",
       "        text-align: right;\n",
       "    }\n",
       "</style>\n",
       "<table border=\"1\" class=\"dataframe\">\n",
       "  <thead>\n",
       "    <tr style=\"text-align: right;\">\n",
       "      <th></th>\n",
       "      <th>CoT_Value</th>\n",
       "      <th>Correctness_Value</th>\n",
       "    </tr>\n",
       "  </thead>\n",
       "  <tbody>\n",
       "    <tr>\n",
       "      <th>0</th>\n",
       "      <td>Step 1: To determine the number of zeroes the ...</td>\n",
       "      <td>0</td>\n",
       "    </tr>\n",
       "    <tr>\n",
       "      <th>1</th>\n",
       "      <td>Step 1: The man bought 20 shares of Rs. 50 eac...</td>\n",
       "      <td>1</td>\n",
       "    </tr>\n",
       "    <tr>\n",
       "      <th>2</th>\n",
       "      <td>Step 1: We are given the equation '? % of 360 ...</td>\n",
       "      <td>1</td>\n",
       "    </tr>\n",
       "    <tr>\n",
       "      <th>3</th>\n",
       "      <td>Step 1: We are given that the corporation doub...</td>\n",
       "      <td>0</td>\n",
       "    </tr>\n",
       "    <tr>\n",
       "      <th>4</th>\n",
       "      <td>Step 1: Let's define the variables.\\n    Let t...</td>\n",
       "      <td>1</td>\n",
       "    </tr>\n",
       "    <tr>\n",
       "      <th>...</th>\n",
       "      <td>...</td>\n",
       "      <td>...</td>\n",
       "    </tr>\n",
       "    <tr>\n",
       "      <th>39955</th>\n",
       "      <td>Step 1: The first doughnut is priced at $1.\\nS...</td>\n",
       "      <td>1</td>\n",
       "    </tr>\n",
       "    <tr>\n",
       "      <th>39956</th>\n",
       "      <td>Step 1: The total rainfall in Springdale durin...</td>\n",
       "      <td>0</td>\n",
       "    </tr>\n",
       "    <tr>\n",
       "      <th>39957</th>\n",
       "      <td>Step 1: The length of the bridge is 200 meters...</td>\n",
       "      <td>1</td>\n",
       "    </tr>\n",
       "    <tr>\n",
       "      <th>39958</th>\n",
       "      <td>Step 1: The given expression is 10^(600) * 10^...</td>\n",
       "      <td>0</td>\n",
       "    </tr>\n",
       "    <tr>\n",
       "      <th>39959</th>\n",
       "      <td>Step 1: Understand the given information.\\n- T...</td>\n",
       "      <td>0</td>\n",
       "    </tr>\n",
       "  </tbody>\n",
       "</table>\n",
       "<p>39960 rows × 2 columns</p>\n",
       "</div>"
      ],
      "text/plain": [
       "                                               CoT_Value  Correctness_Value\n",
       "0      Step 1: To determine the number of zeroes the ...                  0\n",
       "1      Step 1: The man bought 20 shares of Rs. 50 eac...                  1\n",
       "2      Step 1: We are given the equation '? % of 360 ...                  1\n",
       "3      Step 1: We are given that the corporation doub...                  0\n",
       "4      Step 1: Let's define the variables.\\n    Let t...                  1\n",
       "...                                                  ...                ...\n",
       "39955  Step 1: The first doughnut is priced at $1.\\nS...                  1\n",
       "39956  Step 1: The total rainfall in Springdale durin...                  0\n",
       "39957  Step 1: The length of the bridge is 200 meters...                  1\n",
       "39958  Step 1: The given expression is 10^(600) * 10^...                  0\n",
       "39959  Step 1: Understand the given information.\\n- T...                  0\n",
       "\n",
       "[39960 rows x 2 columns]"
      ]
     },
     "execution_count": 42,
     "metadata": {},
     "output_type": "execute_result"
    }
   ],
   "source": [
    "import pandas as pd\n",
    "from sklearn.model_selection import train_test_split\n",
    "from transformers import BertTokenizer, BertForSequenceClassification, Trainer, TrainingArguments\n",
    "import torch\n",
    "\n",
    "# Check if CUDA is available, otherwise use CPU\n",
    "device = torch.device(\"cuda\" if torch.cuda.is_available() else \"cpu\")\n",
    "\n",
    "# Assuming df_concate is your DataFrame and it's correctly loaded with 'CoT_Value' as text and 'Correctness' as labels\n",
    "df_concate = combined_df  # Make sure combined_df is your dataframe name that includes 'CoT_Value' and 'Correctness'\n",
    "\n",
    "# Split index\n",
    "split_idx = int(len(df_concate) * 0.8)  # 80% for training\n",
    "\n",
    "# Split the data into training and testing\n",
    "X_train = df_concate['CoT_Value'].iloc[:split_idx]\n",
    "y_train = df_concate['Correctness_Value'].iloc[:split_idx]\n",
    "X_test = df_concate['CoT_Value'].iloc[split_idx:]\n",
    "y_test = df_concate['Correctness_Value'].iloc[split_idx:]\n",
    "\n",
    "# Tokenization\n",
    "tokenizer = BertTokenizer.from_pretrained('bert-base-uncased')\n",
    "train_encodings = tokenizer(X_train.tolist(), truncation=True, padding=True, max_length=512)\n",
    "test_encodings = tokenizer(X_test.tolist(), truncation=True, padding=True, max_length=512)\n",
    "\n",
    "# Convert to PyTorch datasets\n",
    "class CoTDataset(torch.utils.data.Dataset):\n",
    "    def __init__(self, encodings, labels):\n",
    "        self.encodings = {key: torch.tensor(val).to(device) for key, val in encodings.items()}\n",
    "        self.labels = torch.tensor(labels).to(device)\n",
    "\n",
    "    def __getitem__(self, idx):\n",
    "        item = {key: val[idx] for key, val in self.encodings.items()}\n",
    "        item['labels'] = self.labels[idx]\n",
    "        return item\n",
    "\n",
    "    def __len__(self):\n",
    "        return len(self.labels)\n",
    "\n",
    "train_dataset = CoTDataset(train_encodings, y_train.to_list())\n",
    "test_dataset = CoTDataset(test_encodings, y_test.to_list())\n",
    "\n",
    "# Load BERT with a classification head and move model to device\n",
    "model = BertForSequenceClassification.from_pretrained('bert-base-uncased', num_labels=2).to(device)\n",
    "\n",
    "# Setup training arguments\n",
    "training_args = TrainingArguments(\n",
    "    output_dir='./results',\n",
    "    num_train_epochs=3,\n",
    "    per_device_train_batch_size=8,\n",
    "    per_device_eval_batch_size=16,\n",
    "    warmup_steps=500,\n",
    "    weight_decay=0.01,\n",
    "    logging_dir='./logs',\n",
    "    logging_steps=10,\n",
    ")\n",
    "\n",
    "# Initialize the Trainer\n",
    "trainer = Trainer(\n",
    "    model=model,\n",
    "    args=training_args,\n",
    "    train_dataset=train_dataset,\n",
    "    eval_dataset=test_dataset\n",
    ")\n",
    "\n",
    "# Train the model\n",
    "trainer.train()\n",
    "\n",
    "# Evaluate the model\n",
    "results = trainer.evaluate()\n",
    "print(results)\n",
    "\n"
   ]
  }
 ],
 "metadata": {
  "kernelspec": {
   "display_name": "dl",
   "language": "python",
   "name": "python3"
  },
  "language_info": {
   "codemirror_mode": {
    "name": "ipython",
    "version": 3
   },
   "file_extension": ".py",
   "mimetype": "text/x-python",
   "name": "python",
   "nbconvert_exporter": "python",
   "pygments_lexer": "ipython3",
   "version": "3.12.2"
  }
 },
 "nbformat": 4,
 "nbformat_minor": 2
}
