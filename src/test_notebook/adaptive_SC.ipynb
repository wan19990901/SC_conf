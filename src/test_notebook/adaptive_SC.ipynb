{
 "cells": [
  {
   "cell_type": "code",
   "execution_count": 16,
   "id": "initial_id",
   "metadata": {
    "collapsed": true,
    "ExecuteTime": {
     "end_time": "2024-05-03T17:25:15.827809300Z",
     "start_time": "2024-05-03T17:25:15.821807600Z"
    }
   },
   "outputs": [],
   "source": [
    "import pandas as pd\n",
    "import os\n",
    "import re"
   ]
  },
  {
   "cell_type": "code",
   "execution_count": 156,
   "outputs": [],
   "source": [
    "#code-davinci-002, vicuna-13b\n",
    "MODEL_NAME = 'vicuna-13b'\n",
    "CATEGORY = 'tracking_three'\n",
    "DF_NAME = 'tracking_three'\n"
   ],
   "metadata": {
    "collapsed": false,
    "ExecuteTime": {
     "end_time": "2024-05-03T20:47:35.487375Z",
     "start_time": "2024-05-03T20:47:35.475245500Z"
    }
   },
   "id": "16ed12c2aff79797"
  },
  {
   "cell_type": "code",
   "execution_count": 157,
   "outputs": [],
   "source": [
    "def save_csv(row):\n",
    "    file_path = SAVE_PTH+'_cleaned.csv'\n",
    "\n",
    "    if not os.path.isfile(file_path):\n",
    "        # The file does not exist, write with header\n",
    "        row.to_frame().T.to_csv(file_path, mode='a', index=False, header=True)\n",
    "    else:\n",
    "        # The file exists, append without header\n",
    "        row.to_frame().T.to_csv(file_path, mode='a', index=False, header=False)"
   ],
   "metadata": {
    "collapsed": false,
    "ExecuteTime": {
     "end_time": "2024-05-03T20:47:35.795039600Z",
     "start_time": "2024-05-03T20:47:35.791985700Z"
    }
   },
   "id": "1543d9153952af52"
  },
  {
   "cell_type": "code",
   "execution_count": 158,
   "outputs": [],
   "source": [
    "for i in range(3):    \n",
    "    SAVE_PTH = f'../data/adaptive_consistency_outputs/{MODEL_NAME}/{DF_NAME}/{DF_NAME}_seed{i+1}'\n",
    "    df_t07 = pd.read_json(SAVE_PTH+'.jsonl', lines=True)\n",
    "    save_dict = {\n",
    "        'Category': [CATEGORY for i in range(len(df_t07))],\n",
    "        'Question':[None for i in range(len(df_t07))],\n",
    "        'Correct Answer': [None for i in range(len(df_t07))],\n",
    "    }\n",
    "    df_save = pd.DataFrame(save_dict)\n",
    "    for row_idx in range(len(df_t07)):\n",
    "        row = df_t07.iloc[row_idx]\n",
    "        row_save = df_save.iloc[row_idx]\n",
    "        row_save['Question']= row['input']\n",
    "        right_answer = row['target']\n",
    "        row_save['Correct Answer'] = right_answer\n",
    "        cot_li = row['generation']\n",
    "        cot_ans = row['answers']\n",
    "        for idx,cot in enumerate(cot_li):\n",
    "            if idx >= 40:\n",
    "                break\n",
    "            row_save[f'CoT_{idx}'] = cot\n",
    "            row_save[f'Final Answer_{idx}'] = cot_ans[idx]\n",
    "            row_save[f'Instruction Violation_{idx}'] = [(0,0)]\n",
    "        save_csv(row_save)"
   ],
   "metadata": {
    "collapsed": false,
    "ExecuteTime": {
     "end_time": "2024-05-03T20:47:57.861661200Z",
     "start_time": "2024-05-03T20:47:36.515829800Z"
    }
   },
   "id": "3b21b04981c6fa07"
  },
  {
   "cell_type": "code",
   "execution_count": 33,
   "outputs": [],
   "source": [],
   "metadata": {
    "collapsed": false,
    "ExecuteTime": {
     "end_time": "2024-05-03T17:28:19.835022Z",
     "start_time": "2024-05-03T17:28:19.832021800Z"
    }
   },
   "id": "67687411ff89c27f"
  },
  {
   "cell_type": "code",
   "execution_count": 33,
   "outputs": [],
   "source": [],
   "metadata": {
    "collapsed": false,
    "ExecuteTime": {
     "end_time": "2024-05-03T17:28:19.886319700Z",
     "start_time": "2024-05-03T17:28:19.880025Z"
    }
   },
   "id": "2531aa3e9f1aaf2c"
  },
  {
   "cell_type": "code",
   "execution_count": null,
   "outputs": [],
   "source": [],
   "metadata": {
    "collapsed": false
   },
   "id": "fcb70e5f4b6d9875"
  }
 ],
 "metadata": {
  "kernelspec": {
   "name": "llm_hall_project",
   "language": "python",
   "display_name": "llm_hall"
  },
  "language_info": {
   "codemirror_mode": {
    "name": "ipython",
    "version": 2
   },
   "file_extension": ".py",
   "mimetype": "text/x-python",
   "name": "python",
   "nbconvert_exporter": "python",
   "pygments_lexer": "ipython2",
   "version": "2.7.6"
  }
 },
 "nbformat": 4,
 "nbformat_minor": 5
}
