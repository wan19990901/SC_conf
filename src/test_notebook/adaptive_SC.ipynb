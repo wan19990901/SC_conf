{
 "cells": [
  {
   "cell_type": "code",
   "execution_count": 16,
   "id": "initial_id",
   "metadata": {
    "ExecuteTime": {
     "end_time": "2024-05-03T17:25:15.827809300Z",
     "start_time": "2024-05-03T17:25:15.821807600Z"
    },
    "collapsed": true
   },
   "outputs": [],
   "source": [
    "import pandas as pd\n",
    "import os\n",
    "import re"
   ]
  },
  {
   "cell_type": "code",
   "execution_count": 178,
   "id": "16ed12c2aff79797",
   "metadata": {
    "ExecuteTime": {
     "end_time": "2024-05-03T22:30:05.833663200Z",
     "start_time": "2024-05-03T22:30:04.694380500Z"
    },
    "collapsed": false
   },
   "outputs": [],
   "source": [
    "#code-davinci-002, vicuna-13b\n",
    "MODEL_NAME = 'vicuna-13b'\n",
    "CATEGORY = 'tracking_three'\n",
    "DF_NAME = 'svamp'\n",
    "for i in range(3):\n",
    "    SAVE_PTH = f'../data/adaptive_consistency_outputs/{MODEL_NAME}/{DF_NAME}/{DF_NAME}_seed{i+1}'+'_cleaned.csv'\n",
    "    try: \n",
    "        df = pd.read_csv(SAVE_PTH)\n",
    "        df = df.fillna('error')\n",
    "        df.to_csv(SAVE_PTH,index=False)\n",
    "    except:\n",
    "        continue"
   ]
  },
  {
   "cell_type": "code",
   "execution_count": 162,
   "id": "1543d9153952af52",
   "metadata": {
    "ExecuteTime": {
     "end_time": "2024-05-03T22:24:20.152852500Z",
     "start_time": "2024-05-03T22:24:20.147853700Z"
    },
    "collapsed": false
   },
   "outputs": [],
   "source": [
    "# def save_csv(row):\n",
    "#     file_path = SAVE_PTH+'_cleaned.csv'\n",
    "# \n",
    "#     if not os.path.isfile(file_path):\n",
    "#         # The file does not exist, write with header\n",
    "#         row.to_frame().T.to_csv(file_path, mode='a', index=False, header=True)\n",
    "#     else:\n",
    "#         # The file exists, append without header\n",
    "#         row.to_frame().T.to_csv(file_path, mode='a', index=False, header=False)"
   ]
  },
  {
   "cell_type": "code",
   "execution_count": 163,
   "id": "3b21b04981c6fa07",
   "metadata": {
    "ExecuteTime": {
     "end_time": "2024-05-03T22:24:20.423281700Z",
     "start_time": "2024-05-03T22:24:20.416281700Z"
    },
    "collapsed": false
   },
   "outputs": [],
   "source": [
    "# for i in range(3):    \n",
    "#     SAVE_PTH = f'../data/adaptive_consistency_outputs/{MODEL_NAME}/{DF_NAME}/{DF_NAME}_seed{i+1}'\n",
    "#     df_t07 = pd.read_json(SAVE_PTH+'.jsonl', lines=True)\n",
    "#     save_dict = {\n",
    "#         'Category': [CATEGORY for i in range(len(df_t07))],\n",
    "#         'Question':[None for i in range(len(df_t07))],\n",
    "#         'Correct Answer': [None for i in range(len(df_t07))],\n",
    "#     }\n",
    "#     df_save = pd.DataFrame(save_dict)\n",
    "#     for row_idx in range(len(df_t07)):\n",
    "#         row = df_t07.iloc[row_idx]\n",
    "#         row_save = df_save.iloc[row_idx]\n",
    "#         row_save['Question']= row['input']\n",
    "#         right_answer = row['target']\n",
    "#         row_save['Correct Answer'] = right_answer\n",
    "#         cot_li = row['generation']\n",
    "#         cot_ans = row['answers']\n",
    "#         for idx,cot in enumerate(cot_li):\n",
    "#             if idx >= 40:\n",
    "#                 break\n",
    "#             row_save[f'CoT_{idx}'] = cot\n",
    "#             row_save[f'Final Answer_{idx}'] = cot_ans[idx]\n",
    "#             row_save[f'Instruction Violation_{idx}'] = [(0,0)]\n",
    "#         save_csv(row_save)"
   ]
  },
  {
   "cell_type": "code",
   "execution_count": 200,
   "id": "2531aa3e9f1aaf2c",
   "metadata": {
    "ExecuteTime": {
     "end_time": "2024-05-03T22:32:56.597666800Z",
     "start_time": "2024-05-03T22:32:56.579674500Z"
    },
    "collapsed": false
   },
   "outputs": [],
   "source": [
    "DF_NAME = 'asdiv'"
   ]
  },
  {
   "cell_type": "code",
   "execution_count": 201,
   "id": "f15ba5283dc38e3a",
   "metadata": {
    "ExecuteTime": {
     "end_time": "2024-05-03T22:33:01.954349100Z",
     "start_time": "2024-05-03T22:32:57.730921Z"
    },
    "collapsed": false
   },
   "outputs": [],
   "source": [
    "#code-davinci-002, vicuna-13b\n",
    "MODEL_NAME = 'code-davinci-002'\n",
    "for i in range(3):\n",
    "    SAVE_PTH = f'../data/adaptive_consistency_outputs/{MODEL_NAME}/{DF_NAME}/{DF_NAME}_seed{i+1}'+'_cleaned.csv'\n",
    "    try: \n",
    "        df = pd.read_csv(SAVE_PTH)\n",
    "        df = df.fillna('error')\n",
    "        df.to_csv(SAVE_PTH,index=False)\n",
    "    except:\n",
    "        continue\n",
    "MODEL_NAME = 'vicuna-13b'\n",
    "for i in range(3):\n",
    "    SAVE_PTH = f'../data/adaptive_consistency_outputs/{MODEL_NAME}/{DF_NAME}/{DF_NAME}_seed{i+1}'+'_cleaned.csv'\n",
    "    try: \n",
    "        df = pd.read_csv(SAVE_PTH)\n",
    "        df = df.fillna('error')\n",
    "        df.to_csv(SAVE_PTH,index=False)\n",
    "    except:\n",
    "        continue"
   ]
  },
  {
   "cell_type": "code",
   "execution_count": null,
   "id": "d0854e924a1bf773",
   "metadata": {
    "collapsed": false
   },
   "outputs": [],
   "source": []
  }
 ],
 "metadata": {
  "kernelspec": {
   "display_name": "llm_hall",
   "language": "python",
   "name": "llm_hall_project"
  },
  "language_info": {
   "codemirror_mode": {
    "name": "ipython",
    "version": 2
   },
   "file_extension": ".py",
   "mimetype": "text/x-python",
   "name": "python",
   "nbconvert_exporter": "python",
   "pygments_lexer": "ipython2",
   "version": "2.7.6"
  }
 },
 "nbformat": 4,
 "nbformat_minor": 5
}
