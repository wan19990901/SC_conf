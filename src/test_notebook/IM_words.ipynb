{
 "cells": [
  {
   "cell_type": "code",
   "execution_count": 54,
   "id": "initial_id",
   "metadata": {
    "collapsed": true,
    "ExecuteTime": {
     "end_time": "2024-05-30T16:26:42.397373900Z",
     "start_time": "2024-05-30T16:26:42.377390600Z"
    }
   },
   "outputs": [],
   "source": [
    "import pandas as pd\n",
    "import re\n",
    "from collections import Counter"
   ]
  },
  {
   "cell_type": "code",
   "execution_count": 14,
   "outputs": [],
   "source": [
    "df = pd.read_csv('../../data/Evaluation_CoTs/final.csv')"
   ],
   "metadata": {
    "collapsed": false,
    "ExecuteTime": {
     "end_time": "2024-05-30T15:59:36.883616200Z",
     "start_time": "2024-05-30T15:59:33.621385100Z"
    }
   },
   "id": "e995a87f96870b0b"
  },
  {
   "cell_type": "code",
   "execution_count": 75,
   "outputs": [],
   "source": [
    "# Compile a regex pattern to match any of the common terms\n",
    "common_terms = [\"a mistake\", \"an error\", \"not solvable\", \"apologize\" ,\"not enough information\",\"that's still not it...\"]\n",
    "\n",
    "# Compile a regex pattern to match any of the common terms\n",
    "pattern = re.compile(r'\\b(?:' + '|'.join(common_terms) + r')\\b', re.IGNORECASE)\n",
    "\n",
    "# Function to find and extract matched terms with surrounding words\n",
    "def extract_surrounding_terms(text, pattern, window_size=10):\n",
    "    words = re.findall(r'\\b\\w+\\b', text)\n",
    "    for match in re.finditer(pattern, text):\n",
    "        matched_term = match.group(0)\n",
    "        \n",
    "        start = match.start()\n",
    "        end = match.end()\n",
    "\n",
    "        # Get the surrounding words within the specified window size\n",
    "        start_idx = max(start - window_size, 0)\n",
    "        end_idx = max(end + window_size + 1, len(words))\n",
    "        surrounding_text = text[start_idx:end_idx]\n",
    "        \n",
    "        yield (matched_term, surrounding_text)"
   ],
   "metadata": {
    "collapsed": false,
    "ExecuteTime": {
     "end_time": "2024-05-30T17:24:10.939707900Z",
     "start_time": "2024-05-30T17:24:10.925084Z"
    }
   },
   "id": "f8cc9947991bf1cb"
  },
  {
   "cell_type": "code",
   "execution_count": 76,
   "outputs": [
    {
     "data": {
      "text/plain": "{'claude-3-haiku-20240307', 'gpt-3.5-turbo-0125', 'gpt-4', 'llama3_cleaned'}"
     },
     "execution_count": 76,
     "metadata": {},
     "output_type": "execute_result"
    }
   ],
   "source": [
    "set(df.Model)"
   ],
   "metadata": {
    "collapsed": false,
    "ExecuteTime": {
     "end_time": "2024-05-30T17:24:11.856573Z",
     "start_time": "2024-05-30T17:24:11.654094600Z"
    }
   },
   "id": "a6095032b970bd8"
  },
  {
   "cell_type": "code",
   "execution_count": 77,
   "outputs": [],
   "source": [
    "results = {\n",
    "    'gpt-4':[],\n",
    "    'gpt-3.5-turbo-0125':[],\n",
    "    'claude-3-haiku-20240307':[],\n",
    "    'llama3_cleaned':[]\n",
    "}\n",
    "for row_idx in range(len(df)):\n",
    "    row = df.iloc[row_idx]\n",
    "    for i in range(40):\n",
    "        CoT_column = f\"CoT_{i}\"\n",
    "        string = str(row[CoT_column]).replace('\\n',';')\n",
    "        for match in extract_surrounding_terms(string, pattern):\n",
    "            results[row.Model].append(match[0])"
   ],
   "metadata": {
    "collapsed": false,
    "ExecuteTime": {
     "end_time": "2024-05-30T17:24:58.129249300Z",
     "start_time": "2024-05-30T17:24:12.121440900Z"
    }
   },
   "id": "894cbdee8a91d867"
  },
  {
   "cell_type": "code",
   "execution_count": 78,
   "outputs": [
    {
     "name": "stdout",
     "output_type": "stream",
     "text": [
      "gpt-4 :\n",
      "Counter({'a mistake': 977, 'an error': 17, 'not enough information': 2, 'An error': 1})\n",
      "\n",
      "\n",
      "\n",
      "gpt-3.5-turbo-0125 :\n",
      "Counter({'an error': 257, 'a mistake': 164, 'An error': 39, 'Not enough information': 3, 'not solvable': 2, 'not enough information': 2})\n",
      "\n",
      "\n",
      "\n",
      "claude-3-haiku-20240307 :\n",
      "Counter({'a mistake': 356, 'not enough information': 168, 'an error': 97, 'Not enough information': 8, 'not solvable': 3})\n",
      "\n",
      "\n",
      "\n",
      "llama3_cleaned :\n",
      "Counter({'a mistake': 1738, 'an error': 1639, 'apologize': 109, 'An error': 23, 'Not enough information': 18, 'not enough information': 15, 'not solvable': 1, 'Not Enough Information': 1})\n"
     ]
    }
   ],
   "source": [
    "for key,val in results.items():\n",
    "    print(key,':')\n",
    "    print(Counter(val))\n",
    "    print('\\n\\n')"
   ],
   "metadata": {
    "collapsed": false,
    "ExecuteTime": {
     "end_time": "2024-05-30T17:24:58.147680900Z",
     "start_time": "2024-05-30T17:24:58.133868300Z"
    }
   },
   "id": "6d2723ab23a16f59"
  },
  {
   "cell_type": "code",
   "execution_count": null,
   "outputs": [],
   "source": [],
   "metadata": {
    "collapsed": false
   },
   "id": "802ea2239614bbf5"
  }
 ],
 "metadata": {
  "kernelspec": {
   "name": "llm_hall_project",
   "language": "python",
   "display_name": "llm_hall"
  },
  "language_info": {
   "codemirror_mode": {
    "name": "ipython",
    "version": 2
   },
   "file_extension": ".py",
   "mimetype": "text/x-python",
   "name": "python",
   "nbconvert_exporter": "python",
   "pygments_lexer": "ipython2",
   "version": "2.7.6"
  }
 },
 "nbformat": 4,
 "nbformat_minor": 5
}
