{
 "cells": [
  {
   "cell_type": "code",
   "execution_count": 2,
   "id": "initial_id",
   "metadata": {
    "collapsed": true,
    "ExecuteTime": {
     "end_time": "2024-05-01T21:13:17.079182Z",
     "start_time": "2024-05-01T21:13:06.202579500Z"
    }
   },
   "outputs": [],
   "source": [
    "import numpy as np\n",
    "import pandas as pd\n",
    "import os\n",
    "import re\n",
    "from utils import _strip_string,delete_extra_zero"
   ]
  },
  {
   "cell_type": "code",
   "execution_count": 192,
   "outputs": [],
   "source": [
    "MODEL_NAME = 'Llama2'\n",
    "CATEGORY = 'last_letters'\n",
    "DF_NAME = 'last_letters'\n",
    "dir_pth = f'../data/ES_data/{MODEL_NAME}_result'\n",
    "df_t07 = pd.read_json(os.path.join(dir_pth,f'{DF_NAME}/T0.7.jsonl'), lines=True)"
   ],
   "metadata": {
    "collapsed": false,
    "ExecuteTime": {
     "end_time": "2024-05-02T00:16:59.050119900Z",
     "start_time": "2024-05-02T00:16:59.024572300Z"
    }
   },
   "id": "7527a8d86cdd335c"
  },
  {
   "cell_type": "code",
   "execution_count": 193,
   "outputs": [
    {
     "data": {
      "text/plain": "                                              question answer  \\\n0    Take the last letters of each words in \"Whitne...   yajo   \n1    Take the last letters of each words in \"Lucky ...   yajc   \n2    Take the last letters of each words in \"Caleb ...   berl   \n3    Take the last letters of each words in \"Silvia...   aank   \n4    Take the last letters of each words in \"Breann...   ayre   \n..                                                 ...    ...   \n495  Take the last letters of each words in \"Mya Fe...   aoay   \n496  Take the last letters of each words in \"Emanue...   leze   \n497  Take the last letters of each words in \"Len Ma...   nsea   \n498  Take the last letters of each words in \"Rich P...   hrds   \n499  Take the last letters of each words in \"Marlen...   naae   \n\n                                      generated_answer  \n0    [A: The last letter of \"Whitney\" is \"y\". The l...  \n1    [A: The last letter of \"Lucky\" is \"y\". The las...  \n2    [A: Sure! The last letters of each word in \"Ca...  \n3    [A: The last letter of \"Silvia\" is \"a\". The la...  \n4    [A: Sure! Here are the last letters of each wo...  \n..                                                 ...  \n495  [A: Sure! Here are the last letters of each wo...  \n496  [A: The last letter of \"Emanuel\" is \"l\". The l...  \n497  [A: The last letter of \"Len\" is \"n\". The last ...  \n498  [A: Sure! Here are the last letters of each wo...  \n499  [A: Sure! Here are the last letters of each wo...  \n\n[500 rows x 3 columns]",
      "text/html": "<div>\n<style scoped>\n    .dataframe tbody tr th:only-of-type {\n        vertical-align: middle;\n    }\n\n    .dataframe tbody tr th {\n        vertical-align: top;\n    }\n\n    .dataframe thead th {\n        text-align: right;\n    }\n</style>\n<table border=\"1\" class=\"dataframe\">\n  <thead>\n    <tr style=\"text-align: right;\">\n      <th></th>\n      <th>question</th>\n      <th>answer</th>\n      <th>generated_answer</th>\n    </tr>\n  </thead>\n  <tbody>\n    <tr>\n      <th>0</th>\n      <td>Take the last letters of each words in \"Whitne...</td>\n      <td>yajo</td>\n      <td>[A: The last letter of \"Whitney\" is \"y\". The l...</td>\n    </tr>\n    <tr>\n      <th>1</th>\n      <td>Take the last letters of each words in \"Lucky ...</td>\n      <td>yajc</td>\n      <td>[A: The last letter of \"Lucky\" is \"y\". The las...</td>\n    </tr>\n    <tr>\n      <th>2</th>\n      <td>Take the last letters of each words in \"Caleb ...</td>\n      <td>berl</td>\n      <td>[A: Sure! The last letters of each word in \"Ca...</td>\n    </tr>\n    <tr>\n      <th>3</th>\n      <td>Take the last letters of each words in \"Silvia...</td>\n      <td>aank</td>\n      <td>[A: The last letter of \"Silvia\" is \"a\". The la...</td>\n    </tr>\n    <tr>\n      <th>4</th>\n      <td>Take the last letters of each words in \"Breann...</td>\n      <td>ayre</td>\n      <td>[A: Sure! Here are the last letters of each wo...</td>\n    </tr>\n    <tr>\n      <th>...</th>\n      <td>...</td>\n      <td>...</td>\n      <td>...</td>\n    </tr>\n    <tr>\n      <th>495</th>\n      <td>Take the last letters of each words in \"Mya Fe...</td>\n      <td>aoay</td>\n      <td>[A: Sure! Here are the last letters of each wo...</td>\n    </tr>\n    <tr>\n      <th>496</th>\n      <td>Take the last letters of each words in \"Emanue...</td>\n      <td>leze</td>\n      <td>[A: The last letter of \"Emanuel\" is \"l\". The l...</td>\n    </tr>\n    <tr>\n      <th>497</th>\n      <td>Take the last letters of each words in \"Len Ma...</td>\n      <td>nsea</td>\n      <td>[A: The last letter of \"Len\" is \"n\". The last ...</td>\n    </tr>\n    <tr>\n      <th>498</th>\n      <td>Take the last letters of each words in \"Rich P...</td>\n      <td>hrds</td>\n      <td>[A: Sure! Here are the last letters of each wo...</td>\n    </tr>\n    <tr>\n      <th>499</th>\n      <td>Take the last letters of each words in \"Marlen...</td>\n      <td>naae</td>\n      <td>[A: Sure! Here are the last letters of each wo...</td>\n    </tr>\n  </tbody>\n</table>\n<p>500 rows × 3 columns</p>\n</div>"
     },
     "execution_count": 193,
     "metadata": {},
     "output_type": "execute_result"
    }
   ],
   "source": [
    "# import json\n",
    "# reformated_dict = {\n",
    "#     'question':[],\n",
    "#     'answer': [],\n",
    "#     'generated_answer': []\n",
    "# }\n",
    "# for i in df_t07.columns:\n",
    "#     data_dict = json.loads(str(df_t07[i].values[0]))\n",
    "#     for key,val in data_dict.items():\n",
    "#         reformated_dict[key].append(val)\n",
    "# df_t07 = pd.DataFrame(reformated_dict)\n",
    "df_t07"
   ],
   "metadata": {
    "collapsed": false,
    "ExecuteTime": {
     "end_time": "2024-05-02T00:16:59.064165500Z",
     "start_time": "2024-05-02T00:16:59.053124300Z"
    }
   },
   "id": "f4095c334081b5b7"
  },
  {
   "cell_type": "code",
   "execution_count": 194,
   "outputs": [
    {
     "data": {
      "text/plain": "40"
     },
     "execution_count": 194,
     "metadata": {},
     "output_type": "execute_result"
    }
   ],
   "source": [
    "len(df_t07['generated_answer'][0])"
   ],
   "metadata": {
    "collapsed": false,
    "ExecuteTime": {
     "end_time": "2024-05-02T00:16:59.069195700Z",
     "start_time": "2024-05-02T00:16:59.066166400Z"
    }
   },
   "id": "3fea2ddcc75f58aa"
  },
  {
   "cell_type": "markdown",
   "source": [
    "# GSM8K"
   ],
   "metadata": {
    "collapsed": false
   },
   "id": "bd7b07b951f9fcaf"
  },
  {
   "cell_type": "code",
   "execution_count": 195,
   "outputs": [],
   "source": [
    "# ANS_RE = re.compile(r\"#### (\\-?[0-9\\.\\,]+)\")\n",
    "# INVALID_ANS = \"[invalid]\"\n",
    "# \n",
    "# \n",
    "# def extract_answer(completion):\n",
    "#     match = ANS_RE.search(completion)\n",
    "#     if match:\n",
    "#         match_str = match.group(1).strip()\n",
    "#         match_str = match_str.replace(\",\", \"\")\n",
    "#         return match_str\n",
    "#     else:\n",
    "#         return INVALID_ANS\n",
    "# \n",
    "# \n",
    "# def extract_math_answer(pred_str):\n",
    "#     if ('The answer is ' in pred_str):\n",
    "#         pred = pred_str.split('The answer is ')[-1].strip()\n",
    "#     elif ('the answer is ' in pred_str):\n",
    "#         pred = pred_str.split('the answer is ')[-1].strip()\n",
    "#     elif 'boxed' in pred_str:\n",
    "#         ans = pred_str.split('boxed')[-1]\n",
    "#         if (ans[0] == '{'):\n",
    "#             stack = 1\n",
    "#             a = ''\n",
    "#             for c in ans[1:]:\n",
    "#                 if (c == '{'):\n",
    "#                     stack += 1\n",
    "#                     a += c\n",
    "#                 elif (c == '}'):\n",
    "#                     stack -= 1\n",
    "#                     if (stack == 0): break\n",
    "#                     a += c\n",
    "#                 else:\n",
    "#                     a += c\n",
    "#         else:\n",
    "#             a = ans.split('$')[0].strip()\n",
    "#         a = _strip_string(a)\n",
    "#         pred = a\n",
    "# \n",
    "#     else:\n",
    "#         pattern = '-?\\d*\\.?\\d+'\n",
    "#         pred = re.findall(pattern, pred_str)\n",
    "#         if (len(pred) >= 1):\n",
    "#             # print(pred_str)\n",
    "#             pred = pred[-1]\n",
    "#         else:\n",
    "#             pred = ''\n",
    "#     if pred != \"\":\n",
    "#         if pred[-1] == \".\":\n",
    "#             pred = pred[:-1]\n",
    "#         if pred[-1] == \"/\":\n",
    "#             pred = pred[:-1]\n",
    "#     pred = _strip_string(pred)\n",
    "#     if 'boxed' in pred:\n",
    "#         ans = pred.split('boxed')[-1]\n",
    "#         if (ans[0] == '{'):\n",
    "#             stack = 1\n",
    "#             a = ''\n",
    "#             for c in ans[1:]:\n",
    "#                 if (c == '{'):\n",
    "#                     stack += 1\n",
    "#                     a += c\n",
    "#                 elif (c == '}'):\n",
    "#                     stack -= 1\n",
    "#                     if (stack == 0): break\n",
    "#                     a += c\n",
    "#                 else:\n",
    "#                     a += c\n",
    "#         else:\n",
    "#             a = ans.split('$')[0].strip()\n",
    "#         a = _strip_string(a)\n",
    "#         pred = a\n",
    "#     return pred"
   ],
   "metadata": {
    "collapsed": false,
    "ExecuteTime": {
     "end_time": "2024-05-02T00:17:00.451789400Z",
     "start_time": "2024-05-02T00:17:00.447792800Z"
    }
   },
   "id": "cdcaeca878f070d5"
  },
  {
   "cell_type": "code",
   "execution_count": 196,
   "outputs": [],
   "source": [
    "def save_csv(row):\n",
    "    storage_dir = os.path.join('../data', f'ES_data/{MODEL_NAME}_result/{DF_NAME}')\n",
    "    if not os.path.exists(storage_dir):\n",
    "        os.makedirs(storage_dir)\n",
    "    file_path = os.path.join(storage_dir, f'{DF_NAME}_cleaned.csv')\n",
    "\n",
    "    if not os.path.isfile(file_path):\n",
    "        # The file does not exist, write with header\n",
    "        row.to_frame().T.to_csv(file_path, mode='a', index=False, header=True)\n",
    "    else:\n",
    "        # The file exists, append without header\n",
    "        row.to_frame().T.to_csv(file_path, mode='a', index=False, header=False)"
   ],
   "metadata": {
    "collapsed": false,
    "ExecuteTime": {
     "end_time": "2024-05-02T00:17:00.663113Z",
     "start_time": "2024-05-02T00:17:00.658154300Z"
    }
   },
   "id": "f00b0881c4b6032e"
  },
  {
   "cell_type": "code",
   "execution_count": 197,
   "outputs": [],
   "source": [
    "# save_dict = {\n",
    "#     'Category': [CATEGORY for i in range(len(df_t07))],\n",
    "#     'Question':[None for i in range(len(df_t07))],\n",
    "#     'Correct Answer': [None for i in range(len(df_t07))],\n",
    "# }\n",
    "# df_save = pd.DataFrame(save_dict)\n",
    "# for row_idx in range(len(df_t07)):\n",
    "#     row = df_t07.iloc[row_idx]\n",
    "#     row_save = df_save.iloc[row_idx]\n",
    "#     row_save['Question']= row['question']\n",
    "#     right_answer = delete_extra_zero(extract_answer(row['answer']))\n",
    "#     row_save['Correct Answer'] = right_answer\n",
    "#     cot_li = row['generated_answer']\n",
    "#     for idx,cot in enumerate(cot_li):\n",
    "#         tem_1 = cot\n",
    "#         number_list = re.findall(r\"\\d+\\.?\\d*\", tem_1)\n",
    "#         try:\n",
    "#             predict1 = number_list[-1].strip('.')\n",
    "#             row_save[f'CoT_{idx}'] = cot\n",
    "#             row_save[f'Final Answer_{idx}'] = predict1\n",
    "#             row_save[f'Instruction Violation_{idx}'] = [(0,0)]\n",
    "#         except:\n",
    "#             predict1 = -1000\n",
    "#             row_save[f'CoT_{idx}'] = 'ERROR'\n",
    "#             row_save[f'Final Answer_{idx}'] = 'error'\n",
    "#             row_save[f'Instruction Violation_{idx}'] = [(0, 1), (0, 2), (0, 3), (0, 4)]\n",
    "#             # continue\n",
    "# \n",
    "#     save_csv(row_save)"
   ],
   "metadata": {
    "collapsed": false,
    "ExecuteTime": {
     "end_time": "2024-05-02T00:17:00.877570600Z",
     "start_time": "2024-05-02T00:17:00.873576500Z"
    }
   },
   "id": "a0b4d064dac242de"
  },
  {
   "cell_type": "markdown",
   "source": [
    "# Common and Last Letter"
   ],
   "metadata": {
    "collapsed": false
   },
   "id": "7f91ef6d95f61ee2"
  },
  {
   "cell_type": "code",
   "execution_count": 198,
   "outputs": [],
   "source": [
    "# # common\n",
    "# def extract_answer(generated_answer):\n",
    "#     answer_text = generated_answer.split('the answer is')[-1]\n",
    "#     _ = answer_text\n",
    "#     p = re.compile(r'[(](.*)[)]', re.S)\n",
    "#     answer_text = re.findall(p, answer_text)\n",
    "#     if answer_text:\n",
    "#         return answer_text[0]\n",
    "#     else:\n",
    "#         return _\n",
    "# last letter\n",
    "def extract_answer(generated_answer):\n",
    "    answer_text = generated_answer.lower().split('the answer is')[-1]\n",
    "    answer_text = ''.join(re.split(r'[^A-Za-z]', answer_text))\n",
    "    return answer_text"
   ],
   "metadata": {
    "collapsed": false,
    "ExecuteTime": {
     "end_time": "2024-05-02T00:17:01.933128300Z",
     "start_time": "2024-05-02T00:17:01.927120300Z"
    }
   },
   "id": "899d0fd65d3ffb30"
  },
  {
   "cell_type": "code",
   "execution_count": 199,
   "outputs": [],
   "source": [
    "import numpy as np\n",
    "save_dict = {\n",
    "    'Category': [CATEGORY for i in range(len(df_t07))],\n",
    "    'Question':[None for i in range(len(df_t07))],\n",
    "    'Correct Answer': [None for i in range(len(df_t07))],\n",
    "}\n",
    "df_save = pd.DataFrame(save_dict)\n",
    "for row_idx in range(len(df_t07)):\n",
    "    row = df_t07.iloc[row_idx]\n",
    "    row_save = df_save.iloc[row_idx]\n",
    "    row_save['Question']= row['question']\n",
    "    right_answer = row['answer'].lower()\n",
    "    row_save['Correct Answer'] = right_answer\n",
    "    cot_li = row['generated_answer']\n",
    "    for idx,cot in enumerate(cot_li):\n",
    "        tem_1 = cot\n",
    "        predict1 = extract_answer(tem_1)\n",
    "        if len(cot)==0:\n",
    "            row_save[f'CoT_{idx}'] = 'A: Error'\n",
    "            row_save[f'Final Answer_{idx}'] = 'Error'\n",
    "            row_save[f'Instruction Violation_{idx}'] = [(0, 1), (0, 2), (0, 3), (0, 4)] \n",
    "        else:\n",
    "            row_save[f'CoT_{idx}'] = cot\n",
    "            row_save[f'Final Answer_{idx}'] = predict1\n",
    "            row_save[f'Instruction Violation_{idx}'] = [(0,0)]\n",
    "    save_csv(row_save)"
   ],
   "metadata": {
    "collapsed": false,
    "ExecuteTime": {
     "end_time": "2024-05-02T00:17:15.577769Z",
     "start_time": "2024-05-02T00:17:02.285115300Z"
    }
   },
   "id": "4ac54bf958b32b9f"
  },
  {
   "cell_type": "markdown",
   "source": [
    "# Strategy"
   ],
   "metadata": {
    "collapsed": false
   },
   "id": "a350ba19b4547d12"
  },
  {
   "cell_type": "code",
   "execution_count": 153,
   "outputs": [],
   "source": [
    "# def find_answer(sample):\n",
    "#     if sample['answer']['Yes']:\n",
    "#         return 1\n",
    "#     else:\n",
    "#         return 0\n",
    "# \n",
    "# \n",
    "# def extract_answer(generated_answer):\n",
    "#     if 'the answer is yes' in generated_answer.lower():\n",
    "#         return 1\n",
    "#     elif 'the answer is no' in generated_answer.lower():\n",
    "#         return 0\n",
    "#     else:\n",
    "#         return -1"
   ],
   "metadata": {
    "collapsed": false,
    "ExecuteTime": {
     "end_time": "2024-05-02T00:09:55.977779400Z",
     "start_time": "2024-05-02T00:09:55.973780100Z"
    }
   },
   "id": "fcd79a28e7d219c8"
  },
  {
   "cell_type": "code",
   "execution_count": 155,
   "outputs": [],
   "source": [
    "# import numpy as np\n",
    "# save_dict = {\n",
    "#     'Category': [CATEGORY for i in range(len(df_t07))],\n",
    "#     'Question':[None for i in range(len(df_t07))],\n",
    "#     'Correct Answer': [None for i in range(len(df_t07))],\n",
    "# }\n",
    "# df_save = pd.DataFrame(save_dict)\n",
    "# for row_idx in range(len(df_t07)):\n",
    "#     row = df_t07.iloc[row_idx]\n",
    "#     row_save = df_save.iloc[row_idx]\n",
    "#     row_save['Question']= row['question']\n",
    "#     right_answer = find_answer(row)\n",
    "#     row_save['Correct Answer'] = right_answer\n",
    "#     cot_li = row['generated_answer']\n",
    "#     for idx,cot in enumerate(cot_li):\n",
    "#         tem_1 = cot\n",
    "#         predict1 = extract_answer(tem_1)\n",
    "#         if len(cot) == 0:\n",
    "#             cot = 'A: Error'\n",
    "#         if predict1==-1:\n",
    "#             row_save[f'CoT_{idx}'] = cot\n",
    "#             row_save[f'Final Answer_{idx}'] = 'Error'\n",
    "#             row_save[f'Instruction Violation_{idx}'] = [(0, 1), (0, 2), (0, 3), (0, 4)] \n",
    "#         else:\n",
    "#             row_save[f'CoT_{idx}'] = cot\n",
    "#             row_save[f'Final Answer_{idx}'] = predict1\n",
    "#             row_save[f'Instruction Violation_{idx}'] = [(0,0)]\n",
    "#     save_csv(row_save)"
   ],
   "metadata": {
    "collapsed": false,
    "ExecuteTime": {
     "end_time": "2024-05-02T00:11:25.764104500Z",
     "start_time": "2024-05-02T00:10:23.413329500Z"
    }
   },
   "id": "59cca42db75e2b62"
  },
  {
   "cell_type": "code",
   "execution_count": null,
   "outputs": [],
   "source": [],
   "metadata": {
    "collapsed": false
   },
   "id": "53a6c2af3656c08b"
  }
 ],
 "metadata": {
  "kernelspec": {
   "name": "llm_hall_project",
   "language": "python",
   "display_name": "llm_hall"
  },
  "language_info": {
   "codemirror_mode": {
    "name": "ipython",
    "version": 2
   },
   "file_extension": ".py",
   "mimetype": "text/x-python",
   "name": "python",
   "nbconvert_exporter": "python",
   "pygments_lexer": "ipython2",
   "version": "2.7.6"
  }
 },
 "nbformat": 4,
 "nbformat_minor": 5
}
