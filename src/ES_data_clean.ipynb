{
 "cells": [
  {
   "cell_type": "code",
   "execution_count": 6,
   "id": "initial_id",
   "metadata": {
    "collapsed": true,
    "ExecuteTime": {
     "end_time": "2024-04-30T22:16:03.412434400Z",
     "start_time": "2024-04-30T22:15:53.032954700Z"
    }
   },
   "outputs": [],
   "source": [
    "import pandas as pd\n",
    "import os\n",
    "import re\n",
    "from utils import _strip_string,delete_extra_zero"
   ]
  },
  {
   "cell_type": "code",
   "execution_count": 27,
   "outputs": [],
   "source": [
    "MODEL_NAME = 'GPT4'\n",
    "CATEGORY = 'Math'\n",
    "DF_NAME = 'GSM8K'\n",
    "dir_pth = f'../data/ES_data/{MODEL_NAME}_result'\n",
    "df_t07 = pd.read_json(os.path.join(dir_pth,'gsm8k/T0.7.jsonl'), lines=True)"
   ],
   "metadata": {
    "collapsed": false,
    "ExecuteTime": {
     "end_time": "2024-04-30T23:47:14.422737300Z",
     "start_time": "2024-04-30T23:47:14.342728800Z"
    }
   },
   "id": "7527a8d86cdd335c"
  },
  {
   "cell_type": "code",
   "execution_count": 10,
   "outputs": [
    {
     "data": {
      "text/plain": "                                               question  \\\n0     Q:Mico and Marco wanted to get to know each ot...   \n1     Q:Hannah slips on a banana peel and breaks her...   \n2     Q:Judy teaches 5 dance classes, every day, on ...   \n3     Q:Nani is 8 years old. His brother is twice hi...   \n4     Q:Tobias bought a big pizza with 60 pieces. He...   \n...                                                 ...   \n1314  Q:At the trip to the county-level scavenger hu...   \n1315  Q:Mandy owes Benedict $100. They agreed to hav...   \n1316  Q:Greta and Celinda are baking cookies. Greta ...   \n1317  Q:Jeff is 10 years older than his younger sist...   \n1318  Q:Samwell owns an appliances store. For this w...   \n\n                                                 answer  \\\n0     There will be an additional 10 (for Mico) + 10...   \n1     First find the length of the visit in hours: 3...   \n2     She teaches 5 dance classes 5 days a week so t...   \n3     Nani's brother is 8 * 2 = <<8*2=16>>16 years o...   \n4     On the first day, Tobias ate 2/5*60 = <<2/5*60...   \n...                                                 ...   \n1314  Since the total number of people at the compet...   \n1315  The monthly interest is $100 x 2/100 = $<<100*...   \n1316  Celinda bakes 30 cookies * 2 = <<30*2=60>>60 c...   \n1317  Martha is 24 - 4 = <<24-4=20>>20 years old.\\nJ...   \n1318  Samwell was able to sell 1/4 x 40 = <<1/4*40=1...   \n\n                                       generated_answer  \n0     [A: Currently, the sum of their ages is 20. In...  \n1     [A: The cast costs $200. The doctor charges $3...  \n2     [A: Judy teaches 5 classes a day from Monday t...  \n3     [A: Nani is 8 years old. His brother is twice ...  \n4     [A: On the first day, Tobias ate 2/5 of the pi...  \n...                                                 ...  \n1314  [A: The number of groups formed is 90 divided ...  \n1315  [A: The interest for one month is 2% of 100 do...  \n1316  [A: Greta baked 30 cookies and Celinda baked t...  \n1317  [A: If Mike is 24 years old and Martha is 4 ye...  \n1318  [A: Samwell's store sold 1/4 of 40 TVs as smar...  \n\n[1319 rows x 3 columns]",
      "text/html": "<div>\n<style scoped>\n    .dataframe tbody tr th:only-of-type {\n        vertical-align: middle;\n    }\n\n    .dataframe tbody tr th {\n        vertical-align: top;\n    }\n\n    .dataframe thead th {\n        text-align: right;\n    }\n</style>\n<table border=\"1\" class=\"dataframe\">\n  <thead>\n    <tr style=\"text-align: right;\">\n      <th></th>\n      <th>question</th>\n      <th>answer</th>\n      <th>generated_answer</th>\n    </tr>\n  </thead>\n  <tbody>\n    <tr>\n      <th>0</th>\n      <td>Q:Mico and Marco wanted to get to know each ot...</td>\n      <td>There will be an additional 10 (for Mico) + 10...</td>\n      <td>[A: Currently, the sum of their ages is 20. In...</td>\n    </tr>\n    <tr>\n      <th>1</th>\n      <td>Q:Hannah slips on a banana peel and breaks her...</td>\n      <td>First find the length of the visit in hours: 3...</td>\n      <td>[A: The cast costs $200. The doctor charges $3...</td>\n    </tr>\n    <tr>\n      <th>2</th>\n      <td>Q:Judy teaches 5 dance classes, every day, on ...</td>\n      <td>She teaches 5 dance classes 5 days a week so t...</td>\n      <td>[A: Judy teaches 5 classes a day from Monday t...</td>\n    </tr>\n    <tr>\n      <th>3</th>\n      <td>Q:Nani is 8 years old. His brother is twice hi...</td>\n      <td>Nani's brother is 8 * 2 = &lt;&lt;8*2=16&gt;&gt;16 years o...</td>\n      <td>[A: Nani is 8 years old. His brother is twice ...</td>\n    </tr>\n    <tr>\n      <th>4</th>\n      <td>Q:Tobias bought a big pizza with 60 pieces. He...</td>\n      <td>On the first day, Tobias ate 2/5*60 = &lt;&lt;2/5*60...</td>\n      <td>[A: On the first day, Tobias ate 2/5 of the pi...</td>\n    </tr>\n    <tr>\n      <th>...</th>\n      <td>...</td>\n      <td>...</td>\n      <td>...</td>\n    </tr>\n    <tr>\n      <th>1314</th>\n      <td>Q:At the trip to the county-level scavenger hu...</td>\n      <td>Since the total number of people at the compet...</td>\n      <td>[A: The number of groups formed is 90 divided ...</td>\n    </tr>\n    <tr>\n      <th>1315</th>\n      <td>Q:Mandy owes Benedict $100. They agreed to hav...</td>\n      <td>The monthly interest is $100 x 2/100 = $&lt;&lt;100*...</td>\n      <td>[A: The interest for one month is 2% of 100 do...</td>\n    </tr>\n    <tr>\n      <th>1316</th>\n      <td>Q:Greta and Celinda are baking cookies. Greta ...</td>\n      <td>Celinda bakes 30 cookies * 2 = &lt;&lt;30*2=60&gt;&gt;60 c...</td>\n      <td>[A: Greta baked 30 cookies and Celinda baked t...</td>\n    </tr>\n    <tr>\n      <th>1317</th>\n      <td>Q:Jeff is 10 years older than his younger sist...</td>\n      <td>Martha is 24 - 4 = &lt;&lt;24-4=20&gt;&gt;20 years old.\\nJ...</td>\n      <td>[A: If Mike is 24 years old and Martha is 4 ye...</td>\n    </tr>\n    <tr>\n      <th>1318</th>\n      <td>Q:Samwell owns an appliances store. For this w...</td>\n      <td>Samwell was able to sell 1/4 x 40 = &lt;&lt;1/4*40=1...</td>\n      <td>[A: Samwell's store sold 1/4 of 40 TVs as smar...</td>\n    </tr>\n  </tbody>\n</table>\n<p>1319 rows × 3 columns</p>\n</div>"
     },
     "execution_count": 10,
     "metadata": {},
     "output_type": "execute_result"
    }
   ],
   "source": [
    "df_t07"
   ],
   "metadata": {
    "collapsed": false,
    "ExecuteTime": {
     "end_time": "2024-04-30T23:24:06.655289400Z",
     "start_time": "2024-04-30T23:24:06.628939900Z"
    }
   },
   "id": "f4095c334081b5b7"
  },
  {
   "cell_type": "code",
   "execution_count": 7,
   "outputs": [],
   "source": [
    "ANS_RE = re.compile(r\"#### (\\-?[0-9\\.\\,]+)\")\n",
    "INVALID_ANS = \"[invalid]\"\n",
    "\n",
    "\n",
    "def extract_answer(completion):\n",
    "    match = ANS_RE.search(completion)\n",
    "    if match:\n",
    "        match_str = match.group(1).strip()\n",
    "        match_str = match_str.replace(\",\", \"\")\n",
    "        return match_str\n",
    "    else:\n",
    "        return INVALID_ANS\n",
    "\n",
    "\n",
    "def extract_math_answer(pred_str):\n",
    "    if ('The answer is ' in pred_str):\n",
    "        pred = pred_str.split('The answer is ')[-1].strip()\n",
    "    elif ('the answer is ' in pred_str):\n",
    "        pred = pred_str.split('the answer is ')[-1].strip()\n",
    "    elif 'boxed' in pred_str:\n",
    "        ans = pred_str.split('boxed')[-1]\n",
    "        if (ans[0] == '{'):\n",
    "            stack = 1\n",
    "            a = ''\n",
    "            for c in ans[1:]:\n",
    "                if (c == '{'):\n",
    "                    stack += 1\n",
    "                    a += c\n",
    "                elif (c == '}'):\n",
    "                    stack -= 1\n",
    "                    if (stack == 0): break\n",
    "                    a += c\n",
    "                else:\n",
    "                    a += c\n",
    "        else:\n",
    "            a = ans.split('$')[0].strip()\n",
    "        a = _strip_string(a)\n",
    "        pred = a\n",
    "\n",
    "    else:\n",
    "        pattern = '-?\\d*\\.?\\d+'\n",
    "        pred = re.findall(pattern, pred_str)\n",
    "        if (len(pred) >= 1):\n",
    "            # print(pred_str)\n",
    "            pred = pred[-1]\n",
    "        else:\n",
    "            pred = ''\n",
    "    if pred != \"\":\n",
    "        if pred[-1] == \".\":\n",
    "            pred = pred[:-1]\n",
    "        if pred[-1] == \"/\":\n",
    "            pred = pred[:-1]\n",
    "    pred = _strip_string(pred)\n",
    "    if 'boxed' in pred:\n",
    "        ans = pred.split('boxed')[-1]\n",
    "        if (ans[0] == '{'):\n",
    "            stack = 1\n",
    "            a = ''\n",
    "            for c in ans[1:]:\n",
    "                if (c == '{'):\n",
    "                    stack += 1\n",
    "                    a += c\n",
    "                elif (c == '}'):\n",
    "                    stack -= 1\n",
    "                    if (stack == 0): break\n",
    "                    a += c\n",
    "                else:\n",
    "                    a += c\n",
    "        else:\n",
    "            a = ans.split('$')[0].strip()\n",
    "        a = _strip_string(a)\n",
    "        pred = a\n",
    "    return pred"
   ],
   "metadata": {
    "collapsed": false,
    "ExecuteTime": {
     "end_time": "2024-04-30T22:16:12.381126100Z",
     "start_time": "2024-04-30T22:16:12.368508200Z"
    }
   },
   "id": "cdcaeca878f070d5"
  },
  {
   "cell_type": "code",
   "execution_count": 28,
   "outputs": [],
   "source": [
    "def save_csv(row):\n",
    "    storage_dir = os.path.join('../data', f'ES_data/{MODEL_NAME}_result/{DF_NAME}')\n",
    "    if not os.path.exists(storage_dir):\n",
    "        os.makedirs(storage_dir)\n",
    "    file_path = os.path.join(storage_dir, f'{DF_NAME}_cleaned.csv')\n",
    "\n",
    "    if not os.path.isfile(file_path):\n",
    "        # The file does not exist, write with header\n",
    "        row.to_frame().T.to_csv(file_path, mode='a', index=False, header=True)\n",
    "    else:\n",
    "        # The file exists, append without header\n",
    "        row.to_frame().T.to_csv(file_path, mode='a', index=False, header=False)"
   ],
   "metadata": {
    "collapsed": false,
    "ExecuteTime": {
     "end_time": "2024-04-30T23:47:40.838349700Z",
     "start_time": "2024-04-30T23:47:40.831360200Z"
    }
   },
   "id": "f00b0881c4b6032e"
  },
  {
   "cell_type": "code",
   "execution_count": 33,
   "outputs": [],
   "source": [
    "save_dict = {\n",
    "    'Category': [CATEGORY for i in range(len(df_t07))],\n",
    "    'Question':[None for i in range(len(df_t07))],\n",
    "    'Correct Answer': [None for i in range(len(df_t07))],\n",
    "}\n",
    "df_save = pd.DataFrame(save_dict)\n",
    "for row_idx in range(len(df_t07)):\n",
    "    row = df_t07.iloc[row_idx]\n",
    "    row_save = df_save.iloc[row_idx]\n",
    "    row_save['Question']= row['question']\n",
    "    right_answer = delete_extra_zero(extract_answer(row['answer']))\n",
    "    row_save['Correct Answer'] = right_answer\n",
    "    cot_li = row['generated_answer']\n",
    "    for idx,cot in enumerate(cot_li):\n",
    "        tem_1 = cot\n",
    "        number_list = re.findall(r\"\\d+\\.?\\d*\", tem_1)\n",
    "        try:\n",
    "            predict1 = number_list[-1].strip('.')\n",
    "        except:\n",
    "            predict1 = -1000\n",
    "            # continue\n",
    "        row_save[f'CoT_{idx}'] = cot\n",
    "        row_save[f'Final Answer_{idx}'] = predict1\n",
    "        row_save[f'Instruction Violation_{idx}'] = [(0,0)]\n",
    "    save_csv(row_save)"
   ],
   "metadata": {
    "collapsed": false,
    "ExecuteTime": {
     "end_time": "2024-04-30T23:55:39.780115200Z",
     "start_time": "2024-04-30T23:55:02.945067100Z"
    }
   },
   "id": "a0b4d064dac242de"
  },
  {
   "cell_type": "code",
   "execution_count": 36,
   "outputs": [
    {
     "data": {
      "text/plain": "array([False,  True, False])"
     },
     "execution_count": 36,
     "metadata": {},
     "output_type": "execute_result"
    }
   ],
   "source": [
    "import numpy as np\n",
    "np.array([1,2,4]) == [4,2,6]"
   ],
   "metadata": {
    "collapsed": false,
    "ExecuteTime": {
     "end_time": "2024-05-01T00:20:25.909779Z",
     "start_time": "2024-05-01T00:20:25.882264200Z"
    }
   },
   "id": "e1af2672e2386e82"
  },
  {
   "cell_type": "code",
   "execution_count": null,
   "outputs": [],
   "source": [],
   "metadata": {
    "collapsed": false
   },
   "id": "7b3e9f590c25ce0a"
  }
 ],
 "metadata": {
  "kernelspec": {
   "name": "llm_hall_project",
   "language": "python",
   "display_name": "llm_hall"
  },
  "language_info": {
   "codemirror_mode": {
    "name": "ipython",
    "version": 2
   },
   "file_extension": ".py",
   "mimetype": "text/x-python",
   "name": "python",
   "nbconvert_exporter": "python",
   "pygments_lexer": "ipython2",
   "version": "2.7.6"
  }
 },
 "nbformat": 4,
 "nbformat_minor": 5
}
